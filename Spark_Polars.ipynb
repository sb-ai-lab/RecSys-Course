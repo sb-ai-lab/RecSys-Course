{
 "cells": [
  {
   "cell_type": "code",
   "execution_count": 1,
   "metadata": {
    "colab": {
     "base_uri": "https://localhost:8080/"
    },
    "id": "HY_wUrDiPGGL",
    "outputId": "43129db7-4a1c-4dca-c281-6d845412e4f4"
   },
   "outputs": [],
   "source": [
    "!pip install replay-rec[all] --quiet\n",
    "!pip install pyspark\n",
    "!pip install rs_datasets"
   ]
  },
  {
   "cell_type": "code",
   "execution_count": 2,
   "metadata": {
    "colab": {
     "base_uri": "https://localhost:8080/",
     "height": 17
    },
    "id": "oKNU-TW-PM0K",
    "outputId": "90a50fba-39d3-46f0-e04e-f7ccc994f3b7"
   },
   "outputs": [
    {
     "data": {
      "text/html": [
       "<style type='text/css'>\n",
       ".datatable table.frame { margin-bottom: 0; }\n",
       ".datatable table.frame thead { border-bottom: none; }\n",
       ".datatable table.frame tr.coltypes td {  color: #FFFFFF;  line-height: 6px;  padding: 0 0.5em;}\n",
       ".datatable .bool    { background: #DDDD99; }\n",
       ".datatable .object  { background: #565656; }\n",
       ".datatable .int     { background: #5D9E5D; }\n",
       ".datatable .float   { background: #4040CC; }\n",
       ".datatable .str     { background: #CC4040; }\n",
       ".datatable .time    { background: #40CC40; }\n",
       ".datatable .row_index {  background: var(--jp-border-color3);  border-right: 1px solid var(--jp-border-color0);  color: var(--jp-ui-font-color3);  font-size: 9px;}\n",
       ".datatable .frame tbody td { text-align: left; }\n",
       ".datatable .frame tr.coltypes .row_index {  background: var(--jp-border-color0);}\n",
       ".datatable th:nth-child(2) { padding-left: 12px; }\n",
       ".datatable .hellipsis {  color: var(--jp-cell-editor-border-color);}\n",
       ".datatable .vellipsis {  background: var(--jp-layout-color0);  color: var(--jp-cell-editor-border-color);}\n",
       ".datatable .na {  color: var(--jp-cell-editor-border-color);  font-size: 80%;}\n",
       ".datatable .sp {  opacity: 0.25;}\n",
       ".datatable .footer { font-size: 9px; }\n",
       ".datatable .frame_dimensions {  background: var(--jp-border-color3);  border-top: 1px solid var(--jp-border-color0);  color: var(--jp-ui-font-color3);  display: inline-block;  opacity: 0.6;  padding: 1px 10px 1px 5px;}\n",
       "</style>\n"
      ],
      "text/plain": [
       "<IPython.core.display.HTML object>"
      ]
     },
     "metadata": {},
     "output_type": "display_data"
    }
   ],
   "source": [
    "import numpy as np\n",
    "import pandas as pd\n",
    "from replay.splitters import TimeSplitter\n",
    "from rs_datasets import MovieLens\n",
    "\n",
    "from pyspark.sql import SparkSession\n",
    "from pyspark.sql.functions import col, avg, count, max, min\n",
    "from rs_datasets import MovieLens\n",
    "import polars as pl\n",
    "\n",
    "import warnings\n",
    "warnings.filterwarnings(\"ignore\")"
   ]
  },
  {
   "cell_type": "markdown",
   "metadata": {
    "id": "qoKiu7Etg7lF"
   },
   "source": [
    "##Spark pipeline"
   ]
  },
  {
   "cell_type": "markdown",
   "metadata": {
    "id": "4CY42_WBTAv9"
   },
   "source": [
    "### Скачивание датасета"
   ]
  },
  {
   "cell_type": "code",
   "execution_count": 3,
   "metadata": {
    "colab": {
     "base_uri": "https://localhost:8080/",
     "height": 238
    },
    "id": "G9MOksCrPTVV",
    "outputId": "8271fb8f-02f6-4cda-dbb9-e076d55f8e1b"
   },
   "outputs": [
    {
     "name": "stderr",
     "output_type": "stream",
     "text": [
      "INFO:rs_datasets:Downloading ml-1m from grouplens...\n",
      "5.93MB [00:00, 9.01MB/s]                            \n"
     ]
    },
    {
     "data": {
      "application/vnd.google.colaboratory.intrinsic+json": {
       "type": "dataframe",
       "variable_name": "pandas_data"
      },
      "text/html": [
       "\n",
       "  <div id=\"df-5ab0c1e3-5397-4b20-a7cb-7f3331971a09\" class=\"colab-df-container\">\n",
       "    <div>\n",
       "<style scoped>\n",
       "    .dataframe tbody tr th:only-of-type {\n",
       "        vertical-align: middle;\n",
       "    }\n",
       "\n",
       "    .dataframe tbody tr th {\n",
       "        vertical-align: top;\n",
       "    }\n",
       "\n",
       "    .dataframe thead th {\n",
       "        text-align: right;\n",
       "    }\n",
       "</style>\n",
       "<table border=\"1\" class=\"dataframe\">\n",
       "  <thead>\n",
       "    <tr style=\"text-align: right;\">\n",
       "      <th></th>\n",
       "      <th>user_id</th>\n",
       "      <th>item_id</th>\n",
       "      <th>rating</th>\n",
       "      <th>timestamp</th>\n",
       "    </tr>\n",
       "  </thead>\n",
       "  <tbody>\n",
       "    <tr>\n",
       "      <th>0</th>\n",
       "      <td>1</td>\n",
       "      <td>1193</td>\n",
       "      <td>5</td>\n",
       "      <td>978300760</td>\n",
       "    </tr>\n",
       "    <tr>\n",
       "      <th>1</th>\n",
       "      <td>1</td>\n",
       "      <td>661</td>\n",
       "      <td>3</td>\n",
       "      <td>978302109</td>\n",
       "    </tr>\n",
       "    <tr>\n",
       "      <th>2</th>\n",
       "      <td>1</td>\n",
       "      <td>914</td>\n",
       "      <td>3</td>\n",
       "      <td>978301968</td>\n",
       "    </tr>\n",
       "    <tr>\n",
       "      <th>3</th>\n",
       "      <td>1</td>\n",
       "      <td>3408</td>\n",
       "      <td>4</td>\n",
       "      <td>978300275</td>\n",
       "    </tr>\n",
       "    <tr>\n",
       "      <th>4</th>\n",
       "      <td>1</td>\n",
       "      <td>2355</td>\n",
       "      <td>5</td>\n",
       "      <td>978824291</td>\n",
       "    </tr>\n",
       "  </tbody>\n",
       "</table>\n",
       "</div>\n",
       "    <div class=\"colab-df-buttons\">\n",
       "\n",
       "  <div class=\"colab-df-container\">\n",
       "    <button class=\"colab-df-convert\" onclick=\"convertToInteractive('df-5ab0c1e3-5397-4b20-a7cb-7f3331971a09')\"\n",
       "            title=\"Convert this dataframe to an interactive table.\"\n",
       "            style=\"display:none;\">\n",
       "\n",
       "  <svg xmlns=\"http://www.w3.org/2000/svg\" height=\"24px\" viewBox=\"0 -960 960 960\">\n",
       "    <path d=\"M120-120v-720h720v720H120Zm60-500h600v-160H180v160Zm220 220h160v-160H400v160Zm0 220h160v-160H400v160ZM180-400h160v-160H180v160Zm440 0h160v-160H620v160ZM180-180h160v-160H180v160Zm440 0h160v-160H620v160Z\"/>\n",
       "  </svg>\n",
       "    </button>\n",
       "\n",
       "  <style>\n",
       "    .colab-df-container {\n",
       "      display:flex;\n",
       "      gap: 12px;\n",
       "    }\n",
       "\n",
       "    .colab-df-convert {\n",
       "      background-color: #E8F0FE;\n",
       "      border: none;\n",
       "      border-radius: 50%;\n",
       "      cursor: pointer;\n",
       "      display: none;\n",
       "      fill: #1967D2;\n",
       "      height: 32px;\n",
       "      padding: 0 0 0 0;\n",
       "      width: 32px;\n",
       "    }\n",
       "\n",
       "    .colab-df-convert:hover {\n",
       "      background-color: #E2EBFA;\n",
       "      box-shadow: 0px 1px 2px rgba(60, 64, 67, 0.3), 0px 1px 3px 1px rgba(60, 64, 67, 0.15);\n",
       "      fill: #174EA6;\n",
       "    }\n",
       "\n",
       "    .colab-df-buttons div {\n",
       "      margin-bottom: 4px;\n",
       "    }\n",
       "\n",
       "    [theme=dark] .colab-df-convert {\n",
       "      background-color: #3B4455;\n",
       "      fill: #D2E3FC;\n",
       "    }\n",
       "\n",
       "    [theme=dark] .colab-df-convert:hover {\n",
       "      background-color: #434B5C;\n",
       "      box-shadow: 0px 1px 3px 1px rgba(0, 0, 0, 0.15);\n",
       "      filter: drop-shadow(0px 1px 2px rgba(0, 0, 0, 0.3));\n",
       "      fill: #FFFFFF;\n",
       "    }\n",
       "  </style>\n",
       "\n",
       "    <script>\n",
       "      const buttonEl =\n",
       "        document.querySelector('#df-5ab0c1e3-5397-4b20-a7cb-7f3331971a09 button.colab-df-convert');\n",
       "      buttonEl.style.display =\n",
       "        google.colab.kernel.accessAllowed ? 'block' : 'none';\n",
       "\n",
       "      async function convertToInteractive(key) {\n",
       "        const element = document.querySelector('#df-5ab0c1e3-5397-4b20-a7cb-7f3331971a09');\n",
       "        const dataTable =\n",
       "          await google.colab.kernel.invokeFunction('convertToInteractive',\n",
       "                                                    [key], {});\n",
       "        if (!dataTable) return;\n",
       "\n",
       "        const docLinkHtml = 'Like what you see? Visit the ' +\n",
       "          '<a target=\"_blank\" href=https://colab.research.google.com/notebooks/data_table.ipynb>data table notebook</a>'\n",
       "          + ' to learn more about interactive tables.';\n",
       "        element.innerHTML = '';\n",
       "        dataTable['output_type'] = 'display_data';\n",
       "        await google.colab.output.renderOutput(dataTable, element);\n",
       "        const docLink = document.createElement('div');\n",
       "        docLink.innerHTML = docLinkHtml;\n",
       "        element.appendChild(docLink);\n",
       "      }\n",
       "    </script>\n",
       "  </div>\n",
       "\n",
       "\n",
       "<div id=\"df-2954e3bb-f7a2-48e1-b730-3f8dc022e171\">\n",
       "  <button class=\"colab-df-quickchart\" onclick=\"quickchart('df-2954e3bb-f7a2-48e1-b730-3f8dc022e171')\"\n",
       "            title=\"Suggest charts\"\n",
       "            style=\"display:none;\">\n",
       "\n",
       "<svg xmlns=\"http://www.w3.org/2000/svg\" height=\"24px\"viewBox=\"0 0 24 24\"\n",
       "     width=\"24px\">\n",
       "    <g>\n",
       "        <path d=\"M19 3H5c-1.1 0-2 .9-2 2v14c0 1.1.9 2 2 2h14c1.1 0 2-.9 2-2V5c0-1.1-.9-2-2-2zM9 17H7v-7h2v7zm4 0h-2V7h2v10zm4 0h-2v-4h2v4z\"/>\n",
       "    </g>\n",
       "</svg>\n",
       "  </button>\n",
       "\n",
       "<style>\n",
       "  .colab-df-quickchart {\n",
       "      --bg-color: #E8F0FE;\n",
       "      --fill-color: #1967D2;\n",
       "      --hover-bg-color: #E2EBFA;\n",
       "      --hover-fill-color: #174EA6;\n",
       "      --disabled-fill-color: #AAA;\n",
       "      --disabled-bg-color: #DDD;\n",
       "  }\n",
       "\n",
       "  [theme=dark] .colab-df-quickchart {\n",
       "      --bg-color: #3B4455;\n",
       "      --fill-color: #D2E3FC;\n",
       "      --hover-bg-color: #434B5C;\n",
       "      --hover-fill-color: #FFFFFF;\n",
       "      --disabled-bg-color: #3B4455;\n",
       "      --disabled-fill-color: #666;\n",
       "  }\n",
       "\n",
       "  .colab-df-quickchart {\n",
       "    background-color: var(--bg-color);\n",
       "    border: none;\n",
       "    border-radius: 50%;\n",
       "    cursor: pointer;\n",
       "    display: none;\n",
       "    fill: var(--fill-color);\n",
       "    height: 32px;\n",
       "    padding: 0;\n",
       "    width: 32px;\n",
       "  }\n",
       "\n",
       "  .colab-df-quickchart:hover {\n",
       "    background-color: var(--hover-bg-color);\n",
       "    box-shadow: 0 1px 2px rgba(60, 64, 67, 0.3), 0 1px 3px 1px rgba(60, 64, 67, 0.15);\n",
       "    fill: var(--button-hover-fill-color);\n",
       "  }\n",
       "\n",
       "  .colab-df-quickchart-complete:disabled,\n",
       "  .colab-df-quickchart-complete:disabled:hover {\n",
       "    background-color: var(--disabled-bg-color);\n",
       "    fill: var(--disabled-fill-color);\n",
       "    box-shadow: none;\n",
       "  }\n",
       "\n",
       "  .colab-df-spinner {\n",
       "    border: 2px solid var(--fill-color);\n",
       "    border-color: transparent;\n",
       "    border-bottom-color: var(--fill-color);\n",
       "    animation:\n",
       "      spin 1s steps(1) infinite;\n",
       "  }\n",
       "\n",
       "  @keyframes spin {\n",
       "    0% {\n",
       "      border-color: transparent;\n",
       "      border-bottom-color: var(--fill-color);\n",
       "      border-left-color: var(--fill-color);\n",
       "    }\n",
       "    20% {\n",
       "      border-color: transparent;\n",
       "      border-left-color: var(--fill-color);\n",
       "      border-top-color: var(--fill-color);\n",
       "    }\n",
       "    30% {\n",
       "      border-color: transparent;\n",
       "      border-left-color: var(--fill-color);\n",
       "      border-top-color: var(--fill-color);\n",
       "      border-right-color: var(--fill-color);\n",
       "    }\n",
       "    40% {\n",
       "      border-color: transparent;\n",
       "      border-right-color: var(--fill-color);\n",
       "      border-top-color: var(--fill-color);\n",
       "    }\n",
       "    60% {\n",
       "      border-color: transparent;\n",
       "      border-right-color: var(--fill-color);\n",
       "    }\n",
       "    80% {\n",
       "      border-color: transparent;\n",
       "      border-right-color: var(--fill-color);\n",
       "      border-bottom-color: var(--fill-color);\n",
       "    }\n",
       "    90% {\n",
       "      border-color: transparent;\n",
       "      border-bottom-color: var(--fill-color);\n",
       "    }\n",
       "  }\n",
       "</style>\n",
       "\n",
       "  <script>\n",
       "    async function quickchart(key) {\n",
       "      const quickchartButtonEl =\n",
       "        document.querySelector('#' + key + ' button');\n",
       "      quickchartButtonEl.disabled = true;  // To prevent multiple clicks.\n",
       "      quickchartButtonEl.classList.add('colab-df-spinner');\n",
       "      try {\n",
       "        const charts = await google.colab.kernel.invokeFunction(\n",
       "            'suggestCharts', [key], {});\n",
       "      } catch (error) {\n",
       "        console.error('Error during call to suggestCharts:', error);\n",
       "      }\n",
       "      quickchartButtonEl.classList.remove('colab-df-spinner');\n",
       "      quickchartButtonEl.classList.add('colab-df-quickchart-complete');\n",
       "    }\n",
       "    (() => {\n",
       "      let quickchartButtonEl =\n",
       "        document.querySelector('#df-2954e3bb-f7a2-48e1-b730-3f8dc022e171 button');\n",
       "      quickchartButtonEl.style.display =\n",
       "        google.colab.kernel.accessAllowed ? 'block' : 'none';\n",
       "    })();\n",
       "  </script>\n",
       "</div>\n",
       "    </div>\n",
       "  </div>\n"
      ],
      "text/plain": [
       "   user_id  item_id  rating  timestamp\n",
       "0        1     1193       5  978300760\n",
       "1        1      661       3  978302109\n",
       "2        1      914       3  978301968\n",
       "3        1     3408       4  978300275\n",
       "4        1     2355       5  978824291"
      ]
     },
     "execution_count": 3,
     "metadata": {},
     "output_type": "execute_result"
    }
   ],
   "source": [
    "ml = MovieLens(\"1m\")\n",
    "pandas_data = ml.ratings\n",
    "pandas_data.head()"
   ]
  },
  {
   "cell_type": "markdown",
   "metadata": {
    "id": "40BZu3LLTHIZ"
   },
   "source": [
    "### Создание Spark сессии и открытие датасета"
   ]
  },
  {
   "cell_type": "code",
   "execution_count": 4,
   "metadata": {
    "id": "icxuDIZ4RNVq"
   },
   "outputs": [],
   "source": [
    "spark = SparkSession.builder \\\n",
    "    .appName(\"Spark DataFrame Examples\") \\\n",
    "    .getOrCreate()"
   ]
  },
  {
   "cell_type": "code",
   "execution_count": 5,
   "metadata": {
    "id": "ArghWA89v-DJ"
   },
   "outputs": [],
   "source": [
    "from replay.utils.spark_utils import convert2spark"
   ]
  },
  {
   "cell_type": "code",
   "execution_count": 6,
   "metadata": {
    "id": "b9jdJKJCRfZU"
   },
   "outputs": [],
   "source": [
    "data = convert2spark(pandas_data)"
   ]
  },
  {
   "cell_type": "markdown",
   "metadata": {
    "id": "n_YAPeRqTSQm"
   },
   "source": [
    "Предобработка датасета"
   ]
  },
  {
   "cell_type": "code",
   "execution_count": 7,
   "metadata": {
    "id": "7G7V3nB0j97T"
   },
   "outputs": [],
   "source": [
    "from replay.preprocessing.filters import MinCountFilter"
   ]
  },
  {
   "cell_type": "code",
   "execution_count": 8,
   "metadata": {
    "id": "ab9BzgeHM7jH"
   },
   "outputs": [],
   "source": [
    "data = MinCountFilter(num_entries=20).transform(data)"
   ]
  },
  {
   "cell_type": "markdown",
   "metadata": {
    "id": "rS5VpAOoM3Jr"
   },
   "source": [
    "### Анализ датасета на Spark"
   ]
  },
  {
   "cell_type": "markdown",
   "metadata": {
    "id": "HzTo-WyYTtua"
   },
   "source": [
    "Схема датасета"
   ]
  },
  {
   "cell_type": "code",
   "execution_count": 9,
   "metadata": {
    "colab": {
     "base_uri": "https://localhost:8080/"
    },
    "id": "YYDBIqAWR9yc",
    "outputId": "bfa28ffa-16c9-41fd-fb20-030d5ea9c541"
   },
   "outputs": [
    {
     "name": "stdout",
     "output_type": "stream",
     "text": [
      "root\n",
      " |-- user_id: integer (nullable = true)\n",
      " |-- item_id: integer (nullable = true)\n",
      " |-- rating: integer (nullable = true)\n",
      " |-- timestamp: integer (nullable = true)\n",
      "\n"
     ]
    }
   ],
   "source": [
    "data.printSchema()"
   ]
  },
  {
   "cell_type": "code",
   "execution_count": 10,
   "metadata": {
    "colab": {
     "base_uri": "https://localhost:8080/"
    },
    "id": "VFgz0FCYSN9-",
    "outputId": "30f66fcb-f171-46d3-a282-148d76b2715e"
   },
   "outputs": [
    {
     "name": "stdout",
     "output_type": "stream",
     "text": [
      "+-------+-------+------+---------+\n",
      "|user_id|item_id|rating|timestamp|\n",
      "+-------+-------+------+---------+\n",
      "|      2|   1357|     5|978298709|\n",
      "|      2|   3068|     4|978299000|\n",
      "|      2|   1537|     4|978299620|\n",
      "|      2|    647|     3|978299351|\n",
      "|      2|   2194|     4|978299297|\n",
      "+-------+-------+------+---------+\n",
      "only showing top 5 rows\n",
      "\n"
     ]
    }
   ],
   "source": [
    "data.show(5)"
   ]
  },
  {
   "cell_type": "code",
   "execution_count": 11,
   "metadata": {
    "colab": {
     "base_uri": "https://localhost:8080/"
    },
    "id": "nO5yCQF9iD-V",
    "outputId": "fd13b136-6082-4432-fff3-df52bbeab569"
   },
   "outputs": [
    {
     "name": "stdout",
     "output_type": "stream",
     "text": [
      "Количество уникальных пользователей: 6040\n",
      "Количество уникальных айтемов: 3706\n",
      "Общее количество взаимодействий: 1000209\n"
     ]
    }
   ],
   "source": [
    "unique_users_count = data.select(\"user_id\").distinct().count()\n",
    "unique_items_count = data.select(\"item_id\").distinct().count()\n",
    "total_rows_count = data.count()\n",
    "\n",
    "print(f\"Количество уникальных пользователей: {unique_users_count}\")\n",
    "print(f\"Количество уникальных айтемов: {unique_items_count}\")\n",
    "print(f\"Общее количество взаимодействий: {total_rows_count}\")"
   ]
  },
  {
   "cell_type": "code",
   "execution_count": 12,
   "metadata": {
    "colab": {
     "base_uri": "https://localhost:8080/"
    },
    "id": "JmoYfDoKoRpx",
    "outputId": "8b1f48bd-6365-4786-8232-a98f53dc061a"
   },
   "outputs": [
    {
     "name": "stdout",
     "output_type": "stream",
     "text": [
      "Среднее количество взаимодействий: 165\n",
      "Плотность данных: 0.045\n"
     ]
    }
   ],
   "source": [
    "user_item_counts = data.groupBy(\"user_id\").agg(count(\"item_id\").alias(\"item_count\"))\n",
    "average_item_count = user_item_counts.agg(avg(\"item_count\")).first()[0]\n",
    "density = total_rows_count / (unique_items_count * unique_users_count)\n",
    "\n",
    "print(f\"Среднее количество взаимодействий: {int(average_item_count)}\")\n",
    "print(f\"Плотность данных: {round(density,3)}\")"
   ]
  },
  {
   "cell_type": "markdown",
   "metadata": {
    "id": "z3ng3RrgWalY"
   },
   "source": [
    "### Разбиение данных"
   ]
  },
  {
   "cell_type": "code",
   "execution_count": 13,
   "metadata": {
    "id": "iaMkVDaLU-Yr"
   },
   "outputs": [],
   "source": [
    "train, test = TimeSplitter(time_threshold=0.2,\n",
    "                           drop_cold_users=True,\n",
    "                           drop_cold_items=True,\n",
    "                           query_column=\"user_id\").split(data)"
   ]
  },
  {
   "cell_type": "markdown",
   "metadata": {
    "id": "9JFUZdLbkGQ0"
   },
   "source": [
    "оставим в test взаимодействия с оценкой не ниже 4"
   ]
  },
  {
   "cell_type": "code",
   "execution_count": 14,
   "metadata": {
    "id": "gEL4vnf-OBhu"
   },
   "outputs": [],
   "source": [
    "from replay.preprocessing.filters import LowRatingFilter"
   ]
  },
  {
   "cell_type": "code",
   "execution_count": 15,
   "metadata": {
    "id": "SUHp_hspkPSJ"
   },
   "outputs": [],
   "source": [
    "test = LowRatingFilter(value=4, rating_column=\"rating\").transform(test)"
   ]
  },
  {
   "cell_type": "code",
   "execution_count": 16,
   "metadata": {
    "colab": {
     "base_uri": "https://localhost:8080/"
    },
    "id": "bojzscGrXhiz",
    "outputId": "b923162c-0f6f-4eaa-ae12-2fe50293ed15"
   },
   "outputs": [
    {
     "name": "stdout",
     "output_type": "stream",
     "text": [
      "Количество уникальных пользователей в train: 5400\n",
      "Количество уникальных айтемов в train: 3662\n",
      "Общее количество строк в train: 800164\n"
     ]
    }
   ],
   "source": [
    "unique_users_count = train.select(\"user_id\").distinct().count()\n",
    "unique_items_count = train.select(\"item_id\").distinct().count()\n",
    "total_rows_count = train.count()\n",
    "\n",
    "print(f\"Количество уникальных пользователей в train: {unique_users_count}\")\n",
    "print(f\"Количество уникальных айтемов в train: {unique_items_count}\")\n",
    "print(f\"Общее количество строк в train: {total_rows_count}\")"
   ]
  },
  {
   "cell_type": "code",
   "execution_count": 17,
   "metadata": {
    "colab": {
     "base_uri": "https://localhost:8080/"
    },
    "id": "Xypswh35jIMb",
    "outputId": "d01d28a1-1c21-44b2-893b-15f59910abec"
   },
   "outputs": [
    {
     "name": "stdout",
     "output_type": "stream",
     "text": [
      "Количество уникальных пользователей в test: 1122\n",
      "Количество уникальных айтемов в test: 3021\n",
      "Общее количество строк в test: 56249\n"
     ]
    }
   ],
   "source": [
    "unique_users_count = test.select(\"user_id\").distinct().count()\n",
    "unique_items_count = test.select(\"item_id\").distinct().count()\n",
    "total_rows_count = test.count()\n",
    "\n",
    "print(f\"Количество уникальных пользователей в test: {unique_users_count}\")\n",
    "print(f\"Количество уникальных айтемов в test: {unique_items_count}\")\n",
    "print(f\"Общее количество строк в test: {total_rows_count}\")"
   ]
  },
  {
   "cell_type": "markdown",
   "metadata": {
    "id": "wdGt5eptad3V"
   },
   "source": [
    "### Подготовка данных"
   ]
  },
  {
   "cell_type": "code",
   "execution_count": 18,
   "metadata": {
    "id": "g8csfdYRasUi"
   },
   "outputs": [],
   "source": [
    "from replay.data.dataset import Dataset, FeatureSchema, FeatureInfo, FeatureHint, FeatureType\n",
    "from replay.data.dataset_utils import DatasetLabelEncoder"
   ]
  },
  {
   "cell_type": "code",
   "execution_count": 19,
   "metadata": {
    "id": "JHwHiuIVagbM"
   },
   "outputs": [],
   "source": [
    "feature_schema = FeatureSchema(\n",
    "     [\n",
    "         FeatureInfo(\n",
    "             column=\"user_id\",\n",
    "             feature_type=FeatureType.CATEGORICAL,\n",
    "             feature_hint=FeatureHint.QUERY_ID,\n",
    "         ),\n",
    "         FeatureInfo(\n",
    "             column=\"item_id\",\n",
    "             feature_type=FeatureType.CATEGORICAL,\n",
    "             feature_hint=FeatureHint.ITEM_ID,\n",
    "         ),\n",
    "        FeatureInfo(\n",
    "            column=\"rating\",\n",
    "            feature_type=FeatureType.NUMERICAL,\n",
    "            feature_hint=FeatureHint.RATING,\n",
    "         ),\n",
    "     ]\n",
    ")\n",
    "train_dataset = Dataset(feature_schema, train)\n",
    "test_dataset = Dataset(feature_schema, test)"
   ]
  },
  {
   "cell_type": "markdown",
   "metadata": {
    "id": "IGtUkEeQwOd_"
   },
   "source": [
    "Применим LabelEncoder"
   ]
  },
  {
   "cell_type": "code",
   "execution_count": 20,
   "metadata": {
    "colab": {
     "base_uri": "https://localhost:8080/"
    },
    "id": "dY0x7U0nwNK8",
    "outputId": "b53b2f6e-4575-4fad-aec3-222508575f39"
   },
   "outputs": [
    {
     "data": {
      "text/plain": [
       "<replay.data.dataset_utils.dataset_label_encoder.DatasetLabelEncoder at 0x7c9f846c79d0>"
      ]
     },
     "execution_count": 20,
     "metadata": {},
     "output_type": "execute_result"
    }
   ],
   "source": [
    "encoder = DatasetLabelEncoder()\n",
    "encoder.fit(train_dataset)"
   ]
  },
  {
   "cell_type": "code",
   "execution_count": 21,
   "metadata": {
    "id": "FlAy9eG2wclC"
   },
   "outputs": [],
   "source": [
    "train_dataset = encoder.transform(train_dataset)\n",
    "test_dataset = encoder.transform(test_dataset)"
   ]
  },
  {
   "cell_type": "markdown",
   "metadata": {
    "id": "Z2-nCrOkZPj0"
   },
   "source": [
    "### ALS"
   ]
  },
  {
   "cell_type": "code",
   "execution_count": 22,
   "metadata": {
    "id": "0p-d5Vd1Xk6o"
   },
   "outputs": [],
   "source": [
    "from replay.models import ALSWrap"
   ]
  },
  {
   "cell_type": "code",
   "execution_count": 23,
   "metadata": {
    "id": "J4X5nKXqZVWo"
   },
   "outputs": [],
   "source": [
    "model = ALSWrap(rank=32)"
   ]
  },
  {
   "cell_type": "code",
   "execution_count": 24,
   "metadata": {
    "id": "WD2wskzGZcBQ"
   },
   "outputs": [],
   "source": [
    "model.fit(train_dataset)"
   ]
  },
  {
   "cell_type": "code",
   "execution_count": 25,
   "metadata": {
    "colab": {
     "base_uri": "https://localhost:8080/"
    },
    "id": "VOEEMrC-Zik0",
    "outputId": "00e53664-7fc0-4856-e952-d00c73e24d09"
   },
   "outputs": [
    {
     "name": "stdout",
     "output_type": "stream",
     "text": [
      "+-------+-------+------------------+\n",
      "|user_id|item_id|            rating|\n",
      "+-------+-------+------------------+\n",
      "|      2|   3176|0.9856088757514954|\n",
      "|      2|   3200|0.9761657118797302|\n",
      "|      2|   1878|0.9660410284996033|\n",
      "|      2|   1949|0.9466403722763062|\n",
      "|      2|   3196|0.9440043568611145|\n",
      "+-------+-------+------------------+\n",
      "only showing top 5 rows\n",
      "\n"
     ]
    }
   ],
   "source": [
    "candidates = model.predict(dataset=train_dataset, k=10)\n",
    "candidates.show(5)"
   ]
  },
  {
   "cell_type": "markdown",
   "metadata": {
    "id": "C_Ua6XLAeYPT"
   },
   "source": [
    "### Подсчет метрик"
   ]
  },
  {
   "cell_type": "code",
   "execution_count": 26,
   "metadata": {
    "id": "i3IQTFsXdPKb"
   },
   "outputs": [],
   "source": [
    "from replay.metrics import HitRate, NDCG, MAP, Coverage, Experiment"
   ]
  },
  {
   "cell_type": "code",
   "execution_count": 27,
   "metadata": {
    "id": "VAClp-C9evaq"
   },
   "outputs": [],
   "source": [
    "metrics = [\n",
    "     HitRate(topk=10),\n",
    "     NDCG(topk=10),\n",
    "     MAP(topk=10),\n",
    "     Coverage(topk=10)]"
   ]
  },
  {
   "cell_type": "code",
   "execution_count": 28,
   "metadata": {
    "id": "Ibl5iTcz3j1l"
   },
   "outputs": [],
   "source": [
    "exp = Experiment(\n",
    "    metrics,\n",
    "    test_dataset.interactions,\n",
    "    train_dataset.interactions,\n",
    "    query_column=train_dataset.feature_schema.query_id_column,\n",
    "    item_column=train_dataset.feature_schema.item_id_column,\n",
    "    rating_column=train_dataset.feature_schema.interactions_rating_column,\n",
    ")"
   ]
  },
  {
   "cell_type": "code",
   "execution_count": 29,
   "metadata": {
    "colab": {
     "base_uri": "https://localhost:8080/",
     "height": 80
    },
    "id": "Tpim2vzM3plv",
    "outputId": "b4fc6116-e7c3-40e0-b897-0e60643b83d2"
   },
   "outputs": [
    {
     "data": {
      "application/vnd.google.colaboratory.intrinsic+json": {
       "summary": "{\n  \"name\": \"exp\",\n  \"rows\": 1,\n  \"fields\": [\n    {\n      \"column\": \"HitRate@10\",\n      \"properties\": {\n        \"dtype\": \"number\",\n        \"std\": null,\n        \"min\": 0.6327985739750446,\n        \"max\": 0.6327985739750446,\n        \"num_unique_values\": 1,\n        \"samples\": [\n          0.6327985739750446\n        ],\n        \"semantic_type\": \"\",\n        \"description\": \"\"\n      }\n    },\n    {\n      \"column\": \"NDCG@10\",\n      \"properties\": {\n        \"dtype\": \"number\",\n        \"std\": null,\n        \"min\": 0.20383006428655057,\n        \"max\": 0.20383006428655057,\n        \"num_unique_values\": 1,\n        \"samples\": [\n          0.20383006428655057\n        ],\n        \"semantic_type\": \"\",\n        \"description\": \"\"\n      }\n    },\n    {\n      \"column\": \"MAP@10\",\n      \"properties\": {\n        \"dtype\": \"number\",\n        \"std\": null,\n        \"min\": 0.116949062874308,\n        \"max\": 0.116949062874308,\n        \"num_unique_values\": 1,\n        \"samples\": [\n          0.116949062874308\n        ],\n        \"semantic_type\": \"\",\n        \"description\": \"\"\n      }\n    },\n    {\n      \"column\": \"Coverage@10\",\n      \"properties\": {\n        \"dtype\": \"number\",\n        \"std\": null,\n        \"min\": 0.3585472419442927,\n        \"max\": 0.3585472419442927,\n        \"num_unique_values\": 1,\n        \"samples\": [\n          0.3585472419442927\n        ],\n        \"semantic_type\": \"\",\n        \"description\": \"\"\n      }\n    }\n  ]\n}",
       "type": "dataframe"
      },
      "text/html": [
       "\n",
       "  <div id=\"df-574f2ef3-293a-4871-ae4b-966e95aad9a0\" class=\"colab-df-container\">\n",
       "    <div>\n",
       "<style scoped>\n",
       "    .dataframe tbody tr th:only-of-type {\n",
       "        vertical-align: middle;\n",
       "    }\n",
       "\n",
       "    .dataframe tbody tr th {\n",
       "        vertical-align: top;\n",
       "    }\n",
       "\n",
       "    .dataframe thead th {\n",
       "        text-align: right;\n",
       "    }\n",
       "</style>\n",
       "<table border=\"1\" class=\"dataframe\">\n",
       "  <thead>\n",
       "    <tr style=\"text-align: right;\">\n",
       "      <th></th>\n",
       "      <th>HitRate@10</th>\n",
       "      <th>NDCG@10</th>\n",
       "      <th>MAP@10</th>\n",
       "      <th>Coverage@10</th>\n",
       "    </tr>\n",
       "  </thead>\n",
       "  <tbody>\n",
       "    <tr>\n",
       "      <th>ALS</th>\n",
       "      <td>0.632799</td>\n",
       "      <td>0.20383</td>\n",
       "      <td>0.116949</td>\n",
       "      <td>0.358547</td>\n",
       "    </tr>\n",
       "  </tbody>\n",
       "</table>\n",
       "</div>\n",
       "    <div class=\"colab-df-buttons\">\n",
       "\n",
       "  <div class=\"colab-df-container\">\n",
       "    <button class=\"colab-df-convert\" onclick=\"convertToInteractive('df-574f2ef3-293a-4871-ae4b-966e95aad9a0')\"\n",
       "            title=\"Convert this dataframe to an interactive table.\"\n",
       "            style=\"display:none;\">\n",
       "\n",
       "  <svg xmlns=\"http://www.w3.org/2000/svg\" height=\"24px\" viewBox=\"0 -960 960 960\">\n",
       "    <path d=\"M120-120v-720h720v720H120Zm60-500h600v-160H180v160Zm220 220h160v-160H400v160Zm0 220h160v-160H400v160ZM180-400h160v-160H180v160Zm440 0h160v-160H620v160ZM180-180h160v-160H180v160Zm440 0h160v-160H620v160Z\"/>\n",
       "  </svg>\n",
       "    </button>\n",
       "\n",
       "  <style>\n",
       "    .colab-df-container {\n",
       "      display:flex;\n",
       "      gap: 12px;\n",
       "    }\n",
       "\n",
       "    .colab-df-convert {\n",
       "      background-color: #E8F0FE;\n",
       "      border: none;\n",
       "      border-radius: 50%;\n",
       "      cursor: pointer;\n",
       "      display: none;\n",
       "      fill: #1967D2;\n",
       "      height: 32px;\n",
       "      padding: 0 0 0 0;\n",
       "      width: 32px;\n",
       "    }\n",
       "\n",
       "    .colab-df-convert:hover {\n",
       "      background-color: #E2EBFA;\n",
       "      box-shadow: 0px 1px 2px rgba(60, 64, 67, 0.3), 0px 1px 3px 1px rgba(60, 64, 67, 0.15);\n",
       "      fill: #174EA6;\n",
       "    }\n",
       "\n",
       "    .colab-df-buttons div {\n",
       "      margin-bottom: 4px;\n",
       "    }\n",
       "\n",
       "    [theme=dark] .colab-df-convert {\n",
       "      background-color: #3B4455;\n",
       "      fill: #D2E3FC;\n",
       "    }\n",
       "\n",
       "    [theme=dark] .colab-df-convert:hover {\n",
       "      background-color: #434B5C;\n",
       "      box-shadow: 0px 1px 3px 1px rgba(0, 0, 0, 0.15);\n",
       "      filter: drop-shadow(0px 1px 2px rgba(0, 0, 0, 0.3));\n",
       "      fill: #FFFFFF;\n",
       "    }\n",
       "  </style>\n",
       "\n",
       "    <script>\n",
       "      const buttonEl =\n",
       "        document.querySelector('#df-574f2ef3-293a-4871-ae4b-966e95aad9a0 button.colab-df-convert');\n",
       "      buttonEl.style.display =\n",
       "        google.colab.kernel.accessAllowed ? 'block' : 'none';\n",
       "\n",
       "      async function convertToInteractive(key) {\n",
       "        const element = document.querySelector('#df-574f2ef3-293a-4871-ae4b-966e95aad9a0');\n",
       "        const dataTable =\n",
       "          await google.colab.kernel.invokeFunction('convertToInteractive',\n",
       "                                                    [key], {});\n",
       "        if (!dataTable) return;\n",
       "\n",
       "        const docLinkHtml = 'Like what you see? Visit the ' +\n",
       "          '<a target=\"_blank\" href=https://colab.research.google.com/notebooks/data_table.ipynb>data table notebook</a>'\n",
       "          + ' to learn more about interactive tables.';\n",
       "        element.innerHTML = '';\n",
       "        dataTable['output_type'] = 'display_data';\n",
       "        await google.colab.output.renderOutput(dataTable, element);\n",
       "        const docLink = document.createElement('div');\n",
       "        docLink.innerHTML = docLinkHtml;\n",
       "        element.appendChild(docLink);\n",
       "      }\n",
       "    </script>\n",
       "  </div>\n",
       "\n",
       "    </div>\n",
       "  </div>\n"
      ],
      "text/plain": [
       "     HitRate@10  NDCG@10    MAP@10  Coverage@10\n",
       "ALS    0.632799  0.20383  0.116949     0.358547"
      ]
     },
     "execution_count": 29,
     "metadata": {},
     "output_type": "execute_result"
    }
   ],
   "source": [
    "exp.add_result(name=\"ALS\", recommendations=candidates)\n",
    "exp.results"
   ]
  },
  {
   "cell_type": "markdown",
   "metadata": {
    "id": "rF6iYIUMm_k8"
   },
   "source": [
    "## Polars pipeline"
   ]
  },
  {
   "cell_type": "code",
   "execution_count": 30,
   "metadata": {
    "id": "Ha0h6oEJf143"
   },
   "outputs": [],
   "source": [
    "data = pl.from_pandas(pandas_data)"
   ]
  },
  {
   "cell_type": "markdown",
   "metadata": {
    "id": "MAhqs74sM9h9"
   },
   "source": [
    "Предобработка датасета"
   ]
  },
  {
   "cell_type": "code",
   "execution_count": 31,
   "metadata": {
    "id": "DQWQrRS1M_Lk"
   },
   "outputs": [],
   "source": [
    "from replay.preprocessing.filters import MinCountFilter"
   ]
  },
  {
   "cell_type": "code",
   "execution_count": 32,
   "metadata": {
    "id": "tm403OU5NCPO"
   },
   "outputs": [],
   "source": [
    "data = MinCountFilter(num_entries=20, groupby_column=\"item_id\").transform(data)"
   ]
  },
  {
   "cell_type": "markdown",
   "metadata": {
    "id": "_OmCqda-pMKC"
   },
   "source": [
    "### Анализ датасета на Polars"
   ]
  },
  {
   "cell_type": "code",
   "execution_count": 33,
   "metadata": {
    "colab": {
     "base_uri": "https://localhost:8080/",
     "height": 252
    },
    "id": "5Z-JxQcopEkp",
    "outputId": "b46dc793-1745-4fa8-ce29-915393113b2c"
   },
   "outputs": [
    {
     "data": {
      "text/html": [
       "<div><style>\n",
       ".dataframe > thead > tr,\n",
       ".dataframe > tbody > tr {\n",
       "  text-align: right;\n",
       "  white-space: pre-wrap;\n",
       "}\n",
       "</style>\n",
       "<small>shape: (5, 4)</small><table border=\"1\" class=\"dataframe\"><thead><tr><th>user_id</th><th>item_id</th><th>rating</th><th>timestamp</th></tr><tr><td>i32</td><td>i32</td><td>i32</td><td>i32</td></tr></thead><tbody><tr><td>1</td><td>1193</td><td>5</td><td>978300760</td></tr><tr><td>1</td><td>661</td><td>3</td><td>978302109</td></tr><tr><td>1</td><td>914</td><td>3</td><td>978301968</td></tr><tr><td>1</td><td>3408</td><td>4</td><td>978300275</td></tr><tr><td>1</td><td>2355</td><td>5</td><td>978824291</td></tr></tbody></table></div>"
      ],
      "text/plain": [
       "shape: (5, 4)\n",
       "┌─────────┬─────────┬────────┬───────────┐\n",
       "│ user_id ┆ item_id ┆ rating ┆ timestamp │\n",
       "│ ---     ┆ ---     ┆ ---    ┆ ---       │\n",
       "│ i32     ┆ i32     ┆ i32    ┆ i32       │\n",
       "╞═════════╪═════════╪════════╪═══════════╡\n",
       "│ 1       ┆ 1193    ┆ 5      ┆ 978300760 │\n",
       "│ 1       ┆ 661     ┆ 3      ┆ 978302109 │\n",
       "│ 1       ┆ 914     ┆ 3      ┆ 978301968 │\n",
       "│ 1       ┆ 3408    ┆ 4      ┆ 978300275 │\n",
       "│ 1       ┆ 2355    ┆ 5      ┆ 978824291 │\n",
       "└─────────┴─────────┴────────┴───────────┘"
      ]
     },
     "execution_count": 33,
     "metadata": {},
     "output_type": "execute_result"
    }
   ],
   "source": [
    "data.head(5)"
   ]
  },
  {
   "cell_type": "code",
   "execution_count": 34,
   "metadata": {
    "colab": {
     "base_uri": "https://localhost:8080/"
    },
    "id": "HOgFOVL_qYpp",
    "outputId": "61a1d72d-1bc7-44f5-dada-7b250b59dc7c"
   },
   "outputs": [
    {
     "name": "stdout",
     "output_type": "stream",
     "text": [
      "Количество уникальных пользователей: 6040\n",
      "Количество уникальных айтемов: 3043\n",
      "Общее количество строк: 995492\n"
     ]
    }
   ],
   "source": [
    "unique_users_count = data.select(pl.col(\"user_id\").unique()).height\n",
    "unique_items_count = data.select(pl.col(\"item_id\").unique()).height\n",
    "total_rows_count = data.height\n",
    "\n",
    "print(f\"Количество уникальных пользователей: {unique_users_count}\")\n",
    "print(f\"Количество уникальных айтемов: {unique_items_count}\")\n",
    "print(f\"Общее количество строк: {total_rows_count}\")"
   ]
  },
  {
   "cell_type": "code",
   "execution_count": 35,
   "metadata": {
    "colab": {
     "base_uri": "https://localhost:8080/"
    },
    "id": "QGD8wjxDKiqj",
    "outputId": "2938be1b-6789-4526-c9e7-b07ab3bc9f7c"
   },
   "outputs": [
    {
     "name": "stdout",
     "output_type": "stream",
     "text": [
      "Среднее количество взаимодействий: 164\n",
      "Плотность данных: 0.054\n"
     ]
    }
   ],
   "source": [
    "user_item_counts = data.groupby(\"user_id\").agg(pl.count(\"item_id\").alias(\"item_count\"))\n",
    "average_item_count = user_item_counts.select(pl.mean(\"item_count\")).to_numpy()[0][0]\n",
    "\n",
    "density = total_rows_count / (unique_users_count * unique_items_count)\n",
    "\n",
    "print(f\"Среднее количество взаимодействий: {int(average_item_count)}\")\n",
    "print(f\"Плотность данных: {round(density,3)}\")"
   ]
  },
  {
   "cell_type": "markdown",
   "metadata": {
    "id": "uXSHhsadq2yj"
   },
   "source": [
    "### Разбиение данных"
   ]
  },
  {
   "cell_type": "code",
   "execution_count": 36,
   "metadata": {
    "id": "agxtUxkcq2-x"
   },
   "outputs": [],
   "source": [
    "train, test = TimeSplitter(time_threshold=0.2,\n",
    "                           drop_cold_users=True,\n",
    "                           drop_cold_items=True,\n",
    "                           query_column='user_id').split(data)"
   ]
  },
  {
   "cell_type": "markdown",
   "metadata": {
    "id": "0HM7g3DQq9Xu"
   },
   "source": [
    "оставим в test взаимодействия с оценкой не ниже 4"
   ]
  },
  {
   "cell_type": "code",
   "execution_count": 37,
   "metadata": {
    "id": "tl6lVlkFq5iM"
   },
   "outputs": [],
   "source": [
    "from replay.preprocessing.filters import LowRatingFilter"
   ]
  },
  {
   "cell_type": "code",
   "execution_count": 38,
   "metadata": {
    "id": "SsSlMVWfq_Gx"
   },
   "outputs": [],
   "source": [
    "test = LowRatingFilter(value=4, rating_column=\"rating\").transform(test)"
   ]
  },
  {
   "cell_type": "code",
   "execution_count": 39,
   "metadata": {
    "colab": {
     "base_uri": "https://localhost:8080/"
    },
    "id": "eH7WSuqHrBRB",
    "outputId": "404bb087-a2bb-468e-ebcf-74a0b7012ffb"
   },
   "outputs": [
    {
     "name": "stdout",
     "output_type": "stream",
     "text": [
      "Количество уникальных пользователей в train: 5399\n",
      "Количество уникальных айтемов в train: 3041\n",
      "Общее количество строк в train: 796393\n"
     ]
    }
   ],
   "source": [
    "unique_users_count = train.select(pl.col(\"user_id\").unique()).height\n",
    "unique_items_count = train.select(pl.col(\"item_id\").unique()).height\n",
    "total_rows_count = train.height\n",
    "\n",
    "print(f\"Количество уникальных пользователей в train: {unique_users_count}\")\n",
    "print(f\"Количество уникальных айтемов в train: {unique_items_count}\")\n",
    "print(f\"Общее количество строк в train: {total_rows_count}\")"
   ]
  },
  {
   "cell_type": "code",
   "execution_count": 40,
   "metadata": {
    "colab": {
     "base_uri": "https://localhost:8080/"
    },
    "id": "ORyXKPrIrNEY",
    "outputId": "55c7ac51-8935-4b8d-fd2e-3a2dd14eca8b"
   },
   "outputs": [
    {
     "name": "stdout",
     "output_type": "stream",
     "text": [
      "Количество уникальных пользователей в test: 1120\n",
      "Количество уникальных айтемов в test: 2816\n",
      "Общее количество строк в test: 55987\n"
     ]
    }
   ],
   "source": [
    "unique_users_count = test.select(pl.col(\"user_id\").unique()).height\n",
    "unique_items_count = test.select(pl.col(\"item_id\").unique()).height\n",
    "total_rows_count = test.height\n",
    "\n",
    "print(f\"Количество уникальных пользователей в test: {unique_users_count}\")\n",
    "print(f\"Количество уникальных айтемов в test: {unique_items_count}\")\n",
    "print(f\"Общее количество строк в test: {total_rows_count}\")"
   ]
  },
  {
   "cell_type": "markdown",
   "metadata": {
    "id": "qlGM71XurWgj"
   },
   "source": [
    "### Подготовка данных"
   ]
  },
  {
   "cell_type": "code",
   "execution_count": 41,
   "metadata": {
    "id": "uzb-c8etrSB4"
   },
   "outputs": [],
   "source": [
    "from replay.data.dataset import Dataset, FeatureSchema, FeatureInfo, FeatureHint, FeatureType"
   ]
  },
  {
   "cell_type": "code",
   "execution_count": 42,
   "metadata": {
    "id": "2wWGHoBYrYuC"
   },
   "outputs": [],
   "source": [
    "feature_schema = FeatureSchema(\n",
    "     [\n",
    "         FeatureInfo(\n",
    "             column=\"user_id\",\n",
    "             feature_type=FeatureType.CATEGORICAL,\n",
    "             feature_hint=FeatureHint.QUERY_ID,\n",
    "         ),\n",
    "         FeatureInfo(\n",
    "             column=\"item_id\",\n",
    "             feature_type=FeatureType.CATEGORICAL,\n",
    "             feature_hint=FeatureHint.ITEM_ID,\n",
    "         ),\n",
    "        FeatureInfo(\n",
    "            column=\"rating\",\n",
    "            feature_type=FeatureType.NUMERICAL,\n",
    "            feature_hint=FeatureHint.RATING,\n",
    "         ),\n",
    "     ]\n",
    ")\n",
    "train_dataset = Dataset(feature_schema, train)\n",
    "test_dataset = Dataset(feature_schema, test)"
   ]
  },
  {
   "cell_type": "markdown",
   "metadata": {
    "id": "9op559K3wnDV"
   },
   "source": [
    "Применяем LabelEncoder"
   ]
  },
  {
   "cell_type": "code",
   "execution_count": 43,
   "metadata": {
    "colab": {
     "base_uri": "https://localhost:8080/"
    },
    "id": "_Lp4Da5z5HCT",
    "outputId": "31c90550-8b8c-44e8-ad87-6fb6f0451025"
   },
   "outputs": [
    {
     "data": {
      "text/plain": [
       "<replay.data.dataset_utils.dataset_label_encoder.DatasetLabelEncoder at 0x7c9f79638220>"
      ]
     },
     "execution_count": 43,
     "metadata": {},
     "output_type": "execute_result"
    }
   ],
   "source": [
    "encoder = DatasetLabelEncoder()\n",
    "encoder.fit(train_dataset)"
   ]
  },
  {
   "cell_type": "code",
   "execution_count": 44,
   "metadata": {
    "id": "OhRWVP045KUm"
   },
   "outputs": [],
   "source": [
    "train_dataset = encoder.transform(train_dataset)\n",
    "test_dataset = encoder.transform(test_dataset)"
   ]
  },
  {
   "cell_type": "markdown",
   "metadata": {
    "id": "WgwpolWkGh0h"
   },
   "source": [
    "Далее train_dataset можно будет использовать в различных моделях из RePlay на основе pytorch."
   ]
  },
  {
   "cell_type": "markdown",
   "metadata": {
    "id": "qJ-dbi-nQhx9"
   },
   "source": [
    "В качестве построенной модели будет рекомендация случайных айтемов."
   ]
  },
  {
   "cell_type": "code",
   "execution_count": 48,
   "metadata": {
    "colab": {
     "base_uri": "https://localhost:8080/",
     "height": 252
    },
    "id": "lGr7J2gkQpUE",
    "outputId": "657cd604-7da2-43af-b005-cd7fd52be4ef"
   },
   "outputs": [
    {
     "data": {
      "text/html": [
       "<div><style>\n",
       ".dataframe > thead > tr,\n",
       ".dataframe > tbody > tr {\n",
       "  text-align: right;\n",
       "  white-space: pre-wrap;\n",
       "}\n",
       "</style>\n",
       "<small>shape: (5, 3)</small><table border=\"1\" class=\"dataframe\"><thead><tr><th>user_id</th><th>item_id</th><th>rating</th></tr><tr><td>i64</td><td>i64</td><td>i64</td></tr></thead><tbody><tr><td>1</td><td>2611</td><td>0</td></tr><tr><td>1</td><td>2045</td><td>1</td></tr><tr><td>1</td><td>478</td><td>2</td></tr><tr><td>1</td><td>3397</td><td>3</td></tr><tr><td>1</td><td>27</td><td>4</td></tr></tbody></table></div>"
      ],
      "text/plain": [
       "shape: (5, 3)\n",
       "┌─────────┬─────────┬────────┐\n",
       "│ user_id ┆ item_id ┆ rating │\n",
       "│ ---     ┆ ---     ┆ ---    │\n",
       "│ i64     ┆ i64     ┆ i64    │\n",
       "╞═════════╪═════════╪════════╡\n",
       "│ 1       ┆ 2611    ┆ 0      │\n",
       "│ 1       ┆ 2045    ┆ 1      │\n",
       "│ 1       ┆ 478     ┆ 2      │\n",
       "│ 1       ┆ 3397    ┆ 3      │\n",
       "│ 1       ┆ 27      ┆ 4      │\n",
       "└─────────┴─────────┴────────┘"
      ]
     },
     "execution_count": 48,
     "metadata": {},
     "output_type": "execute_result"
    }
   ],
   "source": [
    "np.random.seed = 17\n",
    "\n",
    "all_items = data[\"item_id\"].unique().to_list()\n",
    "random_items = np.random.choice(all_items, 10)\n",
    "\n",
    "unique_users = data[\"user_id\"].unique().to_list()\n",
    "predict = [{\"user_id\": user, \"item_id\": item} for user in unique_users for item in random_items]\n",
    "predict = pl.DataFrame(predict)\n",
    "rating = np.tile(range(10), len(unique_users))\n",
    "predict = predict.with_columns(pl.Series(\"rating\", rating),\n",
    "                               pl.col(\"user_id\").cast(pl.Int64),\n",
    "                               pl.col(\"item_id\").cast(pl.Int64))\n",
    "\n",
    "predict.head()"
   ]
  },
  {
   "cell_type": "code",
   "execution_count": 49,
   "metadata": {
    "id": "HO3WvCU97P8w"
   },
   "outputs": [],
   "source": [
    "exp = Experiment(\n",
    "    metrics,\n",
    "    test_dataset.interactions,\n",
    "    train_dataset.interactions,\n",
    "    query_column=train_dataset.feature_schema.query_id_column,\n",
    "    item_column=train_dataset.feature_schema.item_id_column,\n",
    "    rating_column=train_dataset.feature_schema.interactions_rating_column,\n",
    ")"
   ]
  },
  {
   "cell_type": "code",
   "execution_count": 50,
   "metadata": {
    "colab": {
     "base_uri": "https://localhost:8080/",
     "height": 80
    },
    "id": "F8H3pLIIVxea",
    "outputId": "657ac2d1-97d0-4227-ebd4-57d92b85ba13"
   },
   "outputs": [
    {
     "data": {
      "application/vnd.google.colaboratory.intrinsic+json": {
       "summary": "{\n  \"name\": \"exp\",\n  \"rows\": 1,\n  \"fields\": [\n    {\n      \"column\": \"HitRate@10\",\n      \"properties\": {\n        \"dtype\": \"number\",\n        \"std\": null,\n        \"min\": 0.12410714285714286,\n        \"max\": 0.12410714285714286,\n        \"num_unique_values\": 1,\n        \"samples\": [\n          0.12410714285714286\n        ],\n        \"semantic_type\": \"\",\n        \"description\": \"\"\n      }\n    },\n    {\n      \"column\": \"NDCG@10\",\n      \"properties\": {\n        \"dtype\": \"number\",\n        \"std\": null,\n        \"min\": 0.014696331321644579,\n        \"max\": 0.014696331321644579,\n        \"num_unique_values\": 1,\n        \"samples\": [\n          0.014696331321644579\n        ],\n        \"semantic_type\": \"\",\n        \"description\": \"\"\n      }\n    },\n    {\n      \"column\": \"MAP@10\",\n      \"properties\": {\n        \"dtype\": \"number\",\n        \"std\": null,\n        \"min\": 0.00445436507936508,\n        \"max\": 0.00445436507936508,\n        \"num_unique_values\": 1,\n        \"samples\": [\n          0.00445436507936508\n        ],\n        \"semantic_type\": \"\",\n        \"description\": \"\"\n      }\n    },\n    {\n      \"column\": \"Coverage@10\",\n      \"properties\": {\n        \"dtype\": \"number\",\n        \"std\": null,\n        \"min\": 0.00295955277869122,\n        \"max\": 0.00295955277869122,\n        \"num_unique_values\": 1,\n        \"samples\": [\n          0.00295955277869122\n        ],\n        \"semantic_type\": \"\",\n        \"description\": \"\"\n      }\n    }\n  ]\n}",
       "type": "dataframe"
      },
      "text/html": [
       "\n",
       "  <div id=\"df-50e23667-6acc-4abb-89da-bf7ce930618f\" class=\"colab-df-container\">\n",
       "    <div>\n",
       "<style scoped>\n",
       "    .dataframe tbody tr th:only-of-type {\n",
       "        vertical-align: middle;\n",
       "    }\n",
       "\n",
       "    .dataframe tbody tr th {\n",
       "        vertical-align: top;\n",
       "    }\n",
       "\n",
       "    .dataframe thead th {\n",
       "        text-align: right;\n",
       "    }\n",
       "</style>\n",
       "<table border=\"1\" class=\"dataframe\">\n",
       "  <thead>\n",
       "    <tr style=\"text-align: right;\">\n",
       "      <th></th>\n",
       "      <th>HitRate@10</th>\n",
       "      <th>NDCG@10</th>\n",
       "      <th>MAP@10</th>\n",
       "      <th>Coverage@10</th>\n",
       "    </tr>\n",
       "  </thead>\n",
       "  <tbody>\n",
       "    <tr>\n",
       "      <th>Random</th>\n",
       "      <td>0.124107</td>\n",
       "      <td>0.014696</td>\n",
       "      <td>0.004454</td>\n",
       "      <td>0.00296</td>\n",
       "    </tr>\n",
       "  </tbody>\n",
       "</table>\n",
       "</div>\n",
       "    <div class=\"colab-df-buttons\">\n",
       "\n",
       "  <div class=\"colab-df-container\">\n",
       "    <button class=\"colab-df-convert\" onclick=\"convertToInteractive('df-50e23667-6acc-4abb-89da-bf7ce930618f')\"\n",
       "            title=\"Convert this dataframe to an interactive table.\"\n",
       "            style=\"display:none;\">\n",
       "\n",
       "  <svg xmlns=\"http://www.w3.org/2000/svg\" height=\"24px\" viewBox=\"0 -960 960 960\">\n",
       "    <path d=\"M120-120v-720h720v720H120Zm60-500h600v-160H180v160Zm220 220h160v-160H400v160Zm0 220h160v-160H400v160ZM180-400h160v-160H180v160Zm440 0h160v-160H620v160ZM180-180h160v-160H180v160Zm440 0h160v-160H620v160Z\"/>\n",
       "  </svg>\n",
       "    </button>\n",
       "\n",
       "  <style>\n",
       "    .colab-df-container {\n",
       "      display:flex;\n",
       "      gap: 12px;\n",
       "    }\n",
       "\n",
       "    .colab-df-convert {\n",
       "      background-color: #E8F0FE;\n",
       "      border: none;\n",
       "      border-radius: 50%;\n",
       "      cursor: pointer;\n",
       "      display: none;\n",
       "      fill: #1967D2;\n",
       "      height: 32px;\n",
       "      padding: 0 0 0 0;\n",
       "      width: 32px;\n",
       "    }\n",
       "\n",
       "    .colab-df-convert:hover {\n",
       "      background-color: #E2EBFA;\n",
       "      box-shadow: 0px 1px 2px rgba(60, 64, 67, 0.3), 0px 1px 3px 1px rgba(60, 64, 67, 0.15);\n",
       "      fill: #174EA6;\n",
       "    }\n",
       "\n",
       "    .colab-df-buttons div {\n",
       "      margin-bottom: 4px;\n",
       "    }\n",
       "\n",
       "    [theme=dark] .colab-df-convert {\n",
       "      background-color: #3B4455;\n",
       "      fill: #D2E3FC;\n",
       "    }\n",
       "\n",
       "    [theme=dark] .colab-df-convert:hover {\n",
       "      background-color: #434B5C;\n",
       "      box-shadow: 0px 1px 3px 1px rgba(0, 0, 0, 0.15);\n",
       "      filter: drop-shadow(0px 1px 2px rgba(0, 0, 0, 0.3));\n",
       "      fill: #FFFFFF;\n",
       "    }\n",
       "  </style>\n",
       "\n",
       "    <script>\n",
       "      const buttonEl =\n",
       "        document.querySelector('#df-50e23667-6acc-4abb-89da-bf7ce930618f button.colab-df-convert');\n",
       "      buttonEl.style.display =\n",
       "        google.colab.kernel.accessAllowed ? 'block' : 'none';\n",
       "\n",
       "      async function convertToInteractive(key) {\n",
       "        const element = document.querySelector('#df-50e23667-6acc-4abb-89da-bf7ce930618f');\n",
       "        const dataTable =\n",
       "          await google.colab.kernel.invokeFunction('convertToInteractive',\n",
       "                                                    [key], {});\n",
       "        if (!dataTable) return;\n",
       "\n",
       "        const docLinkHtml = 'Like what you see? Visit the ' +\n",
       "          '<a target=\"_blank\" href=https://colab.research.google.com/notebooks/data_table.ipynb>data table notebook</a>'\n",
       "          + ' to learn more about interactive tables.';\n",
       "        element.innerHTML = '';\n",
       "        dataTable['output_type'] = 'display_data';\n",
       "        await google.colab.output.renderOutput(dataTable, element);\n",
       "        const docLink = document.createElement('div');\n",
       "        docLink.innerHTML = docLinkHtml;\n",
       "        element.appendChild(docLink);\n",
       "      }\n",
       "    </script>\n",
       "  </div>\n",
       "\n",
       "    </div>\n",
       "  </div>\n"
      ],
      "text/plain": [
       "        HitRate@10   NDCG@10    MAP@10  Coverage@10\n",
       "Random    0.124107  0.014696  0.004454      0.00296"
      ]
     },
     "execution_count": 50,
     "metadata": {},
     "output_type": "execute_result"
    }
   ],
   "source": [
    "exp.add_result(name='Random', recommendations=predict)\n",
    "exp.results"
   ]
  },
  {
   "cell_type": "code",
   "execution_count": 50,
   "metadata": {
    "id": "CPwsGw8miMGE"
   },
   "outputs": [],
   "source": []
  }
 ],
 "metadata": {
  "colab": {
   "provenance": []
  },
  "kernelspec": {
   "display_name": "Python 3 (ipykernel)",
   "language": "python",
   "name": "python3"
  },
  "language_info": {
   "codemirror_mode": {
    "name": "ipython",
    "version": 3
   },
   "file_extension": ".py",
   "mimetype": "text/x-python",
   "name": "python",
   "nbconvert_exporter": "python",
   "pygments_lexer": "ipython3",
   "version": "3.7.12"
  }
 },
 "nbformat": 4,
 "nbformat_minor": 4
}
