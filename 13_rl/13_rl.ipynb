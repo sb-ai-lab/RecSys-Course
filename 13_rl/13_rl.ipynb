{
  "nbformat": 4,
  "nbformat_minor": 0,
  "metadata": {
    "colab": {
      "provenance": [],
      "machine_shape": "hm"
    },
    "kernelspec": {
      "name": "python3",
      "display_name": "Python 3"
    },
    "language_info": {
      "name": "python"
    },
    "widgets": {
      "application/vnd.jupyter.widget-state+json": {
        "4bc9ba7c48234c3caab2e0c6d28abe4c": {
          "model_module": "@jupyter-widgets/controls",
          "model_name": "HBoxModel",
          "model_module_version": "1.5.0",
          "state": {
            "_dom_classes": [],
            "_model_module": "@jupyter-widgets/controls",
            "_model_module_version": "1.5.0",
            "_model_name": "HBoxModel",
            "_view_count": null,
            "_view_module": "@jupyter-widgets/controls",
            "_view_module_version": "1.5.0",
            "_view_name": "HBoxView",
            "box_style": "",
            "children": [
              "IPY_MODEL_ca969af5c3324041a4f8050a03ec4588",
              "IPY_MODEL_66edf9a7b3ba4144a4986ee0f85520f6",
              "IPY_MODEL_bf09a76b07cb44c4a1c6661772312b75"
            ],
            "layout": "IPY_MODEL_7a5d93313ddc4109a27fd37a1ff06530"
          }
        },
        "ca969af5c3324041a4f8050a03ec4588": {
          "model_module": "@jupyter-widgets/controls",
          "model_name": "HTMLModel",
          "model_module_version": "1.5.0",
          "state": {
            "_dom_classes": [],
            "_model_module": "@jupyter-widgets/controls",
            "_model_module_version": "1.5.0",
            "_model_name": "HTMLModel",
            "_view_count": null,
            "_view_module": "@jupyter-widgets/controls",
            "_view_module_version": "1.5.0",
            "_view_name": "HTMLView",
            "description": "",
            "description_tooltip": null,
            "layout": "IPY_MODEL_4d00a620d2674d0681f85f81ae2fb271",
            "placeholder": "​",
            "style": "IPY_MODEL_a501f0f826f64e6e82b987331ca0e460",
            "value": "Progress bar: 100%"
          }
        },
        "66edf9a7b3ba4144a4986ee0f85520f6": {
          "model_module": "@jupyter-widgets/controls",
          "model_name": "FloatProgressModel",
          "model_module_version": "1.5.0",
          "state": {
            "_dom_classes": [],
            "_model_module": "@jupyter-widgets/controls",
            "_model_module_version": "1.5.0",
            "_model_name": "FloatProgressModel",
            "_view_count": null,
            "_view_module": "@jupyter-widgets/controls",
            "_view_module_version": "1.5.0",
            "_view_name": "ProgressView",
            "bar_style": "success",
            "description": "",
            "description_tooltip": null,
            "layout": "IPY_MODEL_09ce518723ca4bb5941324c937f2e3e0",
            "max": 7999,
            "min": 0,
            "orientation": "horizontal",
            "style": "IPY_MODEL_7b3b45fc015e44caa456a8d3ead2f19d",
            "value": 7999
          }
        },
        "bf09a76b07cb44c4a1c6661772312b75": {
          "model_module": "@jupyter-widgets/controls",
          "model_name": "HTMLModel",
          "model_module_version": "1.5.0",
          "state": {
            "_dom_classes": [],
            "_model_module": "@jupyter-widgets/controls",
            "_model_module_version": "1.5.0",
            "_model_name": "HTMLModel",
            "_view_count": null,
            "_view_module": "@jupyter-widgets/controls",
            "_view_module_version": "1.5.0",
            "_view_name": "HTMLView",
            "description": "",
            "description_tooltip": null,
            "layout": "IPY_MODEL_167a242df460467cb20b99a3cbee75b3",
            "placeholder": "​",
            "style": "IPY_MODEL_98c176b32fec4e23988c73a22313dac3",
            "value": " 7999/7999 [03:32&lt;00:00, 22.70it/s]"
          }
        },
        "7a5d93313ddc4109a27fd37a1ff06530": {
          "model_module": "@jupyter-widgets/base",
          "model_name": "LayoutModel",
          "model_module_version": "1.2.0",
          "state": {
            "_model_module": "@jupyter-widgets/base",
            "_model_module_version": "1.2.0",
            "_model_name": "LayoutModel",
            "_view_count": null,
            "_view_module": "@jupyter-widgets/base",
            "_view_module_version": "1.2.0",
            "_view_name": "LayoutView",
            "align_content": null,
            "align_items": null,
            "align_self": null,
            "border": null,
            "bottom": null,
            "display": null,
            "flex": null,
            "flex_flow": null,
            "grid_area": null,
            "grid_auto_columns": null,
            "grid_auto_flow": null,
            "grid_auto_rows": null,
            "grid_column": null,
            "grid_gap": null,
            "grid_row": null,
            "grid_template_areas": null,
            "grid_template_columns": null,
            "grid_template_rows": null,
            "height": null,
            "justify_content": null,
            "justify_items": null,
            "left": null,
            "margin": null,
            "max_height": null,
            "max_width": null,
            "min_height": null,
            "min_width": null,
            "object_fit": null,
            "object_position": null,
            "order": null,
            "overflow": null,
            "overflow_x": null,
            "overflow_y": null,
            "padding": null,
            "right": null,
            "top": null,
            "visibility": null,
            "width": null
          }
        },
        "4d00a620d2674d0681f85f81ae2fb271": {
          "model_module": "@jupyter-widgets/base",
          "model_name": "LayoutModel",
          "model_module_version": "1.2.0",
          "state": {
            "_model_module": "@jupyter-widgets/base",
            "_model_module_version": "1.2.0",
            "_model_name": "LayoutModel",
            "_view_count": null,
            "_view_module": "@jupyter-widgets/base",
            "_view_module_version": "1.2.0",
            "_view_name": "LayoutView",
            "align_content": null,
            "align_items": null,
            "align_self": null,
            "border": null,
            "bottom": null,
            "display": null,
            "flex": null,
            "flex_flow": null,
            "grid_area": null,
            "grid_auto_columns": null,
            "grid_auto_flow": null,
            "grid_auto_rows": null,
            "grid_column": null,
            "grid_gap": null,
            "grid_row": null,
            "grid_template_areas": null,
            "grid_template_columns": null,
            "grid_template_rows": null,
            "height": null,
            "justify_content": null,
            "justify_items": null,
            "left": null,
            "margin": null,
            "max_height": null,
            "max_width": null,
            "min_height": null,
            "min_width": null,
            "object_fit": null,
            "object_position": null,
            "order": null,
            "overflow": null,
            "overflow_x": null,
            "overflow_y": null,
            "padding": null,
            "right": null,
            "top": null,
            "visibility": null,
            "width": null
          }
        },
        "a501f0f826f64e6e82b987331ca0e460": {
          "model_module": "@jupyter-widgets/controls",
          "model_name": "DescriptionStyleModel",
          "model_module_version": "1.5.0",
          "state": {
            "_model_module": "@jupyter-widgets/controls",
            "_model_module_version": "1.5.0",
            "_model_name": "DescriptionStyleModel",
            "_view_count": null,
            "_view_module": "@jupyter-widgets/base",
            "_view_module_version": "1.2.0",
            "_view_name": "StyleView",
            "description_width": ""
          }
        },
        "09ce518723ca4bb5941324c937f2e3e0": {
          "model_module": "@jupyter-widgets/base",
          "model_name": "LayoutModel",
          "model_module_version": "1.2.0",
          "state": {
            "_model_module": "@jupyter-widgets/base",
            "_model_module_version": "1.2.0",
            "_model_name": "LayoutModel",
            "_view_count": null,
            "_view_module": "@jupyter-widgets/base",
            "_view_module_version": "1.2.0",
            "_view_name": "LayoutView",
            "align_content": null,
            "align_items": null,
            "align_self": null,
            "border": null,
            "bottom": null,
            "display": null,
            "flex": null,
            "flex_flow": null,
            "grid_area": null,
            "grid_auto_columns": null,
            "grid_auto_flow": null,
            "grid_auto_rows": null,
            "grid_column": null,
            "grid_gap": null,
            "grid_row": null,
            "grid_template_areas": null,
            "grid_template_columns": null,
            "grid_template_rows": null,
            "height": null,
            "justify_content": null,
            "justify_items": null,
            "left": null,
            "margin": null,
            "max_height": null,
            "max_width": null,
            "min_height": null,
            "min_width": null,
            "object_fit": null,
            "object_position": null,
            "order": null,
            "overflow": null,
            "overflow_x": null,
            "overflow_y": null,
            "padding": null,
            "right": null,
            "top": null,
            "visibility": null,
            "width": null
          }
        },
        "7b3b45fc015e44caa456a8d3ead2f19d": {
          "model_module": "@jupyter-widgets/controls",
          "model_name": "ProgressStyleModel",
          "model_module_version": "1.5.0",
          "state": {
            "_model_module": "@jupyter-widgets/controls",
            "_model_module_version": "1.5.0",
            "_model_name": "ProgressStyleModel",
            "_view_count": null,
            "_view_module": "@jupyter-widgets/base",
            "_view_module_version": "1.2.0",
            "_view_name": "StyleView",
            "bar_color": null,
            "description_width": ""
          }
        },
        "167a242df460467cb20b99a3cbee75b3": {
          "model_module": "@jupyter-widgets/base",
          "model_name": "LayoutModel",
          "model_module_version": "1.2.0",
          "state": {
            "_model_module": "@jupyter-widgets/base",
            "_model_module_version": "1.2.0",
            "_model_name": "LayoutModel",
            "_view_count": null,
            "_view_module": "@jupyter-widgets/base",
            "_view_module_version": "1.2.0",
            "_view_name": "LayoutView",
            "align_content": null,
            "align_items": null,
            "align_self": null,
            "border": null,
            "bottom": null,
            "display": null,
            "flex": null,
            "flex_flow": null,
            "grid_area": null,
            "grid_auto_columns": null,
            "grid_auto_flow": null,
            "grid_auto_rows": null,
            "grid_column": null,
            "grid_gap": null,
            "grid_row": null,
            "grid_template_areas": null,
            "grid_template_columns": null,
            "grid_template_rows": null,
            "height": null,
            "justify_content": null,
            "justify_items": null,
            "left": null,
            "margin": null,
            "max_height": null,
            "max_width": null,
            "min_height": null,
            "min_width": null,
            "object_fit": null,
            "object_position": null,
            "order": null,
            "overflow": null,
            "overflow_x": null,
            "overflow_y": null,
            "padding": null,
            "right": null,
            "top": null,
            "visibility": null,
            "width": null
          }
        },
        "98c176b32fec4e23988c73a22313dac3": {
          "model_module": "@jupyter-widgets/controls",
          "model_name": "DescriptionStyleModel",
          "model_module_version": "1.5.0",
          "state": {
            "_model_module": "@jupyter-widgets/controls",
            "_model_module_version": "1.5.0",
            "_model_name": "DescriptionStyleModel",
            "_view_count": null,
            "_view_module": "@jupyter-widgets/base",
            "_view_module_version": "1.2.0",
            "_view_name": "StyleView",
            "description_width": ""
          }
        },
        "cb040f5ded1044fbaf4e2f288751217a": {
          "model_module": "@jupyter-widgets/controls",
          "model_name": "HBoxModel",
          "model_module_version": "1.5.0",
          "state": {
            "_dom_classes": [],
            "_model_module": "@jupyter-widgets/controls",
            "_model_module_version": "1.5.0",
            "_model_name": "HBoxModel",
            "_view_count": null,
            "_view_module": "@jupyter-widgets/controls",
            "_view_module_version": "1.5.0",
            "_view_name": "HBoxView",
            "box_style": "",
            "children": [
              "IPY_MODEL_14fc23763d9744628588fa966eb0965f",
              "IPY_MODEL_65ce6c4fa7ce45ed870998b02178f301",
              "IPY_MODEL_2a9a9d0061af4f2fb261241534f52a9d"
            ],
            "layout": "IPY_MODEL_fbe75ddb063248b29d4ed9fe148d2b8a"
          }
        },
        "14fc23763d9744628588fa966eb0965f": {
          "model_module": "@jupyter-widgets/controls",
          "model_name": "HTMLModel",
          "model_module_version": "1.5.0",
          "state": {
            "_dom_classes": [],
            "_model_module": "@jupyter-widgets/controls",
            "_model_module_version": "1.5.0",
            "_model_name": "HTMLModel",
            "_view_count": null,
            "_view_module": "@jupyter-widgets/controls",
            "_view_module_version": "1.5.0",
            "_view_name": "HTMLView",
            "description": "",
            "description_tooltip": null,
            "layout": "IPY_MODEL_aba7f796fe2c4e4f804955099914c767",
            "placeholder": "​",
            "style": "IPY_MODEL_c1e376dec125472eb216cd657fa517ea",
            "value": "Progress bar: 100%"
          }
        },
        "65ce6c4fa7ce45ed870998b02178f301": {
          "model_module": "@jupyter-widgets/controls",
          "model_name": "FloatProgressModel",
          "model_module_version": "1.5.0",
          "state": {
            "_dom_classes": [],
            "_model_module": "@jupyter-widgets/controls",
            "_model_module_version": "1.5.0",
            "_model_name": "FloatProgressModel",
            "_view_count": null,
            "_view_module": "@jupyter-widgets/controls",
            "_view_module_version": "1.5.0",
            "_view_name": "ProgressView",
            "bar_style": "success",
            "description": "",
            "description_tooltip": null,
            "layout": "IPY_MODEL_cd8fe999b61c49a19945be152228e6f5",
            "max": 7999,
            "min": 0,
            "orientation": "horizontal",
            "style": "IPY_MODEL_ff6abbae82334297ac8565cd9479fda5",
            "value": 7999
          }
        },
        "2a9a9d0061af4f2fb261241534f52a9d": {
          "model_module": "@jupyter-widgets/controls",
          "model_name": "HTMLModel",
          "model_module_version": "1.5.0",
          "state": {
            "_dom_classes": [],
            "_model_module": "@jupyter-widgets/controls",
            "_model_module_version": "1.5.0",
            "_model_name": "HTMLModel",
            "_view_count": null,
            "_view_module": "@jupyter-widgets/controls",
            "_view_module_version": "1.5.0",
            "_view_name": "HTMLView",
            "description": "",
            "description_tooltip": null,
            "layout": "IPY_MODEL_336d57ea2d36456bb414be0e43f0845f",
            "placeholder": "​",
            "style": "IPY_MODEL_ef24cb0d80b44d6a81f1f7d78fa19d79",
            "value": " 7999/7999 [06:47&lt;00:00,  9.16it/s]"
          }
        },
        "fbe75ddb063248b29d4ed9fe148d2b8a": {
          "model_module": "@jupyter-widgets/base",
          "model_name": "LayoutModel",
          "model_module_version": "1.2.0",
          "state": {
            "_model_module": "@jupyter-widgets/base",
            "_model_module_version": "1.2.0",
            "_model_name": "LayoutModel",
            "_view_count": null,
            "_view_module": "@jupyter-widgets/base",
            "_view_module_version": "1.2.0",
            "_view_name": "LayoutView",
            "align_content": null,
            "align_items": null,
            "align_self": null,
            "border": null,
            "bottom": null,
            "display": null,
            "flex": null,
            "flex_flow": null,
            "grid_area": null,
            "grid_auto_columns": null,
            "grid_auto_flow": null,
            "grid_auto_rows": null,
            "grid_column": null,
            "grid_gap": null,
            "grid_row": null,
            "grid_template_areas": null,
            "grid_template_columns": null,
            "grid_template_rows": null,
            "height": null,
            "justify_content": null,
            "justify_items": null,
            "left": null,
            "margin": null,
            "max_height": null,
            "max_width": null,
            "min_height": null,
            "min_width": null,
            "object_fit": null,
            "object_position": null,
            "order": null,
            "overflow": null,
            "overflow_x": null,
            "overflow_y": null,
            "padding": null,
            "right": null,
            "top": null,
            "visibility": null,
            "width": null
          }
        },
        "aba7f796fe2c4e4f804955099914c767": {
          "model_module": "@jupyter-widgets/base",
          "model_name": "LayoutModel",
          "model_module_version": "1.2.0",
          "state": {
            "_model_module": "@jupyter-widgets/base",
            "_model_module_version": "1.2.0",
            "_model_name": "LayoutModel",
            "_view_count": null,
            "_view_module": "@jupyter-widgets/base",
            "_view_module_version": "1.2.0",
            "_view_name": "LayoutView",
            "align_content": null,
            "align_items": null,
            "align_self": null,
            "border": null,
            "bottom": null,
            "display": null,
            "flex": null,
            "flex_flow": null,
            "grid_area": null,
            "grid_auto_columns": null,
            "grid_auto_flow": null,
            "grid_auto_rows": null,
            "grid_column": null,
            "grid_gap": null,
            "grid_row": null,
            "grid_template_areas": null,
            "grid_template_columns": null,
            "grid_template_rows": null,
            "height": null,
            "justify_content": null,
            "justify_items": null,
            "left": null,
            "margin": null,
            "max_height": null,
            "max_width": null,
            "min_height": null,
            "min_width": null,
            "object_fit": null,
            "object_position": null,
            "order": null,
            "overflow": null,
            "overflow_x": null,
            "overflow_y": null,
            "padding": null,
            "right": null,
            "top": null,
            "visibility": null,
            "width": null
          }
        },
        "c1e376dec125472eb216cd657fa517ea": {
          "model_module": "@jupyter-widgets/controls",
          "model_name": "DescriptionStyleModel",
          "model_module_version": "1.5.0",
          "state": {
            "_model_module": "@jupyter-widgets/controls",
            "_model_module_version": "1.5.0",
            "_model_name": "DescriptionStyleModel",
            "_view_count": null,
            "_view_module": "@jupyter-widgets/base",
            "_view_module_version": "1.2.0",
            "_view_name": "StyleView",
            "description_width": ""
          }
        },
        "cd8fe999b61c49a19945be152228e6f5": {
          "model_module": "@jupyter-widgets/base",
          "model_name": "LayoutModel",
          "model_module_version": "1.2.0",
          "state": {
            "_model_module": "@jupyter-widgets/base",
            "_model_module_version": "1.2.0",
            "_model_name": "LayoutModel",
            "_view_count": null,
            "_view_module": "@jupyter-widgets/base",
            "_view_module_version": "1.2.0",
            "_view_name": "LayoutView",
            "align_content": null,
            "align_items": null,
            "align_self": null,
            "border": null,
            "bottom": null,
            "display": null,
            "flex": null,
            "flex_flow": null,
            "grid_area": null,
            "grid_auto_columns": null,
            "grid_auto_flow": null,
            "grid_auto_rows": null,
            "grid_column": null,
            "grid_gap": null,
            "grid_row": null,
            "grid_template_areas": null,
            "grid_template_columns": null,
            "grid_template_rows": null,
            "height": null,
            "justify_content": null,
            "justify_items": null,
            "left": null,
            "margin": null,
            "max_height": null,
            "max_width": null,
            "min_height": null,
            "min_width": null,
            "object_fit": null,
            "object_position": null,
            "order": null,
            "overflow": null,
            "overflow_x": null,
            "overflow_y": null,
            "padding": null,
            "right": null,
            "top": null,
            "visibility": null,
            "width": null
          }
        },
        "ff6abbae82334297ac8565cd9479fda5": {
          "model_module": "@jupyter-widgets/controls",
          "model_name": "ProgressStyleModel",
          "model_module_version": "1.5.0",
          "state": {
            "_model_module": "@jupyter-widgets/controls",
            "_model_module_version": "1.5.0",
            "_model_name": "ProgressStyleModel",
            "_view_count": null,
            "_view_module": "@jupyter-widgets/base",
            "_view_module_version": "1.2.0",
            "_view_name": "StyleView",
            "bar_color": null,
            "description_width": ""
          }
        },
        "336d57ea2d36456bb414be0e43f0845f": {
          "model_module": "@jupyter-widgets/base",
          "model_name": "LayoutModel",
          "model_module_version": "1.2.0",
          "state": {
            "_model_module": "@jupyter-widgets/base",
            "_model_module_version": "1.2.0",
            "_model_name": "LayoutModel",
            "_view_count": null,
            "_view_module": "@jupyter-widgets/base",
            "_view_module_version": "1.2.0",
            "_view_name": "LayoutView",
            "align_content": null,
            "align_items": null,
            "align_self": null,
            "border": null,
            "bottom": null,
            "display": null,
            "flex": null,
            "flex_flow": null,
            "grid_area": null,
            "grid_auto_columns": null,
            "grid_auto_flow": null,
            "grid_auto_rows": null,
            "grid_column": null,
            "grid_gap": null,
            "grid_row": null,
            "grid_template_areas": null,
            "grid_template_columns": null,
            "grid_template_rows": null,
            "height": null,
            "justify_content": null,
            "justify_items": null,
            "left": null,
            "margin": null,
            "max_height": null,
            "max_width": null,
            "min_height": null,
            "min_width": null,
            "object_fit": null,
            "object_position": null,
            "order": null,
            "overflow": null,
            "overflow_x": null,
            "overflow_y": null,
            "padding": null,
            "right": null,
            "top": null,
            "visibility": null,
            "width": null
          }
        },
        "ef24cb0d80b44d6a81f1f7d78fa19d79": {
          "model_module": "@jupyter-widgets/controls",
          "model_name": "DescriptionStyleModel",
          "model_module_version": "1.5.0",
          "state": {
            "_model_module": "@jupyter-widgets/controls",
            "_model_module_version": "1.5.0",
            "_model_name": "DescriptionStyleModel",
            "_view_count": null,
            "_view_module": "@jupyter-widgets/base",
            "_view_module_version": "1.2.0",
            "_view_name": "StyleView",
            "description_width": ""
          }
        },
        "f21ea1e37028453c89173773e30f9d49": {
          "model_module": "@jupyter-widgets/controls",
          "model_name": "HBoxModel",
          "model_module_version": "1.5.0",
          "state": {
            "_dom_classes": [],
            "_model_module": "@jupyter-widgets/controls",
            "_model_module_version": "1.5.0",
            "_model_name": "HBoxModel",
            "_view_count": null,
            "_view_module": "@jupyter-widgets/controls",
            "_view_module_version": "1.5.0",
            "_view_name": "HBoxView",
            "box_style": "",
            "children": [
              "IPY_MODEL_9bc1bc6a7d2240678151c69711ef7494",
              "IPY_MODEL_ee848d9ca8234b36ba2ea47572a7a699",
              "IPY_MODEL_85a48be0d03b4a908bc546bf16f3f9b6"
            ],
            "layout": "IPY_MODEL_2774996416f7488a876c699e412338c4"
          }
        },
        "9bc1bc6a7d2240678151c69711ef7494": {
          "model_module": "@jupyter-widgets/controls",
          "model_name": "HTMLModel",
          "model_module_version": "1.5.0",
          "state": {
            "_dom_classes": [],
            "_model_module": "@jupyter-widgets/controls",
            "_model_module_version": "1.5.0",
            "_model_name": "HTMLModel",
            "_view_count": null,
            "_view_module": "@jupyter-widgets/controls",
            "_view_module_version": "1.5.0",
            "_view_name": "HTMLView",
            "description": "",
            "description_tooltip": null,
            "layout": "IPY_MODEL_90b37fff9d7041eebb8a9f6e1fbb5437",
            "placeholder": "​",
            "style": "IPY_MODEL_b167bf5612414dab834ad2cd3cdea6a5",
            "value": "Progress bar: 100%"
          }
        },
        "ee848d9ca8234b36ba2ea47572a7a699": {
          "model_module": "@jupyter-widgets/controls",
          "model_name": "FloatProgressModel",
          "model_module_version": "1.5.0",
          "state": {
            "_dom_classes": [],
            "_model_module": "@jupyter-widgets/controls",
            "_model_module_version": "1.5.0",
            "_model_name": "FloatProgressModel",
            "_view_count": null,
            "_view_module": "@jupyter-widgets/controls",
            "_view_module_version": "1.5.0",
            "_view_name": "ProgressView",
            "bar_style": "success",
            "description": "",
            "description_tooltip": null,
            "layout": "IPY_MODEL_e4d24b456dee4f8ca120a121b923e548",
            "max": 7999,
            "min": 0,
            "orientation": "horizontal",
            "style": "IPY_MODEL_fb4536577dd0497d8477a817d9cdc346",
            "value": 7999
          }
        },
        "85a48be0d03b4a908bc546bf16f3f9b6": {
          "model_module": "@jupyter-widgets/controls",
          "model_name": "HTMLModel",
          "model_module_version": "1.5.0",
          "state": {
            "_dom_classes": [],
            "_model_module": "@jupyter-widgets/controls",
            "_model_module_version": "1.5.0",
            "_model_name": "HTMLModel",
            "_view_count": null,
            "_view_module": "@jupyter-widgets/controls",
            "_view_module_version": "1.5.0",
            "_view_name": "HTMLView",
            "description": "",
            "description_tooltip": null,
            "layout": "IPY_MODEL_13aad4c179454fd2be37aa6e38d30133",
            "placeholder": "​",
            "style": "IPY_MODEL_f34505613c4745d9ac2936b5b70f92ef",
            "value": " 7999/7999 [02:44&lt;00:00, 23.69it/s]"
          }
        },
        "2774996416f7488a876c699e412338c4": {
          "model_module": "@jupyter-widgets/base",
          "model_name": "LayoutModel",
          "model_module_version": "1.2.0",
          "state": {
            "_model_module": "@jupyter-widgets/base",
            "_model_module_version": "1.2.0",
            "_model_name": "LayoutModel",
            "_view_count": null,
            "_view_module": "@jupyter-widgets/base",
            "_view_module_version": "1.2.0",
            "_view_name": "LayoutView",
            "align_content": null,
            "align_items": null,
            "align_self": null,
            "border": null,
            "bottom": null,
            "display": null,
            "flex": null,
            "flex_flow": null,
            "grid_area": null,
            "grid_auto_columns": null,
            "grid_auto_flow": null,
            "grid_auto_rows": null,
            "grid_column": null,
            "grid_gap": null,
            "grid_row": null,
            "grid_template_areas": null,
            "grid_template_columns": null,
            "grid_template_rows": null,
            "height": null,
            "justify_content": null,
            "justify_items": null,
            "left": null,
            "margin": null,
            "max_height": null,
            "max_width": null,
            "min_height": null,
            "min_width": null,
            "object_fit": null,
            "object_position": null,
            "order": null,
            "overflow": null,
            "overflow_x": null,
            "overflow_y": null,
            "padding": null,
            "right": null,
            "top": null,
            "visibility": null,
            "width": null
          }
        },
        "90b37fff9d7041eebb8a9f6e1fbb5437": {
          "model_module": "@jupyter-widgets/base",
          "model_name": "LayoutModel",
          "model_module_version": "1.2.0",
          "state": {
            "_model_module": "@jupyter-widgets/base",
            "_model_module_version": "1.2.0",
            "_model_name": "LayoutModel",
            "_view_count": null,
            "_view_module": "@jupyter-widgets/base",
            "_view_module_version": "1.2.0",
            "_view_name": "LayoutView",
            "align_content": null,
            "align_items": null,
            "align_self": null,
            "border": null,
            "bottom": null,
            "display": null,
            "flex": null,
            "flex_flow": null,
            "grid_area": null,
            "grid_auto_columns": null,
            "grid_auto_flow": null,
            "grid_auto_rows": null,
            "grid_column": null,
            "grid_gap": null,
            "grid_row": null,
            "grid_template_areas": null,
            "grid_template_columns": null,
            "grid_template_rows": null,
            "height": null,
            "justify_content": null,
            "justify_items": null,
            "left": null,
            "margin": null,
            "max_height": null,
            "max_width": null,
            "min_height": null,
            "min_width": null,
            "object_fit": null,
            "object_position": null,
            "order": null,
            "overflow": null,
            "overflow_x": null,
            "overflow_y": null,
            "padding": null,
            "right": null,
            "top": null,
            "visibility": null,
            "width": null
          }
        },
        "b167bf5612414dab834ad2cd3cdea6a5": {
          "model_module": "@jupyter-widgets/controls",
          "model_name": "DescriptionStyleModel",
          "model_module_version": "1.5.0",
          "state": {
            "_model_module": "@jupyter-widgets/controls",
            "_model_module_version": "1.5.0",
            "_model_name": "DescriptionStyleModel",
            "_view_count": null,
            "_view_module": "@jupyter-widgets/base",
            "_view_module_version": "1.2.0",
            "_view_name": "StyleView",
            "description_width": ""
          }
        },
        "e4d24b456dee4f8ca120a121b923e548": {
          "model_module": "@jupyter-widgets/base",
          "model_name": "LayoutModel",
          "model_module_version": "1.2.0",
          "state": {
            "_model_module": "@jupyter-widgets/base",
            "_model_module_version": "1.2.0",
            "_model_name": "LayoutModel",
            "_view_count": null,
            "_view_module": "@jupyter-widgets/base",
            "_view_module_version": "1.2.0",
            "_view_name": "LayoutView",
            "align_content": null,
            "align_items": null,
            "align_self": null,
            "border": null,
            "bottom": null,
            "display": null,
            "flex": null,
            "flex_flow": null,
            "grid_area": null,
            "grid_auto_columns": null,
            "grid_auto_flow": null,
            "grid_auto_rows": null,
            "grid_column": null,
            "grid_gap": null,
            "grid_row": null,
            "grid_template_areas": null,
            "grid_template_columns": null,
            "grid_template_rows": null,
            "height": null,
            "justify_content": null,
            "justify_items": null,
            "left": null,
            "margin": null,
            "max_height": null,
            "max_width": null,
            "min_height": null,
            "min_width": null,
            "object_fit": null,
            "object_position": null,
            "order": null,
            "overflow": null,
            "overflow_x": null,
            "overflow_y": null,
            "padding": null,
            "right": null,
            "top": null,
            "visibility": null,
            "width": null
          }
        },
        "fb4536577dd0497d8477a817d9cdc346": {
          "model_module": "@jupyter-widgets/controls",
          "model_name": "ProgressStyleModel",
          "model_module_version": "1.5.0",
          "state": {
            "_model_module": "@jupyter-widgets/controls",
            "_model_module_version": "1.5.0",
            "_model_name": "ProgressStyleModel",
            "_view_count": null,
            "_view_module": "@jupyter-widgets/base",
            "_view_module_version": "1.2.0",
            "_view_name": "StyleView",
            "bar_color": null,
            "description_width": ""
          }
        },
        "13aad4c179454fd2be37aa6e38d30133": {
          "model_module": "@jupyter-widgets/base",
          "model_name": "LayoutModel",
          "model_module_version": "1.2.0",
          "state": {
            "_model_module": "@jupyter-widgets/base",
            "_model_module_version": "1.2.0",
            "_model_name": "LayoutModel",
            "_view_count": null,
            "_view_module": "@jupyter-widgets/base",
            "_view_module_version": "1.2.0",
            "_view_name": "LayoutView",
            "align_content": null,
            "align_items": null,
            "align_self": null,
            "border": null,
            "bottom": null,
            "display": null,
            "flex": null,
            "flex_flow": null,
            "grid_area": null,
            "grid_auto_columns": null,
            "grid_auto_flow": null,
            "grid_auto_rows": null,
            "grid_column": null,
            "grid_gap": null,
            "grid_row": null,
            "grid_template_areas": null,
            "grid_template_columns": null,
            "grid_template_rows": null,
            "height": null,
            "justify_content": null,
            "justify_items": null,
            "left": null,
            "margin": null,
            "max_height": null,
            "max_width": null,
            "min_height": null,
            "min_width": null,
            "object_fit": null,
            "object_position": null,
            "order": null,
            "overflow": null,
            "overflow_x": null,
            "overflow_y": null,
            "padding": null,
            "right": null,
            "top": null,
            "visibility": null,
            "width": null
          }
        },
        "f34505613c4745d9ac2936b5b70f92ef": {
          "model_module": "@jupyter-widgets/controls",
          "model_name": "DescriptionStyleModel",
          "model_module_version": "1.5.0",
          "state": {
            "_model_module": "@jupyter-widgets/controls",
            "_model_module_version": "1.5.0",
            "_model_name": "DescriptionStyleModel",
            "_view_count": null,
            "_view_module": "@jupyter-widgets/base",
            "_view_module_version": "1.2.0",
            "_view_name": "StyleView",
            "description_width": ""
          }
        },
        "69b735fb41024962913631d9eef0fd5b": {
          "model_module": "@jupyter-widgets/controls",
          "model_name": "HBoxModel",
          "model_module_version": "1.5.0",
          "state": {
            "_dom_classes": [],
            "_model_module": "@jupyter-widgets/controls",
            "_model_module_version": "1.5.0",
            "_model_name": "HBoxModel",
            "_view_count": null,
            "_view_module": "@jupyter-widgets/controls",
            "_view_module_version": "1.5.0",
            "_view_name": "HBoxView",
            "box_style": "",
            "children": [
              "IPY_MODEL_82cd3e345a61439e851b0f8f757f1373",
              "IPY_MODEL_943c3517c09544f5ae9edefccba418f8",
              "IPY_MODEL_984d3a7fdf8640bc859b46f8ec0e744b"
            ],
            "layout": "IPY_MODEL_f4aea62236f6468099004d92012a4cb4"
          }
        },
        "82cd3e345a61439e851b0f8f757f1373": {
          "model_module": "@jupyter-widgets/controls",
          "model_name": "HTMLModel",
          "model_module_version": "1.5.0",
          "state": {
            "_dom_classes": [],
            "_model_module": "@jupyter-widgets/controls",
            "_model_module_version": "1.5.0",
            "_model_name": "HTMLModel",
            "_view_count": null,
            "_view_module": "@jupyter-widgets/controls",
            "_view_module_version": "1.5.0",
            "_view_name": "HTMLView",
            "description": "",
            "description_tooltip": null,
            "layout": "IPY_MODEL_f68931002194413a925cd7db64e00901",
            "placeholder": "​",
            "style": "IPY_MODEL_3799e6e0d0bd45b9822a214f5faf9f00",
            "value": "Progress bar: 100%"
          }
        },
        "943c3517c09544f5ae9edefccba418f8": {
          "model_module": "@jupyter-widgets/controls",
          "model_name": "FloatProgressModel",
          "model_module_version": "1.5.0",
          "state": {
            "_dom_classes": [],
            "_model_module": "@jupyter-widgets/controls",
            "_model_module_version": "1.5.0",
            "_model_name": "FloatProgressModel",
            "_view_count": null,
            "_view_module": "@jupyter-widgets/controls",
            "_view_module_version": "1.5.0",
            "_view_name": "ProgressView",
            "bar_style": "success",
            "description": "",
            "description_tooltip": null,
            "layout": "IPY_MODEL_008565196e8c409cbc99cf99ab18ad61",
            "max": 7999,
            "min": 0,
            "orientation": "horizontal",
            "style": "IPY_MODEL_616bb3ae154f4982997c648f8621d7ba",
            "value": 7999
          }
        },
        "984d3a7fdf8640bc859b46f8ec0e744b": {
          "model_module": "@jupyter-widgets/controls",
          "model_name": "HTMLModel",
          "model_module_version": "1.5.0",
          "state": {
            "_dom_classes": [],
            "_model_module": "@jupyter-widgets/controls",
            "_model_module_version": "1.5.0",
            "_model_name": "HTMLModel",
            "_view_count": null,
            "_view_module": "@jupyter-widgets/controls",
            "_view_module_version": "1.5.0",
            "_view_name": "HTMLView",
            "description": "",
            "description_tooltip": null,
            "layout": "IPY_MODEL_683f3b467f0b4f0e80716036266933a9",
            "placeholder": "​",
            "style": "IPY_MODEL_c351f4cb146a476f8957b6bb46778bc2",
            "value": " 7999/7999 [02:47&lt;00:00, 25.15it/s]"
          }
        },
        "f4aea62236f6468099004d92012a4cb4": {
          "model_module": "@jupyter-widgets/base",
          "model_name": "LayoutModel",
          "model_module_version": "1.2.0",
          "state": {
            "_model_module": "@jupyter-widgets/base",
            "_model_module_version": "1.2.0",
            "_model_name": "LayoutModel",
            "_view_count": null,
            "_view_module": "@jupyter-widgets/base",
            "_view_module_version": "1.2.0",
            "_view_name": "LayoutView",
            "align_content": null,
            "align_items": null,
            "align_self": null,
            "border": null,
            "bottom": null,
            "display": null,
            "flex": null,
            "flex_flow": null,
            "grid_area": null,
            "grid_auto_columns": null,
            "grid_auto_flow": null,
            "grid_auto_rows": null,
            "grid_column": null,
            "grid_gap": null,
            "grid_row": null,
            "grid_template_areas": null,
            "grid_template_columns": null,
            "grid_template_rows": null,
            "height": null,
            "justify_content": null,
            "justify_items": null,
            "left": null,
            "margin": null,
            "max_height": null,
            "max_width": null,
            "min_height": null,
            "min_width": null,
            "object_fit": null,
            "object_position": null,
            "order": null,
            "overflow": null,
            "overflow_x": null,
            "overflow_y": null,
            "padding": null,
            "right": null,
            "top": null,
            "visibility": null,
            "width": null
          }
        },
        "f68931002194413a925cd7db64e00901": {
          "model_module": "@jupyter-widgets/base",
          "model_name": "LayoutModel",
          "model_module_version": "1.2.0",
          "state": {
            "_model_module": "@jupyter-widgets/base",
            "_model_module_version": "1.2.0",
            "_model_name": "LayoutModel",
            "_view_count": null,
            "_view_module": "@jupyter-widgets/base",
            "_view_module_version": "1.2.0",
            "_view_name": "LayoutView",
            "align_content": null,
            "align_items": null,
            "align_self": null,
            "border": null,
            "bottom": null,
            "display": null,
            "flex": null,
            "flex_flow": null,
            "grid_area": null,
            "grid_auto_columns": null,
            "grid_auto_flow": null,
            "grid_auto_rows": null,
            "grid_column": null,
            "grid_gap": null,
            "grid_row": null,
            "grid_template_areas": null,
            "grid_template_columns": null,
            "grid_template_rows": null,
            "height": null,
            "justify_content": null,
            "justify_items": null,
            "left": null,
            "margin": null,
            "max_height": null,
            "max_width": null,
            "min_height": null,
            "min_width": null,
            "object_fit": null,
            "object_position": null,
            "order": null,
            "overflow": null,
            "overflow_x": null,
            "overflow_y": null,
            "padding": null,
            "right": null,
            "top": null,
            "visibility": null,
            "width": null
          }
        },
        "3799e6e0d0bd45b9822a214f5faf9f00": {
          "model_module": "@jupyter-widgets/controls",
          "model_name": "DescriptionStyleModel",
          "model_module_version": "1.5.0",
          "state": {
            "_model_module": "@jupyter-widgets/controls",
            "_model_module_version": "1.5.0",
            "_model_name": "DescriptionStyleModel",
            "_view_count": null,
            "_view_module": "@jupyter-widgets/base",
            "_view_module_version": "1.2.0",
            "_view_name": "StyleView",
            "description_width": ""
          }
        },
        "008565196e8c409cbc99cf99ab18ad61": {
          "model_module": "@jupyter-widgets/base",
          "model_name": "LayoutModel",
          "model_module_version": "1.2.0",
          "state": {
            "_model_module": "@jupyter-widgets/base",
            "_model_module_version": "1.2.0",
            "_model_name": "LayoutModel",
            "_view_count": null,
            "_view_module": "@jupyter-widgets/base",
            "_view_module_version": "1.2.0",
            "_view_name": "LayoutView",
            "align_content": null,
            "align_items": null,
            "align_self": null,
            "border": null,
            "bottom": null,
            "display": null,
            "flex": null,
            "flex_flow": null,
            "grid_area": null,
            "grid_auto_columns": null,
            "grid_auto_flow": null,
            "grid_auto_rows": null,
            "grid_column": null,
            "grid_gap": null,
            "grid_row": null,
            "grid_template_areas": null,
            "grid_template_columns": null,
            "grid_template_rows": null,
            "height": null,
            "justify_content": null,
            "justify_items": null,
            "left": null,
            "margin": null,
            "max_height": null,
            "max_width": null,
            "min_height": null,
            "min_width": null,
            "object_fit": null,
            "object_position": null,
            "order": null,
            "overflow": null,
            "overflow_x": null,
            "overflow_y": null,
            "padding": null,
            "right": null,
            "top": null,
            "visibility": null,
            "width": null
          }
        },
        "616bb3ae154f4982997c648f8621d7ba": {
          "model_module": "@jupyter-widgets/controls",
          "model_name": "ProgressStyleModel",
          "model_module_version": "1.5.0",
          "state": {
            "_model_module": "@jupyter-widgets/controls",
            "_model_module_version": "1.5.0",
            "_model_name": "ProgressStyleModel",
            "_view_count": null,
            "_view_module": "@jupyter-widgets/base",
            "_view_module_version": "1.2.0",
            "_view_name": "StyleView",
            "bar_color": null,
            "description_width": ""
          }
        },
        "683f3b467f0b4f0e80716036266933a9": {
          "model_module": "@jupyter-widgets/base",
          "model_name": "LayoutModel",
          "model_module_version": "1.2.0",
          "state": {
            "_model_module": "@jupyter-widgets/base",
            "_model_module_version": "1.2.0",
            "_model_name": "LayoutModel",
            "_view_count": null,
            "_view_module": "@jupyter-widgets/base",
            "_view_module_version": "1.2.0",
            "_view_name": "LayoutView",
            "align_content": null,
            "align_items": null,
            "align_self": null,
            "border": null,
            "bottom": null,
            "display": null,
            "flex": null,
            "flex_flow": null,
            "grid_area": null,
            "grid_auto_columns": null,
            "grid_auto_flow": null,
            "grid_auto_rows": null,
            "grid_column": null,
            "grid_gap": null,
            "grid_row": null,
            "grid_template_areas": null,
            "grid_template_columns": null,
            "grid_template_rows": null,
            "height": null,
            "justify_content": null,
            "justify_items": null,
            "left": null,
            "margin": null,
            "max_height": null,
            "max_width": null,
            "min_height": null,
            "min_width": null,
            "object_fit": null,
            "object_position": null,
            "order": null,
            "overflow": null,
            "overflow_x": null,
            "overflow_y": null,
            "padding": null,
            "right": null,
            "top": null,
            "visibility": null,
            "width": null
          }
        },
        "c351f4cb146a476f8957b6bb46778bc2": {
          "model_module": "@jupyter-widgets/controls",
          "model_name": "DescriptionStyleModel",
          "model_module_version": "1.5.0",
          "state": {
            "_model_module": "@jupyter-widgets/controls",
            "_model_module_version": "1.5.0",
            "_model_name": "DescriptionStyleModel",
            "_view_count": null,
            "_view_module": "@jupyter-widgets/base",
            "_view_module_version": "1.2.0",
            "_view_name": "StyleView",
            "description_width": ""
          }
        }
      }
    }
  },
  "cells": [
    {
      "cell_type": "code",
      "execution_count": null,
      "metadata": {
        "id": "GOK14vsOb99O"
      },
      "outputs": [],
      "source": [
        "!pip install -q replay-rec rs_datasets"
      ]
    },
    {
      "cell_type": "code",
      "source": [
        "import pandas as pd\n",
        "import numpy as np\n",
        "from rs_datasets import MovieLens\n",
        "from collections import Counter\n",
        "from replay.splitters.time_splitter import TimeSplitter\n",
        "from sklearn.preprocessing import OrdinalEncoder\n",
        "from replay.metrics import NDCG, HitRate, Coverage, OfflineMetrics\n",
        "from replay.preprocessing.filters import LowRatingFilter\n",
        "from tqdm.auto import tqdm\n",
        "import warnings\n",
        "import matplotlib.pyplot as plt\n",
        "\n",
        "warnings.filterwarnings('ignore')"
      ],
      "metadata": {
        "id": "Bfm-Ln27cHAn"
      },
      "execution_count": null,
      "outputs": []
    },
    {
      "cell_type": "code",
      "source": [
        "ml = MovieLens('1m')\n",
        "data = ml.ratings"
      ],
      "metadata": {
        "id": "nkvJOb-XdP2A"
      },
      "execution_count": null,
      "outputs": []
    },
    {
      "cell_type": "code",
      "source": [
        "train, test = TimeSplitter(time_threshold=0.2,\n",
        "                           drop_cold_users=True,\n",
        "                           drop_cold_items=True,\n",
        "                           query_column='user_id').split(data)"
      ],
      "metadata": {
        "id": "qNh-c7TkSMYq"
      },
      "execution_count": null,
      "outputs": []
    },
    {
      "cell_type": "code",
      "source": [
        "print('Юзеров в train = {}'.format(train.user_id.nunique()))\n",
        "print('Айтемов в train = {}'.format(train.item_id.nunique()))"
      ],
      "metadata": {
        "colab": {
          "base_uri": "https://localhost:8080/"
        },
        "id": "6mcJ6gIh6T1R",
        "outputId": "efaf3863-102a-4f50-ecbc-bde508ce968c"
      },
      "execution_count": null,
      "outputs": [
        {
          "output_type": "stream",
          "name": "stdout",
          "text": [
            "Юзеров в train = 5400\n",
            "Айтемов в train = 3662\n"
          ]
        }
      ]
    },
    {
      "cell_type": "markdown",
      "source": [
        "Оставим айтемы в тесте с оценкой не ниже 4"
      ],
      "metadata": {
        "id": "_XTNs_Ud2j3i"
      }
    },
    {
      "cell_type": "code",
      "source": [
        "test = LowRatingFilter(value=4).transform(test)\n",
        "test = test[test['user_id'].isin(train['user_id'].unique())]"
      ],
      "metadata": {
        "id": "CvFWPmOBlmVH"
      },
      "execution_count": null,
      "outputs": []
    },
    {
      "cell_type": "code",
      "source": [
        "enc = OrdinalEncoder()\n",
        "train[['user_id','item_id']] = enc.fit_transform(train[['user_id','item_id']]).astype(int)\n",
        "test[['user_id','item_id']] = enc.transform(test[['user_id','item_id']]).astype(int)"
      ],
      "metadata": {
        "id": "ROwwd74TSbU6"
      },
      "execution_count": null,
      "outputs": []
    },
    {
      "cell_type": "markdown",
      "source": [
        "### E-greedy"
      ],
      "metadata": {
        "id": "3u6-OShWiLDg"
      }
    },
    {
      "cell_type": "code",
      "source": [
        "def fit_greedy(data, num_batches, epsilon):\n",
        "    percentiles = data['timestamp'].quantile([i / num_batches for i in range(num_batches+1)]).tolist()\n",
        "    perv_percentile = percentiles[1]\n",
        "    batch = data[data['timestamp'] < perv_percentile]\n",
        "\n",
        "    item_rewards = np.zeros(data['item_id'].max() + 1)\n",
        "    item_counts = np.ones(data['item_id'].max() + 1)\n",
        "\n",
        "    for percentile in tqdm(percentiles[2:], desc = 'Progress bar'):\n",
        "      batch = data[data['timestamp'] < percentile]\n",
        "      item_rewards, item_counts = e_greedy(batch, epsilon, item_rewards, item_counts)\n",
        "\n",
        "    Q = item_rewards / item_counts\n",
        "\n",
        "    return Q"
      ],
      "metadata": {
        "id": "dSeO3MH2fO6a"
      },
      "execution_count": null,
      "outputs": []
    },
    {
      "cell_type": "code",
      "source": [
        "def e_greedy(batch, epsilon, item_rewards, item_counts):\n",
        "    predict_item = np.argmax(item_rewards / item_counts)\n",
        "    num_users = batch['user_id'].nunique()\n",
        "    users = batch['user_id'].unique()\n",
        "    binomial = np.random.binomial(n=1, p=epsilon, size=num_users)\n",
        "    if np.sum(binomial != 0) > 0:\n",
        "        random_item = np.random.choice(batch['item_id'].unique(), size=1)\n",
        "        binomial_mask = binomial == 1\n",
        "        random_users = users[binomial_mask]\n",
        "        random_user_data = batch[batch['user_id'].isin(random_users)]\n",
        "        random_value_count = random_user_data['item_id'].value_counts()\n",
        "        batch = batch[~batch['user_id'].isin(random_users)]\n",
        "\n",
        "        if random_item in random_user_data['item_id'].unique():\n",
        "            count_random = int(random_value_count[random_item])\n",
        "        else:\n",
        "            count_random = 0\n",
        "\n",
        "        item_rewards[random_item] += count_random\n",
        "        item_counts[random_item] += len(random_users)\n",
        "\n",
        "    num_user = batch['user_id'].nunique()\n",
        "    value_count = batch['item_id'].value_counts()\n",
        "    if predict_item in batch['item_id'].unique():\n",
        "        count_item = int(value_count[predict_item])\n",
        "    else:\n",
        "        count_item = 0\n",
        "    item_rewards[predict_item] += count_item\n",
        "    item_counts[predict_item] += num_user\n",
        "\n",
        "    return item_rewards, item_counts"
      ],
      "metadata": {
        "id": "-WJH8zOFeacN"
      },
      "execution_count": null,
      "outputs": []
    },
    {
      "cell_type": "code",
      "source": [
        "%%time\n",
        "Q_greedy = fit_greedy(data=train, num_batches=8000, epsilon=0.05)"
      ],
      "metadata": {
        "colab": {
          "base_uri": "https://localhost:8080/",
          "height": 102,
          "referenced_widgets": [
            "cb040f5ded1044fbaf4e2f288751217a",
            "14fc23763d9744628588fa966eb0965f",
            "65ce6c4fa7ce45ed870998b02178f301",
            "2a9a9d0061af4f2fb261241534f52a9d",
            "fbe75ddb063248b29d4ed9fe148d2b8a",
            "aba7f796fe2c4e4f804955099914c767",
            "c1e376dec125472eb216cd657fa517ea",
            "cd8fe999b61c49a19945be152228e6f5",
            "ff6abbae82334297ac8565cd9479fda5",
            "336d57ea2d36456bb414be0e43f0845f",
            "ef24cb0d80b44d6a81f1f7d78fa19d79"
          ]
        },
        "id": "Lg6Ql2oV3yC3",
        "outputId": "8e3abe15-49a9-4a9e-d7e3-f4d85d08546c"
      },
      "execution_count": null,
      "outputs": [
        {
          "output_type": "display_data",
          "data": {
            "text/plain": [
              "Progress bar:   0%|          | 0/7999 [00:00<?, ?it/s]"
            ],
            "application/vnd.jupyter.widget-view+json": {
              "version_major": 2,
              "version_minor": 0,
              "model_id": "cb040f5ded1044fbaf4e2f288751217a"
            }
          },
          "metadata": {}
        },
        {
          "output_type": "stream",
          "name": "stdout",
          "text": [
            "CPU times: user 5min 58s, sys: 52.6 s, total: 6min 51s\n",
            "Wall time: 6min 47s\n"
          ]
        }
      ]
    },
    {
      "cell_type": "code",
      "source": [
        "plt.hist(Q_greedy)\n",
        "plt.title('Распределение Q среди айтемов для алгоритма E-greedy')\n",
        "plt.xlabel('Q')\n",
        "plt.grid()\n",
        "plt.show()"
      ],
      "metadata": {
        "colab": {
          "base_uri": "https://localhost:8080/",
          "height": 493
        },
        "id": "d66mx6qz5dtF",
        "outputId": "1a5a7ef4-f5b4-426d-ed49-31ef4153c40c"
      },
      "execution_count": null,
      "outputs": [
        {
          "output_type": "display_data",
          "data": {
            "text/plain": [
              "<Figure size 640x480 with 1 Axes>"
            ],
            "image/png": "[encoded data removed]"
          },
          "metadata": {}
        }
      ]
    },
    {
      "cell_type": "code",
      "source": [
        "def make_predict(weights, test, topk, train, filter_seen=True):\n",
        "    num_user = train['user_id'].max() + 1\n",
        "    weights_matrix = np.tile(weights, num_user).reshape(-1, weights.shape[0])\n",
        "    if filter_seen:\n",
        "        rating_matrix = pd.pivot_table(train, values='rating', index='user_id', columns='item_id').fillna(0).to_numpy()\n",
        "        weights_matrix = np.multiply(weights_matrix, np.invert(rating_matrix.astype(bool)))\n",
        "\n",
        "    ind_part = np.argpartition(weights_matrix, -topk)[:, -topk:].copy()\n",
        "    scores_not_sorted = np.take_along_axis(weights_matrix, ind_part, axis=1)\n",
        "    ind_sorted = np.argsort(scores_not_sorted, axis=1)\n",
        "    scores_sorted = np.sort(scores_not_sorted, axis=1)\n",
        "    indices = np.take_along_axis(ind_part, ind_sorted, axis=1)\n",
        "\n",
        "    pred = pd.DataFrame({\n",
        "        'user_id': range(weights_matrix.shape[0]),\n",
        "        'item_id': list(indices),\n",
        "        'rating': list(scores_sorted)\n",
        "    }).explode(['item_id', 'rating'])\n",
        "\n",
        "    return pred"
      ],
      "metadata": {
        "id": "cvtqePKA07iM"
      },
      "execution_count": null,
      "outputs": []
    },
    {
      "cell_type": "code",
      "source": [
        "%%time\n",
        "predict = make_predict(Q_greedy, test, topk=10, train=train)"
      ],
      "metadata": {
        "id": "o5NkCH1Z6G7C",
        "colab": {
          "base_uri": "https://localhost:8080/"
        },
        "outputId": "27dfa600-b9dc-409a-f02f-31ef1ba688c4"
      },
      "execution_count": null,
      "outputs": [
        {
          "output_type": "stream",
          "name": "stdout",
          "text": [
            "CPU times: user 1.09 s, sys: 424 ms, total: 1.51 s\n",
            "Wall time: 1.37 s\n"
          ]
        }
      ]
    },
    {
      "cell_type": "code",
      "source": [
        "metrics = [HitRate(topk=10), NDCG(topk=10), Coverage(topk=10)]"
      ],
      "metadata": {
        "id": "YxKGLR4WhsbU"
      },
      "execution_count": null,
      "outputs": []
    },
    {
      "cell_type": "code",
      "source": [
        "OfflineMetrics(metrics, query_column='user_id')(predict, test, train)"
      ],
      "metadata": {
        "colab": {
          "base_uri": "https://localhost:8080/"
        },
        "id": "o6gNCicQ5ypi",
        "outputId": "7b3c6dd3-0967-461a-8c33-caabab9c571d"
      },
      "execution_count": null,
      "outputs": [
        {
          "output_type": "execute_result",
          "data": {
            "text/plain": [
              "{'HitRate@10': 0.6051693404634582,\n",
              " 'NDCG@10': 0.20209722798278207,\n",
              " 'Coverage@10': 0.0363189513926816}"
            ]
          },
          "metadata": {},
          "execution_count": 18
        }
      ]
    },
    {
      "cell_type": "markdown",
      "source": [
        "### UCB"
      ],
      "metadata": {
        "id": "llb0A2ptYvKB"
      }
    },
    {
      "cell_type": "code",
      "source": [
        "def UCB(batch, item_rewards, item_counts, item_bound, t, alpha):\n",
        "    item_bound = alpha * np.sqrt(2 * np.log(t) / item_counts)\n",
        "    pred_item = np.argmax(item_rewards / item_counts + item_bound)\n",
        "    num_user = batch['user_id'].nunique()\n",
        "    users = batch['user_id'].unique()\n",
        "\n",
        "    value_count = batch['item_id'].value_counts()\n",
        "    if pred_item in batch['item_id'].unique():\n",
        "        count_item = int(value_count[pred_item])\n",
        "    else:\n",
        "        count_item = 0\n",
        "\n",
        "    item_rewards[pred_item] += count_item\n",
        "    item_counts[pred_item] += num_user\n",
        "\n",
        "    return item_rewards, item_counts, item_bound"
      ],
      "metadata": {
        "id": "URMtg33l5_CW"
      },
      "execution_count": null,
      "outputs": []
    },
    {
      "cell_type": "code",
      "source": [
        "def fit_ucb(data, num_batches, alpha=2):\n",
        "    percentiles = data['timestamp'].quantile([i / num_batches for i in range(num_batches+1)]).tolist()\n",
        "    perv_percentile = percentiles[1]\n",
        "    batch = data[data['timestamp'] < perv_percentile]\n",
        "\n",
        "    item_rewards = np.zeros(data['item_id'].max() + 1)\n",
        "    item_counts = np.ones(data['item_id'].max() + 1)\n",
        "    item_bound = np.zeros(data['item_id'].max() + 1)\n",
        "\n",
        "    for t, percentile in enumerate(tqdm(percentiles[2:], desc = 'Progress bar')):\n",
        "      batch = data[data['timestamp'] < percentile]\n",
        "      item_rewards, item_counts, item_bound = UCB(batch, item_rewards, item_counts, item_bound, t, alpha)\n",
        "\n",
        "    Q = item_rewards / item_counts + item_bound\n",
        "\n",
        "    return Q"
      ],
      "metadata": {
        "id": "-_K4Nsqi-wd_"
      },
      "execution_count": null,
      "outputs": []
    },
    {
      "cell_type": "code",
      "source": [
        "Q_ucb = fit_ucb(data=train, num_batches=8000, alpha=0.5)"
      ],
      "metadata": {
        "id": "X5tEEtBA--6P",
        "colab": {
          "base_uri": "https://localhost:8080/",
          "height": 69,
          "referenced_widgets": [
            "f21ea1e37028453c89173773e30f9d49",
            "9bc1bc6a7d2240678151c69711ef7494",
            "ee848d9ca8234b36ba2ea47572a7a699",
            "85a48be0d03b4a908bc546bf16f3f9b6",
            "2774996416f7488a876c699e412338c4",
            "90b37fff9d7041eebb8a9f6e1fbb5437",
            "b167bf5612414dab834ad2cd3cdea6a5",
            "e4d24b456dee4f8ca120a121b923e548",
            "fb4536577dd0497d8477a817d9cdc346",
            "13aad4c179454fd2be37aa6e38d30133",
            "f34505613c4745d9ac2936b5b70f92ef"
          ]
        },
        "outputId": "7d91dbb7-5ed8-4999-c2bb-a4e72416eb89"
      },
      "execution_count": null,
      "outputs": [
        {
          "output_type": "display_data",
          "data": {
            "text/plain": [
              "Progress bar:   0%|          | 0/7999 [00:00<?, ?it/s]"
            ],
            "application/vnd.jupyter.widget-view+json": {
              "version_major": 2,
              "version_minor": 0,
              "model_id": "f21ea1e37028453c89173773e30f9d49"
            }
          },
          "metadata": {}
        }
      ]
    },
    {
      "cell_type": "code",
      "source": [
        "plt.hist(Q_ucb)\n",
        "plt.title('Распределение Q среди айтемов для алгоритма UCB')\n",
        "plt.xlabel('Q')\n",
        "plt.grid()\n",
        "plt.show()"
      ],
      "metadata": {
        "colab": {
          "base_uri": "https://localhost:8080/",
          "height": 493
        },
        "id": "LpZ7VFeLC9nP",
        "outputId": "532dbd17-d55b-4c1b-f320-e4bdb6590dd0"
      },
      "execution_count": null,
      "outputs": [
        {
          "output_type": "display_data",
          "data": {
            "text/plain": [
              "<Figure size 640x480 with 1 Axes>"
            ],
            "image/png": "[encoded data removed]"
          },
          "metadata": {}
        }
      ]
    },
    {
      "cell_type": "code",
      "source": [
        "predict = make_predict(Q_ucb, test, topk=10, train=train)\n",
        "OfflineMetrics(metrics, query_column='user_id')(predict, test, train)"
      ],
      "metadata": {
        "colab": {
          "base_uri": "https://localhost:8080/"
        },
        "id": "i-wdqzDOAtM5",
        "outputId": "6a95abb6-6135-44d2-ab99-8056e338b513"
      },
      "execution_count": null,
      "outputs": [
        {
          "output_type": "execute_result",
          "data": {
            "text/plain": [
              "{'HitRate@10': 0.48484848484848486,\n",
              " 'NDCG@10': 0.10019676101007258,\n",
              " 'Coverage@10': 0.013653741125068269}"
            ]
          },
          "metadata": {},
          "execution_count": 28
        }
      ]
    },
    {
      "cell_type": "code",
      "source": [
        "Q_ucb = fit_ucb(data=train, num_batches=8000, alpha=1)"
      ],
      "metadata": {
        "colab": {
          "base_uri": "https://localhost:8080/",
          "height": 69,
          "referenced_widgets": [
            "69b735fb41024962913631d9eef0fd5b",
            "82cd3e345a61439e851b0f8f757f1373",
            "943c3517c09544f5ae9edefccba418f8",
            "984d3a7fdf8640bc859b46f8ec0e744b",
            "f4aea62236f6468099004d92012a4cb4",
            "f68931002194413a925cd7db64e00901",
            "3799e6e0d0bd45b9822a214f5faf9f00",
            "008565196e8c409cbc99cf99ab18ad61",
            "616bb3ae154f4982997c648f8621d7ba",
            "683f3b467f0b4f0e80716036266933a9",
            "c351f4cb146a476f8957b6bb46778bc2"
          ]
        },
        "id": "XmbuHO60Dv13",
        "outputId": "35cda0aa-9a49-4032-e6f5-0098f83ece2f"
      },
      "execution_count": null,
      "outputs": [
        {
          "output_type": "display_data",
          "data": {
            "text/plain": [
              "Progress bar:   0%|          | 0/7999 [00:00<?, ?it/s]"
            ],
            "application/vnd.jupyter.widget-view+json": {
              "version_major": 2,
              "version_minor": 0,
              "model_id": "69b735fb41024962913631d9eef0fd5b"
            }
          },
          "metadata": {}
        }
      ]
    },
    {
      "cell_type": "code",
      "source": [
        "# alpha = 1\n",
        "plt.hist(Q_ucb)\n",
        "plt.title('Распределение Q среди айтемов для алгоритма UCB')\n",
        "plt.xlabel('Q')\n",
        "plt.grid()\n",
        "plt.show()"
      ],
      "metadata": {
        "colab": {
          "base_uri": "https://localhost:8080/",
          "height": 493
        },
        "id": "McS8wYwHEUIK",
        "outputId": "ba52f05a-22de-483a-d2aa-52068565fc2d"
      },
      "execution_count": null,
      "outputs": [
        {
          "output_type": "display_data",
          "data": {
            "text/plain": [
              "<Figure size 640x480 with 1 Axes>"
            ],
            "image/png": "[encoded data removed]"
          },
          "metadata": {}
        }
      ]
    },
    {
      "cell_type": "code",
      "source": [
        "predict = make_predict(Q_ucb, test, topk=10, train=train)\n",
        "OfflineMetrics(metrics, query_column='user_id')(predict, test, train)"
      ],
      "metadata": {
        "colab": {
          "base_uri": "https://localhost:8080/"
        },
        "id": "9xISLze1EqYC",
        "outputId": "95f0845a-a232-4758-c1df-d16df25d8706"
      },
      "execution_count": null,
      "outputs": [
        {
          "output_type": "execute_result",
          "data": {
            "text/plain": [
              "{'HitRate@10': 0.3761140819964349,\n",
              " 'NDCG@10': 0.06377992515500235,\n",
              " 'Coverage@10': 0.009284543965046422}"
            ]
          },
          "metadata": {},
          "execution_count": 31
        }
      ]
    },
    {
      "cell_type": "code",
      "source": [
        "Q_ucb = fit_ucb(data=train, num_batches=8000, alpha=2)"
      ],
      "metadata": {
        "colab": {
          "base_uri": "https://localhost:8080/",
          "height": 49,
          "referenced_widgets": [
            "4bc9ba7c48234c3caab2e0c6d28abe4c",
            "ca969af5c3324041a4f8050a03ec4588",
            "66edf9a7b3ba4144a4986ee0f85520f6",
            "bf09a76b07cb44c4a1c6661772312b75",
            "7a5d93313ddc4109a27fd37a1ff06530",
            "4d00a620d2674d0681f85f81ae2fb271",
            "a501f0f826f64e6e82b987331ca0e460",
            "09ce518723ca4bb5941324c937f2e3e0",
            "7b3b45fc015e44caa456a8d3ead2f19d",
            "167a242df460467cb20b99a3cbee75b3",
            "98c176b32fec4e23988c73a22313dac3"
          ]
        },
        "id": "r5er14Lx_qC8",
        "outputId": "24fd3b2d-304f-430d-8a29-813d572e4c02"
      },
      "execution_count": null,
      "outputs": [
        {
          "output_type": "display_data",
          "data": {
            "text/plain": [
              "Progress bar:   0%|          | 0/7999 [00:00<?, ?it/s]"
            ],
            "application/vnd.jupyter.widget-view+json": {
              "version_major": 2,
              "version_minor": 0,
              "model_id": "4bc9ba7c48234c3caab2e0c6d28abe4c"
            }
          },
          "metadata": {}
        }
      ]
    },
    {
      "cell_type": "code",
      "source": [
        "# alpha = 2\n",
        "plt.hist(Q_ucb)\n",
        "plt.title('Распределение Q среди айтемов для алгоритма UCB')\n",
        "plt.xlabel('Q')\n",
        "plt.grid()\n",
        "plt.show()"
      ],
      "metadata": {
        "colab": {
          "base_uri": "https://localhost:8080/",
          "height": 493
        },
        "id": "huFR4KE_CpWz",
        "outputId": "147e3e64-3ffa-4174-f324-06905e7f5220"
      },
      "execution_count": null,
      "outputs": [
        {
          "output_type": "display_data",
          "data": {
            "text/plain": [
              "<Figure size 640x480 with 1 Axes>"
            ],
            "image/png": "[encoded data removed]"
          },
          "metadata": {}
        }
      ]
    },
    {
      "cell_type": "code",
      "source": [
        "predict = make_predict(Q_ucb, test, topk=10, train=train)\n",
        "OfflineMetrics(metrics, query_column='user_id')(predict, test, train)"
      ],
      "metadata": {
        "colab": {
          "base_uri": "https://localhost:8080/"
        },
        "id": "mkMZZtGlCu77",
        "outputId": "1cc8450d-c823-49f5-cd9b-b17151e4b697"
      },
      "execution_count": null,
      "outputs": [
        {
          "output_type": "execute_result",
          "data": {
            "text/plain": [
              "{'HitRate@10': 0.30124777183600715,\n",
              " 'NDCG@10': 0.04260754309149072,\n",
              " 'Coverage@10': 0.010922992900054615}"
            ]
          },
          "metadata": {},
          "execution_count": 25
        }
      ]
    }
  ]
}