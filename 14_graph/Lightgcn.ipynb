{
 "cells": [
  {
   "cell_type": "markdown",
   "metadata": {
    "id": "D2VfdN1C3YmC"
   },
   "source": [
    "# Графовые нейронные сети в задаче рекомендаций"
   ]
  },
  {
   "cell_type": "markdown",
   "metadata": {
    "id": "Jrw1RHRrTp73"
   },
   "source": [
    "В этом семинаре мы рассмотрим реализацию LightGCN для решения задачи рекомендаций для пользователей. Рассмотрим сначала установку необходимых пакетов, данные, имплементацию слоев графовой нейронной сети, а также процесс обучения и оценки работы LightGCN.\n",
    "\n",
    "[*LightGCN: Simplifying and Powering Graph Convolution Network for Recommendation* ](https://arxiv.org/abs/2002.02126)"
   ]
  },
  {
   "cell_type": "markdown",
   "metadata": {
    "id": "N5MacEXGWm-0"
   },
   "source": [
    "## Установка необходимых пакетов"
   ]
  },
  {
   "cell_type": "code",
   "execution_count": 1,
   "metadata": {
    "colab": {
     "base_uri": "https://localhost:8080/"
    },
    "id": "wJDdzE5pQYtG",
    "outputId": "08d891b8-cfb6-4a5d-cb1e-0ad734520ea1",
    "scrolled": false
   },
   "outputs": [],
   "source": [
    "import torch\n",
    "import os\n",
    "print(\"PyTorch has version {}\".format(torch.__version__))"
   ]
  },
  {
   "cell_type": "code",
   "execution_count": 2,
   "metadata": {
    "colab": {
     "base_uri": "https://localhost:8080/"
    },
    "id": "zJWUIQpuQgWz",
    "outputId": "765093b0-bd81-4a0c-c957-8fdd26b412f3"
   },
   "outputs": [],
   "source": [
    "!pip install pyg_lib torch_scatter torch_sparse torch_cluster torch_spline_conv -f https://data.pyg.org/whl/torch-2.3.0+cu121.html\n"
   ]
  },
  {
   "cell_type": "code",
   "execution_count": 3,
   "metadata": {
    "colab": {
     "base_uri": "https://localhost:8080/"
    },
    "id": "7SaHEEnbUGju",
    "outputId": "d05b2fab-860e-45ab-adce-a8a25399973f"
   },
   "outputs": [],
   "source": [
    "!pip install torch_geometric"
   ]
  },
  {
   "cell_type": "code",
   "execution_count": null,
   "metadata": {
    "id": "5OBSacx6Q03m"
   },
   "outputs": [],
   "source": [
    "# import required modules\n",
    "import random\n",
    "from tqdm import tqdm\n",
    "import pandas as pd\n",
    "import numpy as np\n",
    "import matplotlib.pyplot as plt\n",
    "from sklearn.model_selection import train_test_split\n",
    "\n",
    "import torch\n",
    "from torch import nn, optim, Tensor\n",
    "\n",
    "from torch_sparse import SparseTensor, matmul\n",
    "\n",
    "from torch_geometric.utils import structured_negative_sampling\n",
    "from torch_geometric.data import download_url, extract_zip\n",
    "from torch_geometric.nn.conv.gcn_conv import gcn_norm\n",
    "from torch_geometric.nn.conv import MessagePassing\n",
    "from torch_geometric.typing import Adj"
   ]
  },
  {
   "cell_type": "markdown",
   "metadata": {
    "id": "8mZ6-zPxPklE"
   },
   "source": [
    "# Загрузка данных\n",
    "\n",
    "Мы будем экспериментировать с датасетом [MovieLens](https://grouplens.org/datasets/movielens/) (*small*), в котором 100,000 оценок по 9,000 фильмов, отмеченные 600 пользователями. Загружаем датасет и берем пороговое значение для положительных семплов >=4 на шкале от 0.5 ~ 5 для пользователей и фильмов.\n",
    "\n",
    "Делаем сплит по ребрам графа стандартно на 80/10/10 train/validation/test."
   ]
  },
  {
   "cell_type": "code",
   "execution_count": null,
   "metadata": {
    "colab": {
     "base_uri": "https://localhost:8080/"
    },
    "id": "6cRC_IazQ4Oj",
    "outputId": "51eda16e-7cb6-4bf1-fd8b-a0840ae24da2"
   },
   "outputs": [
    {
     "name": "stderr",
     "output_type": "stream",
     "text": [
      "Downloading https://files.grouplens.org/datasets/movielens/ml-latest-small.zip\n",
      "Extracting ./ml-latest-small.zip\n"
     ]
    }
   ],
   "source": [
    "# download the dataset\n",
    "url = 'https://files.grouplens.org/datasets/movielens/ml-latest-small.zip'\n",
    "extract_zip(download_url(url, '.'), '.')\n",
    "\n",
    "movie_path = './ml-latest-small/movies.csv'\n",
    "rating_path = './ml-latest-small/ratings.csv'"
   ]
  },
  {
   "cell_type": "code",
   "execution_count": null,
   "metadata": {
    "id": "o2P3zYR8Q8EX"
   },
   "outputs": [],
   "source": [
    "# load user and movie nodes\n",
    "def load_node_csv(path, index_col):\n",
    "    \"\"\"Loads csv containing node information\n",
    "\n",
    "    Args:\n",
    "        path (str): path to csv file\n",
    "        index_col (str): column name of index column\n",
    "\n",
    "    Returns:\n",
    "        dict: mapping of csv row to node id\n",
    "    \"\"\"\n",
    "    df = pd.read_csv(path, index_col=index_col)\n",
    "    mapping = {index: i for i, index in enumerate(df.index.unique())}\n",
    "    return mapping\n",
    "\n",
    "\n",
    "user_mapping = load_node_csv(rating_path, index_col='userId')\n",
    "movie_mapping = load_node_csv(movie_path, index_col='movieId')"
   ]
  },
  {
   "cell_type": "code",
   "execution_count": null,
   "metadata": {
    "id": "BkJzQlxSRDEq"
   },
   "outputs": [],
   "source": [
    "# load edges between users and movies\n",
    "def load_edge_csv(path, src_index_col, src_mapping, dst_index_col, dst_mapping, link_index_col, rating_threshold=4):\n",
    "    \"\"\"Loads csv containing edges between users and items\n",
    "\n",
    "    Args:\n",
    "        path (str): path to csv file\n",
    "        src_index_col (str): column name of users\n",
    "        src_mapping (dict): mapping between row number and user id\n",
    "        dst_index_col (str): column name of items\n",
    "        dst_mapping (dict): mapping between row number and item id\n",
    "        link_index_col (str): column name of user item interaction\n",
    "        rating_threshold (int, optional): Threshold to determine positivity of edge. Defaults to 4.\n",
    "\n",
    "    Returns:\n",
    "        torch.Tensor: 2 by N matrix containing the node ids of N user-item edges\n",
    "    \"\"\"\n",
    "    df = pd.read_csv(path)\n",
    "    edge_index = None\n",
    "    src = [src_mapping[index] for index in df[src_index_col]]\n",
    "    dst = [dst_mapping[index] for index in df[dst_index_col]]\n",
    "    edge_attr = torch.from_numpy(df[link_index_col].values).view(-1, 1).to(torch.long) >= rating_threshold\n",
    "\n",
    "\n",
    "    edge_index = [[], []]\n",
    "    for i in range(edge_attr.shape[0]):\n",
    "        if edge_attr[i]:\n",
    "            edge_index[0].append(src[i])\n",
    "            edge_index[1].append(dst[i])\n",
    "\n",
    "    return torch.tensor(edge_index)\n",
    "\n",
    "\n",
    "edge_index = load_edge_csv(\n",
    "    rating_path,\n",
    "    src_index_col='userId',\n",
    "    src_mapping=user_mapping,\n",
    "    dst_index_col='movieId',\n",
    "    dst_mapping=movie_mapping,\n",
    "    link_index_col='rating',\n",
    "    rating_threshold=4,\n",
    ")"
   ]
  },
  {
   "cell_type": "code",
   "execution_count": null,
   "metadata": {
    "id": "wIueYZfaT6_H"
   },
   "outputs": [],
   "source": [
    "# split the edges of the graph using a 80/10/10 train/validation/test split\n",
    "num_users, num_movies = len(user_mapping), len(movie_mapping)\n",
    "num_interactions = edge_index.shape[1]\n",
    "all_indices = [i for i in range(num_interactions)]\n",
    "\n",
    "train_indices, test_indices = train_test_split(\n",
    "    all_indices, test_size=0.2, random_state=1)\n",
    "val_indices, test_indices = train_test_split(\n",
    "    test_indices, test_size=0.5, random_state=1)\n",
    "\n",
    "train_edge_index = edge_index[:, train_indices]\n",
    "val_edge_index = edge_index[:, val_indices]\n",
    "test_edge_index = edge_index[:, test_indices]"
   ]
  },
  {
   "cell_type": "code",
   "execution_count": null,
   "metadata": {
    "id": "U5yKILBJUAN6"
   },
   "outputs": [],
   "source": [
    "# convert edge indices into Sparse Tensors: https://pytorch-geometric.readthedocs.io/en/latest/notes/sparse_tensor.html\n",
    "train_sparse_edge_index = SparseTensor(row=train_edge_index[0], col=train_edge_index[1], sparse_sizes=(\n",
    "    num_users + num_movies, num_users + num_movies))\n",
    "val_sparse_edge_index = SparseTensor(row=val_edge_index[0], col=val_edge_index[1], sparse_sizes=(\n",
    "    num_users + num_movies, num_users + num_movies))\n",
    "test_sparse_edge_index = SparseTensor(row=test_edge_index[0], col=test_edge_index[1], sparse_sizes=(\n",
    "    num_users + num_movies, num_users + num_movies))"
   ]
  },
  {
   "cell_type": "code",
   "execution_count": null,
   "metadata": {
    "id": "KqKI1VduKcwf"
   },
   "outputs": [],
   "source": [
    "# function which random samples a mini-batch of positive and negative samples\n",
    "def sample_mini_batch(batch_size, edge_index):\n",
    "    \"\"\"Randomly samples indices of a minibatch given an adjacency matrix\n",
    "\n",
    "    Args:\n",
    "        batch_size (int): minibatch size\n",
    "        edge_index (torch.Tensor): 2 by N list of edges\n",
    "\n",
    "    Returns:\n",
    "        tuple: user indices, positive item indices, negative item indices\n",
    "    \"\"\"\n",
    "    edges = structured_negative_sampling(edge_index)\n",
    "    edges = torch.stack(edges, dim=0)\n",
    "    indices = random.choices(\n",
    "        [i for i in range(edges[0].shape[0])], k=batch_size)\n",
    "    batch = edges[:, indices]\n",
    "    user_indices, pos_item_indices, neg_item_indices = batch[0], batch[1], batch[2]\n",
    "    return user_indices, pos_item_indices, neg_item_indices"
   ]
  },
  {
   "cell_type": "markdown",
   "metadata": {
    "id": "JOB5kDmtUrUY"
   },
   "source": [
    "# Имплементация LightGCN\n",
    "\n",
    "## Light Graph Convolution\n",
    "Между слоями, LightGCN использует следующий способ обновления эмбеддингов для user и item .\n",
    "\n",
    "\\begin{equation}\n",
    "e_u^{(k+1)} = \\sum_{i \\in N_u} \\frac{1}{\\sqrt{|N_u|}\\sqrt{|N_i|}} e_i^{(k)} \\quad e_i^{(k+1)} = \\sum_{u \\in N_i} \\frac{1}{\\sqrt{|N_i|}\\sqrt{|N_u|}} e_u^{(k)}\n",
    "\\end{equation}\n",
    "\n",
    "$N_u$: соседи пользователя $u$ (фильмы, которые лайкнул $u$)\n",
    "\n",
    "$N_i$: соседи фильма $i$ (пользователи, которым нравится фильм $i$)\n",
    "\n",
    "$e_u^{(k)}$ : k-й слой user embedding\n",
    "\n",
    "$e_i^{(k)}$ : k-й слой item embedding\n",
    "\n",
    "\n",
    "\n",
    "## Комбинация слоев и прогнозирование модели\n",
    "Единственные обучаемые параметры LightGCN  - нулевой слой $e_u^{(0)}$ and $e_i^{(0)}$ для каждого пользователя и фильма. Мы комбинируем эмбеддинги с кажого слоя, чтобы получить финальные эмбеддинги для всех пользователей и фильмов, $e_u$ and $e_i$ соответственно, следующим образом:\n",
    "\n",
    "\n",
    "\\begin{equation}\n",
    "e_u = \\sum_{k = 0}^K \\alpha_k e_u^{(k)} \\quad e_i = \\sum_{k = 0}^K \\alpha_k e_i^{(k)}\n",
    "\\end{equation}\n",
    "\n",
    "$\\alpha_k$ : гиперпараметр, вес которого определяет влияение k-го слоя на финальный эмбеддинг\n",
    "\n",
    "Предикты модели получаются путем скалярного умножения финальных эмбеддингов пользователя и фильма.\n",
    "\n",
    "\\begin{equation}\n",
    "\\hat{y}_{ui} = e_u^Te_i\n",
    "\\end{equation}\n",
    "\n",
    "## Матричная форма\n",
    "В этой имплементации используется матричная форма LightGCN. Для финального эмбеддинга мы используем multi-scale диффузию, которая суммирует эмбеддинги по всем слоям.\n",
    "\n",
    "\\begin{equation}\n",
    "E^{(K)} = \\alpha_0 E^{(0)} + \\alpha_1 \\tilde{A}^1 E^{(0)} + \\alpha_2 \\tilde{A}^2 E^{(0)} + \\cdot \\cdot \\cdot + \\alpha_K \\tilde{A}^K \\tilde{A} E^{(0)}\n",
    "\\end{equation}\n",
    "\n",
    "$E^{(0)} \\in \\mathcal{R}^{(M + N)} \\times T$ : сложенный инициализированный эмбеддинг item и users, где $M$, $N$, и $T$ определяет количество пользователей, количество фильмов и размерность эмбеддинга, соответственно\n",
    "\n",
    "$\\tilde{A} = D^{-\\frac{1}{2}}AD^{-\\frac{1}{2}}$ : Симметрично нормализованная матрица смежности\n",
    "\n"
   ]
  },
  {
   "cell_type": "code",
   "execution_count": null,
   "metadata": {
    "id": "o9GvYg9ehDOX"
   },
   "outputs": [],
   "source": [
    "# defines LightGCN model\n",
    "class LightGCN(MessagePassing):\n",
    "    \"\"\"LightGCN Model as proposed in https://arxiv.org/abs/2002.02126\n",
    "    \"\"\"\n",
    "\n",
    "    def __init__(self, num_users, num_items, embedding_dim=64, K=3, add_self_loops=False):\n",
    "        \"\"\"Initializes LightGCN Model\n",
    "\n",
    "        Args:\n",
    "            num_users (int): Number of users\n",
    "            num_items (int): Number of items\n",
    "            embedding_dim (int, optional): Dimensionality of embeddings. Defaults to 8.\n",
    "            K (int, optional): Number of message passing layers. Defaults to 3.\n",
    "            add_self_loops (bool, optional): Whether to add self loops for message passing. Defaults to False.\n",
    "        \"\"\"\n",
    "        super().__init__()\n",
    "        self.num_users, self.num_items = num_users, num_items\n",
    "        self.embedding_dim, self.K = embedding_dim, K\n",
    "        self.add_self_loops = add_self_loops\n",
    "\n",
    "        self.users_emb = nn.Embedding(\n",
    "            num_embeddings=self.num_users, embedding_dim=self.embedding_dim) # e_u^0\n",
    "        self.items_emb = nn.Embedding(\n",
    "            num_embeddings=self.num_items, embedding_dim=self.embedding_dim) # e_i^0\n",
    "\n",
    "        nn.init.normal_(self.users_emb.weight, std=0.1)\n",
    "        nn.init.normal_(self.items_emb.weight, std=0.1)\n",
    "\n",
    "    def forward(self, edge_index: SparseTensor):\n",
    "        \"\"\"Forward propagation of LightGCN Model.\n",
    "\n",
    "        Args:\n",
    "            edge_index (SparseTensor): adjacency matrix\n",
    "\n",
    "        Returns:\n",
    "            tuple (Tensor): e_u_k, e_u_0, e_i_k, e_i_0\n",
    "        \"\"\"\n",
    "        # compute \\tilde{A}: symmetrically normalized adjacency matrix\n",
    "        edge_index_norm = gcn_norm(\n",
    "            edge_index, add_self_loops=self.add_self_loops)\n",
    "\n",
    "        emb_0 = torch.cat([self.users_emb.weight, self.items_emb.weight]) # E^0\n",
    "        embs = [emb_0]\n",
    "        emb_k = emb_0\n",
    "\n",
    "        # multi-scale diffusion\n",
    "        for i in range(self.K):\n",
    "            emb_k = self.propagate(edge_index_norm, x=emb_k)\n",
    "            embs.append(emb_k)\n",
    "\n",
    "        embs = torch.stack(embs, dim=1)\n",
    "        emb_final = torch.mean(embs, dim=1) # E^K\n",
    "\n",
    "        users_emb_final, items_emb_final = torch.split(\n",
    "            emb_final, [self.num_users, self.num_items]) # splits into e_u^K and e_i^K\n",
    "\n",
    "        # returns e_u^K, e_u^0, e_i^K, e_i^0\n",
    "        return users_emb_final, self.users_emb.weight, items_emb_final, self.items_emb.weight\n",
    "\n",
    "    def message(self, x_j: Tensor) -> Tensor:\n",
    "        return x_j\n",
    "\n",
    "    def message_and_aggregate(self, adj_t: SparseTensor, x: Tensor) -> Tensor:\n",
    "        # computes \\tilde{A} @ x\n",
    "        return matmul(adj_t, x)\n",
    "\n",
    "model = LightGCN(num_users, num_movies)"
   ]
  },
  {
   "cell_type": "markdown",
   "metadata": {
    "id": "My8eqloiBccE"
   },
   "source": [
    "# Loss функция\n",
    "\n",
    "\n",
    "\n",
    "Мы используем Bayesian Personalized Ranking (BPR) loss, который контролирует, чтобы предсказания позитивных семплов были более вероятны, чем негативных для каждого юзера.\n",
    "\n",
    "\\begin{equation}\n",
    "L_{BPR} = -\\sum_{u = 1}^M \\sum_{i \\in N_u} \\sum_{j \\notin N_u} \\ln{\\sigma(\\hat{y}_{ui} - \\hat{y}_{uj})} + \\lambda ||E^{(0)}||^2\n",
    "\\end{equation}\n",
    "\n",
    "$\\hat{y}_{u}$: предсказанный скор позитивных семплов\n",
    "\n",
    "$\\hat{y}_{uj}$: предсказанный скор негативных семлов\n",
    "\n",
    "$\\lambda$: гиперпараметр, который котролирует влияние L2 регуляризации"
   ]
  },
  {
   "cell_type": "code",
   "execution_count": null,
   "metadata": {
    "id": "QmPs1xS-BYfe"
   },
   "outputs": [],
   "source": [
    "def bpr_loss(users_emb_final, users_emb_0, pos_items_emb_final, pos_items_emb_0, neg_items_emb_final, neg_items_emb_0, lambda_val):\n",
    "    \"\"\"Bayesian Personalized Ranking Loss as described in https://arxiv.org/abs/1205.2618\n",
    "\n",
    "    Args:\n",
    "        users_emb_final (torch.Tensor): e_u_k\n",
    "        users_emb_0 (torch.Tensor): e_u_0\n",
    "        pos_items_emb_final (torch.Tensor): positive e_i_k\n",
    "        pos_items_emb_0 (torch.Tensor): positive e_i_0\n",
    "        neg_items_emb_final (torch.Tensor): negative e_i_k\n",
    "        neg_items_emb_0 (torch.Tensor): negative e_i_0\n",
    "        lambda_val (float): lambda value for regularization loss term\n",
    "\n",
    "    Returns:\n",
    "        torch.Tensor: scalar bpr loss value\n",
    "    \"\"\"\n",
    "    reg_loss = lambda_val * (users_emb_0.norm(2).pow(2) +\n",
    "                             pos_items_emb_0.norm(2).pow(2) +\n",
    "                             neg_items_emb_0.norm(2).pow(2)) # L2 loss\n",
    "\n",
    "    pos_scores = torch.mul(users_emb_final, pos_items_emb_final)\n",
    "    pos_scores = torch.sum(pos_scores, dim=-1) # predicted scores of positive samples\n",
    "    neg_scores = torch.mul(users_emb_final, neg_items_emb_final)\n",
    "    neg_scores = torch.sum(neg_scores, dim=-1) # predicted scores of negative samples\n",
    "\n",
    "    loss = -torch.mean(torch.nn.functional.softplus(pos_scores - neg_scores)) + reg_loss\n",
    "\n",
    "    return loss"
   ]
  },
  {
   "cell_type": "markdown",
   "metadata": {
    "id": "CS7HVr3qLQGx"
   },
   "source": [
    "# Evaluation Metrics\n",
    "\n",
    "Для оценки работы модели мы используем стандартные метрики\n",
    "\n",
    "\\begin{equation}\n",
    "\\text{Recall} = \\frac{TP}{TP + FP}\n",
    "\\end{equation}\n",
    "\n",
    "\\begin{equation}\n",
    "\\text{Precision} = \\frac{TP}{TP + FN}\n",
    "\\end{equation}\n",
    "\n",
    "**Dicounted Cumulative Gain (DCG)** на ранке p определяется как:\n",
    "\n",
    "\\begin{equation}\n",
    "\\text{DCG}_\\text{p} = \\sum_{i = 1}^p \\frac{2^{rel_i} - 1}{\\log_2{(i + 1)}}\n",
    "\\end{equation}\n",
    "\n",
    "p: конкретный ранк\n",
    "\n",
    "$rel_i \\in \\{0, 1\\}$ : отскалированная релевантность результата на позиции $i$\n",
    "\n",
    "**Idealised Dicounted Cumulative Gain (IDCG)**, максимально возможный DCG, на позиции $p$ определяется как:\n",
    "\n",
    "\\begin{equation}\n",
    "\\text{IDCG}_\\text{p} = \\sum_{i = 1}^{|REL_p|} \\frac{2^{rel_i} - 1}{\\log_2{(i + 1)}}\n",
    "\\end{equation}\n",
    "\n",
    "$|REL_p|$ : список фильмов, упорядоченный по релевантности на позиции p\n",
    "\n",
    "**Normalized Dicounted Cumulative Gain (NDCG)** на ранке $p$ определяется как:\n",
    "\n",
    "\\begin{equation}\n",
    "\\text{nDCG}_\\text{p} = \\frac{\\text{DCG}_p}{\\text{nDCG}_p}\n",
    "\\end{equation}\n",
    "\n",
    "Используем метрики recall@K, precision@K, and NDCG@K. @K показывает top K рекомендаций."
   ]
  },
  {
   "cell_type": "code",
   "execution_count": null,
   "metadata": {
    "id": "nHO2gdhRSwzJ"
   },
   "outputs": [],
   "source": [
    "# helper function to get N_u\n",
    "def get_user_positive_items(edge_index):\n",
    "    \"\"\"Generates dictionary of positive items for each user\n",
    "\n",
    "    Args:\n",
    "        edge_index (torch.Tensor): 2 by N list of edges\n",
    "\n",
    "    Returns:\n",
    "        dict: dictionary of positive items for each user\n",
    "    \"\"\"\n",
    "    user_pos_items = {}\n",
    "    for i in range(edge_index.shape[1]):\n",
    "        user = edge_index[0][i].item()\n",
    "        item = edge_index[1][i].item()\n",
    "        if user not in user_pos_items:\n",
    "            user_pos_items[user] = []\n",
    "        user_pos_items[user].append(item)\n",
    "    return user_pos_items"
   ]
  },
  {
   "cell_type": "code",
   "execution_count": null,
   "metadata": {
    "id": "8We4BTtfS4NV"
   },
   "outputs": [],
   "source": [
    "# computes recall@K and precision@K\n",
    "def RecallPrecision_ATk(groundTruth, r, k):\n",
    "    \"\"\"Computers recall @ k and precision @ k\n",
    "\n",
    "    Args:\n",
    "        groundTruth (list): list of lists containing highly rated items of each user\n",
    "        r (list): list of lists indicating whether each top k item recommended to each user\n",
    "            is a top k ground truth item or not\n",
    "        k (intg): determines the top k items to compute precision and recall on\n",
    "\n",
    "    Returns:\n",
    "        tuple: recall @ k, precision @ k\n",
    "    \"\"\"\n",
    "    num_correct_pred = torch.sum(r, dim=-1)  # number of correctly predicted items per user\n",
    "    # number of items liked by each user in the test set\n",
    "    user_num_liked = torch.Tensor([len(groundTruth[i])\n",
    "                                  for i in range(len(groundTruth))])\n",
    "    recall = torch.mean(num_correct_pred / user_num_liked)\n",
    "    precision = torch.mean(num_correct_pred) / k\n",
    "    return recall.item(), precision.item()"
   ]
  },
  {
   "cell_type": "code",
   "execution_count": null,
   "metadata": {
    "id": "9v4A3Ek4TE02"
   },
   "outputs": [],
   "source": [
    "# computes NDCG@K\n",
    "def NDCGatK_r(groundTruth, r, k):\n",
    "    \"\"\"Computes Normalized Discounted Cumulative Gain (NDCG) @ k\n",
    "\n",
    "    Args:\n",
    "        groundTruth (list): list of lists containing highly rated items of each user\n",
    "        r (list): list of lists indicating whether each top k item recommended to each user\n",
    "            is a top k ground truth item or not\n",
    "        k (int): determines the top k items to compute ndcg on\n",
    "\n",
    "    Returns:\n",
    "        float: ndcg @ k\n",
    "    \"\"\"\n",
    "    assert len(r) == len(groundTruth)\n",
    "\n",
    "    test_matrix = torch.zeros((len(r), k))\n",
    "\n",
    "    for i, items in enumerate(groundTruth):\n",
    "        length = min(len(items), k)\n",
    "        test_matrix[i, :length] = 1\n",
    "    max_r = test_matrix\n",
    "    idcg = torch.sum(max_r * 1. / torch.log2(torch.arange(2, k + 2)), axis=1)\n",
    "    dcg = r * (1. / torch.log2(torch.arange(2, k + 2)))\n",
    "    dcg = torch.sum(dcg, axis=1)\n",
    "    idcg[idcg == 0.] = 1.\n",
    "    ndcg = dcg / idcg\n",
    "    ndcg[torch.isnan(ndcg)] = 0.\n",
    "    return torch.mean(ndcg).item()"
   ]
  },
  {
   "cell_type": "code",
   "execution_count": null,
   "metadata": {
    "id": "x6_741LlTMwI"
   },
   "outputs": [],
   "source": [
    "# wrapper function to get evaluation metrics\n",
    "def get_metrics(model, edge_index, exclude_edge_indices, k):\n",
    "    \"\"\"Computes the evaluation metrics: recall, precision, and ndcg @ k\n",
    "\n",
    "    Args:\n",
    "        model (LighGCN): lightgcn model\n",
    "        edge_index (torch.Tensor): 2 by N list of edges for split to evaluate\n",
    "        exclude_edge_indices ([type]): 2 by N list of edges for split to discount from evaluation\n",
    "        k (int): determines the top k items to compute metrics on\n",
    "\n",
    "    Returns:\n",
    "        tuple: recall @ k, precision @ k, ndcg @ k\n",
    "    \"\"\"\n",
    "    user_embedding = model.users_emb.weight\n",
    "    item_embedding = model.items_emb.weight\n",
    "\n",
    "    # get ratings between every user and item - shape is num users x num movies\n",
    "    rating = torch.matmul(user_embedding, item_embedding.T)\n",
    "\n",
    "    for exclude_edge_index in exclude_edge_indices:\n",
    "        # gets all the positive items for each user from the edge index\n",
    "        user_pos_items = get_user_positive_items(exclude_edge_index)\n",
    "        # get coordinates of all edges to exclude\n",
    "        exclude_users = []\n",
    "        exclude_items = []\n",
    "        for user, items in user_pos_items.items():\n",
    "            exclude_users.extend([user] * len(items))\n",
    "            exclude_items.extend(items)\n",
    "\n",
    "        # set ratings of excluded edges to large negative value\n",
    "        rating[exclude_users, exclude_items] = -(1 << 10)\n",
    "\n",
    "    # get the top k recommended items for each user\n",
    "    _, top_K_items = torch.topk(rating, k=k)\n",
    "\n",
    "    # get all unique users in evaluated split\n",
    "    users = edge_index[0].unique()\n",
    "\n",
    "    test_user_pos_items = get_user_positive_items(edge_index)\n",
    "\n",
    "    # convert test user pos items dictionary into a list\n",
    "    test_user_pos_items_list = [\n",
    "        test_user_pos_items[user.item()] for user in users]\n",
    "\n",
    "    # determine the correctness of topk predictions\n",
    "    r = []\n",
    "    for user in users:\n",
    "        ground_truth_items = test_user_pos_items[user.item()]\n",
    "        label = list(map(lambda x: x in ground_truth_items, top_K_items[user]))\n",
    "        r.append(label)\n",
    "    r = torch.Tensor(np.array(r).astype('float'))\n",
    "\n",
    "    recall, precision = RecallPrecision_ATk(test_user_pos_items_list, r, k)\n",
    "    ndcg = NDCGatK_r(test_user_pos_items_list, r, k)\n",
    "\n",
    "    return recall, precision, ndcg"
   ]
  },
  {
   "cell_type": "code",
   "execution_count": null,
   "metadata": {
    "id": "yr_qESXASsVw"
   },
   "outputs": [],
   "source": [
    "# wrapper function to evaluate model\n",
    "def evaluation(model, edge_index, sparse_edge_index, exclude_edge_indices, k, lambda_val):\n",
    "    \"\"\"Evaluates model loss and metrics including recall, precision, ndcg @ k\n",
    "\n",
    "    Args:\n",
    "        model (LighGCN): lightgcn model\n",
    "        edge_index (torch.Tensor): 2 by N list of edges for split to evaluate\n",
    "        sparse_edge_index (sparseTensor): sparse adjacency matrix for split to evaluate\n",
    "        exclude_edge_indices ([type]): 2 by N list of edges for split to discount from evaluation\n",
    "        k (int): determines the top k items to compute metrics on\n",
    "        lambda_val (float): determines lambda for bpr loss\n",
    "\n",
    "    Returns:\n",
    "        tuple: bpr loss, recall @ k, precision @ k, ndcg @ k\n",
    "    \"\"\"\n",
    "    # get embeddings\n",
    "    users_emb_final, users_emb_0, items_emb_final, items_emb_0 = model.forward(\n",
    "        sparse_edge_index)\n",
    "    edges = structured_negative_sampling(\n",
    "        edge_index, contains_neg_self_loops=False)\n",
    "    user_indices, pos_item_indices, neg_item_indices = edges[0], edges[1], edges[2]\n",
    "    users_emb_final, users_emb_0 = users_emb_final[user_indices], users_emb_0[user_indices]\n",
    "    pos_items_emb_final, pos_items_emb_0 = items_emb_final[\n",
    "        pos_item_indices], items_emb_0[pos_item_indices]\n",
    "    neg_items_emb_final, neg_items_emb_0 = items_emb_final[\n",
    "        neg_item_indices], items_emb_0[neg_item_indices]\n",
    "\n",
    "    loss = bpr_loss(users_emb_final, users_emb_0, pos_items_emb_final, pos_items_emb_0,\n",
    "                    neg_items_emb_final, neg_items_emb_0, lambda_val).item()\n",
    "\n",
    "    recall, precision, ndcg = get_metrics(\n",
    "        model, edge_index, exclude_edge_indices, k)\n",
    "\n",
    "    return loss, recall, precision, ndcg"
   ]
  },
  {
   "cell_type": "markdown",
   "metadata": {
    "id": "NYw1cUgPTjws"
   },
   "source": [
    "# Training\n",
    "\n",
    "Результат на тесте будет в ряд следующим образом (*K=20*):\n",
    "\n",
    "*Recall@K: 0.13, Precision@K: 0.045, NDCG@K: 0.10*"
   ]
  },
  {
   "cell_type": "code",
   "execution_count": null,
   "metadata": {
    "id": "MQL2W-NQTeFd"
   },
   "outputs": [],
   "source": [
    "# define contants\n",
    "ITERATIONS = 10000\n",
    "BATCH_SIZE = 1024\n",
    "LR = 1e-3\n",
    "ITERS_PER_EVAL = 200\n",
    "ITERS_PER_LR_DECAY = 200\n",
    "K = 20\n",
    "LAMBDA = 1e-6"
   ]
  },
  {
   "cell_type": "code",
   "execution_count": null,
   "metadata": {
    "colab": {
     "base_uri": "https://localhost:8080/"
    },
    "id": "49JDkBtKTfE-",
    "outputId": "9b307554-6140-4418-94b4-88bb5304b2d7"
   },
   "outputs": [
    {
     "name": "stdout",
     "output_type": "stream",
     "text": [
      "Using device cuda.\n"
     ]
    }
   ],
   "source": [
    "# setup\n",
    "device = torch.device('cuda' if torch.cuda.is_available() else 'cpu')\n",
    "print(f\"Using device {device}.\")\n",
    "\n",
    "\n",
    "model = model.to(device)\n",
    "model.train()\n",
    "\n",
    "optimizer = optim.Adam(model.parameters(), lr=LR)\n",
    "scheduler = optim.lr_scheduler.ExponentialLR(optimizer, gamma=0.95)\n",
    "\n",
    "edge_index = edge_index.to(device)\n",
    "train_edge_index = train_edge_index.to(device)\n",
    "train_sparse_edge_index = train_sparse_edge_index.to(device)\n",
    "\n",
    "val_edge_index = val_edge_index.to(device)\n",
    "val_sparse_edge_index = val_sparse_edge_index.to(device)"
   ]
  },
  {
   "cell_type": "code",
   "execution_count": null,
   "metadata": {
    "colab": {
     "base_uri": "https://localhost:8080/"
    },
    "id": "wYjrDp1w-hiP",
    "outputId": "207f6b5b-a079-487d-d398-dbb6123fe866"
   },
   "outputs": [
    {
     "name": "stdout",
     "output_type": "stream",
     "text": [
      "[Iteration 0/10000] train_loss: -0.69134, val_loss: -0.68377, val_recall@20: 0.00272, val_precision@20: 0.00099, val_ndcg@20: 0.00207\n",
      "[Iteration 200/10000] train_loss: -0.69924, val_loss: -0.68937, val_recall@20: 0.03849, val_precision@20: 0.0142, val_ndcg@20: 0.03118\n",
      "[Iteration 400/10000] train_loss: -0.88818, val_loss: -0.82321, val_recall@20: 0.14406, val_precision@20: 0.04186, val_ndcg@20: 0.10382\n",
      "[Iteration 600/10000] train_loss: -1.80699, val_loss: -1.52083, val_recall@20: 0.14401, val_precision@20: 0.04304, val_ndcg@20: 0.10418\n",
      "[Iteration 800/10000] train_loss: -3.54938, val_loss: -2.8522, val_recall@20: 0.15105, val_precision@20: 0.04494, val_ndcg@20: 0.10678\n",
      "[Iteration 1000/10000] train_loss: -5.43709, val_loss: -4.51896, val_recall@20: 0.14865, val_precision@20: 0.04512, val_ndcg@20: 0.10589\n",
      "[Iteration 1200/10000] train_loss: -7.60094, val_loss: -6.3339, val_recall@20: 0.15159, val_precision@20: 0.04593, val_ndcg@20: 0.10728\n",
      "[Iteration 1400/10000] train_loss: -10.10666, val_loss: -8.20911, val_recall@20: 0.15187, val_precision@20: 0.04584, val_ndcg@20: 0.10721\n",
      "[Iteration 1600/10000] train_loss: -12.24478, val_loss: -10.17208, val_recall@20: 0.15258, val_precision@20: 0.04638, val_ndcg@20: 0.1071\n",
      "[Iteration 1800/10000] train_loss: -14.80051, val_loss: -12.1446, val_recall@20: 0.15378, val_precision@20: 0.04684, val_ndcg@20: 0.10677\n",
      "[Iteration 2000/10000] train_loss: -16.81412, val_loss: -14.14375, val_recall@20: 0.1521, val_precision@20: 0.0462, val_ndcg@20: 0.10609\n",
      "[Iteration 2200/10000] train_loss: -19.9746, val_loss: -16.30086, val_recall@20: 0.15126, val_precision@20: 0.04611, val_ndcg@20: 0.10611\n",
      "[Iteration 2400/10000] train_loss: -21.57084, val_loss: -17.97807, val_recall@20: 0.15164, val_precision@20: 0.0462, val_ndcg@20: 0.10631\n",
      "[Iteration 2600/10000] train_loss: -24.94367, val_loss: -20.02833, val_recall@20: 0.15271, val_precision@20: 0.04602, val_ndcg@20: 0.10648\n",
      "[Iteration 2800/10000] train_loss: -27.72908, val_loss: -21.68715, val_recall@20: 0.15105, val_precision@20: 0.04602, val_ndcg@20: 0.10626\n",
      "[Iteration 3000/10000] train_loss: -28.08809, val_loss: -23.60925, val_recall@20: 0.15185, val_precision@20: 0.04611, val_ndcg@20: 0.10639\n",
      "[Iteration 3200/10000] train_loss: -30.87551, val_loss: -25.29292, val_recall@20: 0.15203, val_precision@20: 0.0462, val_ndcg@20: 0.10641\n",
      "[Iteration 3400/10000] train_loss: -33.17653, val_loss: -27.24935, val_recall@20: 0.15296, val_precision@20: 0.0462, val_ndcg@20: 0.10648\n",
      "[Iteration 3600/10000] train_loss: -33.90086, val_loss: -29.07958, val_recall@20: 0.15189, val_precision@20: 0.04638, val_ndcg@20: 0.10659\n",
      "[Iteration 3800/10000] train_loss: -36.20092, val_loss: -30.31432, val_recall@20: 0.15205, val_precision@20: 0.04629, val_ndcg@20: 0.10628\n",
      "[Iteration 4000/10000] train_loss: -38.06033, val_loss: -32.12595, val_recall@20: 0.15181, val_precision@20: 0.0462, val_ndcg@20: 0.10635\n",
      "[Iteration 4200/10000] train_loss: -42.8102, val_loss: -33.41079, val_recall@20: 0.15181, val_precision@20: 0.0462, val_ndcg@20: 0.10608\n",
      "[Iteration 4400/10000] train_loss: -40.80415, val_loss: -34.99069, val_recall@20: 0.15256, val_precision@20: 0.04611, val_ndcg@20: 0.1063\n",
      "[Iteration 4600/10000] train_loss: -44.08136, val_loss: -36.69684, val_recall@20: 0.15252, val_precision@20: 0.04611, val_ndcg@20: 0.10642\n",
      "[Iteration 4800/10000] train_loss: -46.38598, val_loss: -37.78139, val_recall@20: 0.1527, val_precision@20: 0.0462, val_ndcg@20: 0.10662\n",
      "[Iteration 5000/10000] train_loss: -48.8996, val_loss: -38.56884, val_recall@20: 0.15278, val_precision@20: 0.04629, val_ndcg@20: 0.10659\n",
      "[Iteration 5200/10000] train_loss: -50.76974, val_loss: -39.99751, val_recall@20: 0.15263, val_precision@20: 0.0462, val_ndcg@20: 0.1065\n",
      "[Iteration 5400/10000] train_loss: -50.42011, val_loss: -41.25336, val_recall@20: 0.15282, val_precision@20: 0.04638, val_ndcg@20: 0.10681\n",
      "[Iteration 5600/10000] train_loss: -52.18016, val_loss: -42.8443, val_recall@20: 0.15254, val_precision@20: 0.04611, val_ndcg@20: 0.10661\n",
      "[Iteration 5800/10000] train_loss: -54.3524, val_loss: -43.37374, val_recall@20: 0.15274, val_precision@20: 0.04629, val_ndcg@20: 0.10674\n",
      "[Iteration 6000/10000] train_loss: -52.89557, val_loss: -44.86837, val_recall@20: 0.15274, val_precision@20: 0.04629, val_ndcg@20: 0.1067\n",
      "[Iteration 6200/10000] train_loss: -55.1353, val_loss: -45.29819, val_recall@20: 0.1527, val_precision@20: 0.0462, val_ndcg@20: 0.1067\n",
      "[Iteration 6400/10000] train_loss: -56.53457, val_loss: -46.7815, val_recall@20: 0.15257, val_precision@20: 0.04602, val_ndcg@20: 0.10659\n",
      "[Iteration 6600/10000] train_loss: -59.2161, val_loss: -47.28225, val_recall@20: 0.15264, val_precision@20: 0.04611, val_ndcg@20: 0.10669\n",
      "[Iteration 6800/10000] train_loss: -57.01653, val_loss: -47.97309, val_recall@20: 0.15264, val_precision@20: 0.04611, val_ndcg@20: 0.10665\n",
      "[Iteration 7000/10000] train_loss: -58.61865, val_loss: -49.40545, val_recall@20: 0.15264, val_precision@20: 0.04611, val_ndcg@20: 0.10669\n",
      "[Iteration 7200/10000] train_loss: -61.83756, val_loss: -50.29965, val_recall@20: 0.15256, val_precision@20: 0.04602, val_ndcg@20: 0.10661\n",
      "[Iteration 7400/10000] train_loss: -63.06927, val_loss: -51.10219, val_recall@20: 0.15256, val_precision@20: 0.04602, val_ndcg@20: 0.10663\n",
      "[Iteration 7600/10000] train_loss: -63.78606, val_loss: -51.58103, val_recall@20: 0.15264, val_precision@20: 0.04611, val_ndcg@20: 0.10668\n",
      "[Iteration 7800/10000] train_loss: -66.91652, val_loss: -51.98465, val_recall@20: 0.15252, val_precision@20: 0.04602, val_ndcg@20: 0.10663\n",
      "[Iteration 8000/10000] train_loss: -64.82067, val_loss: -52.76405, val_recall@20: 0.15256, val_precision@20: 0.04602, val_ndcg@20: 0.10664\n",
      "[Iteration 8200/10000] train_loss: -64.27663, val_loss: -53.67819, val_recall@20: 0.15256, val_precision@20: 0.04602, val_ndcg@20: 0.10664\n",
      "[Iteration 8400/10000] train_loss: -66.80616, val_loss: -53.8955, val_recall@20: 0.15264, val_precision@20: 0.04611, val_ndcg@20: 0.10669\n",
      "[Iteration 8600/10000] train_loss: -64.5767, val_loss: -54.51448, val_recall@20: 0.15258, val_precision@20: 0.04602, val_ndcg@20: 0.10662\n",
      "[Iteration 8800/10000] train_loss: -66.97915, val_loss: -54.94155, val_recall@20: 0.15256, val_precision@20: 0.04602, val_ndcg@20: 0.10661\n",
      "[Iteration 9000/10000] train_loss: -66.34051, val_loss: -55.28148, val_recall@20: 0.1515, val_precision@20: 0.04593, val_ndcg@20: 0.10635\n",
      "[Iteration 9200/10000] train_loss: -69.01935, val_loss: -55.64455, val_recall@20: 0.15166, val_precision@20: 0.04611, val_ndcg@20: 0.10648\n",
      "[Iteration 9400/10000] train_loss: -71.41489, val_loss: -56.02445, val_recall@20: 0.15166, val_precision@20: 0.04611, val_ndcg@20: 0.10647\n",
      "[Iteration 9600/10000] train_loss: -67.68769, val_loss: -56.31744, val_recall@20: 0.15168, val_precision@20: 0.04611, val_ndcg@20: 0.10648\n",
      "[Iteration 9800/10000] train_loss: -69.35862, val_loss: -57.32529, val_recall@20: 0.15158, val_precision@20: 0.04602, val_ndcg@20: 0.10639\n"
     ]
    }
   ],
   "source": [
    "# training loop\n",
    "train_losses = []\n",
    "val_losses = []\n",
    "\n",
    "for iter in range(ITERATIONS):\n",
    "    # forward propagation\n",
    "    users_emb_final, users_emb_0, items_emb_final, items_emb_0 = model.forward(\n",
    "        train_sparse_edge_index)\n",
    "\n",
    "    # mini batching\n",
    "    user_indices, pos_item_indices, neg_item_indices = sample_mini_batch(\n",
    "        BATCH_SIZE, train_edge_index)\n",
    "    user_indices, pos_item_indices, neg_item_indices = user_indices.to(\n",
    "        device), pos_item_indices.to(device), neg_item_indices.to(device)\n",
    "    users_emb_final, users_emb_0 = users_emb_final[user_indices], users_emb_0[user_indices]\n",
    "    pos_items_emb_final, pos_items_emb_0 = items_emb_final[\n",
    "        pos_item_indices], items_emb_0[pos_item_indices]\n",
    "    neg_items_emb_final, neg_items_emb_0 = items_emb_final[\n",
    "        neg_item_indices], items_emb_0[neg_item_indices]\n",
    "\n",
    "    # loss computation\n",
    "    train_loss = bpr_loss(users_emb_final, users_emb_0, pos_items_emb_final,\n",
    "                          pos_items_emb_0, neg_items_emb_final, neg_items_emb_0, LAMBDA)\n",
    "\n",
    "    optimizer.zero_grad()\n",
    "    train_loss.backward()\n",
    "    optimizer.step()\n",
    "\n",
    "    if iter % ITERS_PER_EVAL == 0:\n",
    "        model.eval()\n",
    "        val_loss, recall, precision, ndcg = evaluation(\n",
    "            model, val_edge_index, val_sparse_edge_index, [train_edge_index], K, LAMBDA)\n",
    "        print(f\"[Iteration {iter}/{ITERATIONS}] train_loss: {round(train_loss.item(), 5)}, val_loss: {round(val_loss, 5)}, val_recall@{K}: {round(recall, 5)}, val_precision@{K}: {round(precision, 5)}, val_ndcg@{K}: {round(ndcg, 5)}\")\n",
    "        train_losses.append(train_loss.item())\n",
    "        val_losses.append(val_loss)\n",
    "        model.train()\n",
    "\n",
    "    if iter % ITERS_PER_LR_DECAY == 0 and iter != 0:\n",
    "        scheduler.step()"
   ]
  },
  {
   "cell_type": "code",
   "execution_count": null,
   "metadata": {
    "colab": {
     "base_uri": "https://localhost:8080/",
     "height": 472
    },
    "id": "nLcdvV5iXBSv",
    "outputId": "0aecc0dd-eb15-4310-97b5-bc6e57a744cf"
   },
   "outputs": [
    {
     "data": {
      "image/png": "[encoded data removed]",
      "text/plain": [
       "<Figure size 640x480 with 1 Axes>"
      ]
     },
     "metadata": {},
     "output_type": "display_data"
    }
   ],
   "source": [
    "iters = [iter * ITERS_PER_EVAL for iter in range(len(train_losses))]\n",
    "plt.plot(iters, train_losses, label='train')\n",
    "plt.plot(iters, val_losses, label='validation')\n",
    "plt.xlabel('iteration')\n",
    "plt.ylabel('loss')\n",
    "plt.title('training and validation loss curves')\n",
    "plt.legend()\n",
    "plt.show()"
   ]
  },
  {
   "cell_type": "code",
   "execution_count": null,
   "metadata": {
    "colab": {
     "base_uri": "https://localhost:8080/"
    },
    "id": "G6UjCTMQ_N5e",
    "outputId": "15cf6406-83a1-43a6-c704-5c3c23446daa"
   },
   "outputs": [
    {
     "name": "stdout",
     "output_type": "stream",
     "text": [
      "[test_loss: -52.03643, test_recall@20: 0.12616, test_precision@20: 0.04674, test_ndcg@20: 0.10158\n"
     ]
    }
   ],
   "source": [
    "# evaluate on test set\n",
    "model.eval()\n",
    "test_edge_index = test_edge_index.to(device)\n",
    "test_sparse_edge_index = test_sparse_edge_index.to(device)\n",
    "\n",
    "test_loss, test_recall, test_precision, test_ndcg = evaluation(\n",
    "            model, test_edge_index, test_sparse_edge_index, [train_edge_index, val_edge_index], K, LAMBDA)\n",
    "\n",
    "print(f\"[test_loss: {round(test_loss, 5)}, test_recall@{K}: {round(test_recall, 5)}, test_precision@{K}: {round(test_precision, 5)}, test_ndcg@{K}: {round(test_ndcg, 5)}\")"
   ]
  },
  {
   "cell_type": "markdown",
   "metadata": {
    "id": "At4zWPfaVW6q"
   },
   "source": [
    "# Делаем предикты для конкретного пользователя"
   ]
  },
  {
   "cell_type": "code",
   "execution_count": null,
   "metadata": {
    "id": "SzuMPxFVZlQn"
   },
   "outputs": [],
   "source": [
    "model.eval()\n",
    "df = pd.read_csv(movie_path)\n",
    "movieid_title = pd.Series(df.title.values,index=df.movieId).to_dict()\n",
    "movieid_genres = pd.Series(df.genres.values,index=df.movieId).to_dict()\n",
    "\n",
    "user_pos_items = get_user_positive_items(edge_index)"
   ]
  },
  {
   "cell_type": "code",
   "execution_count": null,
   "metadata": {
    "id": "oWR-LQUDaqgL"
   },
   "outputs": [],
   "source": [
    "def make_predictions(user_id, num_recs):\n",
    "    user = user_mapping[user_id]\n",
    "    e_u = model.users_emb.weight[user]\n",
    "    scores = model.items_emb.weight @ e_u\n",
    "\n",
    "    values, indices = torch.topk(scores, k=len(user_pos_items[user]) + num_recs)\n",
    "\n",
    "    movies = [index.cpu().item() for index in indices if index in user_pos_items[user]][:num_recs]\n",
    "    movie_ids = [list(movie_mapping.keys())[list(movie_mapping.values()).index(movie)] for movie in movies]\n",
    "    titles = [movieid_title[id] for id in movie_ids]\n",
    "    genres = [movieid_genres[id] for id in movie_ids]\n",
    "\n",
    "    print(f\"Here are some movies that user {user_id} rated highly\")\n",
    "    for i in range(num_recs):\n",
    "        print(f\"title: {titles[i]}, genres: {genres[i]} \")\n",
    "\n",
    "    print()\n",
    "\n",
    "    movies = [index.cpu().item() for index in indices if index not in user_pos_items[user]][:num_recs]\n",
    "    movie_ids = [list(movie_mapping.keys())[list(movie_mapping.values()).index(movie)] for movie in movies]\n",
    "    titles = [movieid_title[id] for id in movie_ids]\n",
    "    genres = [movieid_genres[id] for id in movie_ids]\n",
    "\n",
    "    print(f\"Here are some suggested movies for user {user_id}\")\n",
    "    for i in range(num_recs):\n",
    "        print(f\"title: {titles[i]}, genres: {genres[i]} \")"
   ]
  },
  {
   "cell_type": "code",
   "execution_count": null,
   "metadata": {
    "colab": {
     "base_uri": "https://localhost:8080/"
    },
    "id": "DSFgwnaecWBw",
    "outputId": "93fe6a99-9abb-4730-dbe9-377105a21cca"
   },
   "outputs": [
    {
     "name": "stdout",
     "output_type": "stream",
     "text": [
      "Here are some movies that user 1 rated highly\n",
      "title: Forrest Gump (1994), genres: Comedy|Drama|Romance|War \n",
      "title: Matrix, The (1999), genres: Action|Sci-Fi|Thriller \n",
      "title: Silence of the Lambs, The (1991), genres: Crime|Horror|Thriller \n",
      "title: Star Wars: Episode IV - A New Hope (1977), genres: Action|Adventure|Sci-Fi \n",
      "title: Schindler's List (1993), genres: Drama|War \n",
      "title: Fight Club (1999), genres: Action|Crime|Drama|Thriller \n",
      "title: Star Wars: Episode V - The Empire Strikes Back (1980), genres: Action|Adventure|Sci-Fi \n",
      "title: Braveheart (1995), genres: Action|Drama|War \n",
      "title: Usual Suspects, The (1995), genres: Crime|Mystery|Thriller \n",
      "title: Star Wars: Episode VI - Return of the Jedi (1983), genres: Action|Adventure|Sci-Fi \n",
      "\n",
      "Here are some suggested movies for user 1\n",
      "title: Shawshank Redemption, The (1994), genres: Crime|Drama \n",
      "title: Pulp Fiction (1994), genres: Comedy|Crime|Drama|Thriller \n",
      "title: Godfather, The (1972), genres: Crime|Drama \n",
      "title: Terminator 2: Judgment Day (1991), genres: Action|Sci-Fi \n",
      "title: Lord of the Rings: The Return of the King, The (2003), genres: Action|Adventure|Drama|Fantasy \n",
      "title: Lord of the Rings: The Fellowship of the Ring, The (2001), genres: Adventure|Fantasy \n",
      "title: Lord of the Rings: The Two Towers, The (2002), genres: Adventure|Fantasy \n",
      "title: Apollo 13 (1995), genres: Adventure|Drama|IMAX \n",
      "title: Sixth Sense, The (1999), genres: Drama|Horror|Mystery \n",
      "title: Aladdin (1992), genres: Adventure|Animation|Children|Comedy|Musical \n"
     ]
    }
   ],
   "source": [
    "USER_ID = 1\n",
    "NUM_RECS = 10\n",
    "\n",
    "make_predictions(USER_ID, NUM_RECS)"
   ]
  },
  {
   "cell_type": "code",
   "execution_count": null,
   "metadata": {
    "id": "hLkRpNldrSQe"
   },
   "outputs": [],
   "source": []
  }
 ],
 "metadata": {
  "accelerator": "GPU",
  "colab": {
   "provenance": []
  },
  "kernelspec": {
   "display_name": "Python 3 (ipykernel)",
   "language": "python",
   "name": "python3"
  },
  "language_info": {
   "codemirror_mode": {
    "name": "ipython",
    "version": 3
   },
   "file_extension": ".py",
   "mimetype": "text/x-python",
   "name": "python",
   "nbconvert_exporter": "python",
   "pygments_lexer": "ipython3",
   "version": "3.7.12"
  }
 },
 "nbformat": 4,
 "nbformat_minor": 1
}
