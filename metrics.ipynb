{
 "cells": [
  {
   "cell_type": "code",
   "execution_count": 1,
   "id": "54515dc7",
   "metadata": {},
   "outputs": [
    {
     "name": "stderr",
     "output_type": "stream",
     "text": [
      "\n",
      "libgomp: Invalid value for environment variable OMP_NUM_THREADS\n"
     ]
    }
   ],
   "source": [
    "import pandas as pd\n",
    "import numpy as np\n",
    "from replay.metrics import *\n",
    "from replay.metrics import Median, ConfidenceInterval, PerUser"
   ]
  },
  {
   "cell_type": "markdown",
   "id": "8f637ff6",
   "metadata": {},
   "source": [
    "### Создание датасета"
   ]
  },
  {
   "cell_type": "code",
   "execution_count": 2,
   "id": "4205ae90",
   "metadata": {},
   "outputs": [],
   "source": [
    "train_interaction = {  \n",
    "    'Anton' : {'All along the watchtower' : 1, 'Kalinka-Malinka':1, 'Nothing else metter' : 1, 'Smells Like Teen Spirit' : 1},\n",
    "    'Lesha' : {'Kalinka-Malinka':1, 'Ty nesi menya reka' :1,'Nothing else metter':1, 'Techet Reka Volga' : 1 },\n",
    "    'Anna' : {'Nothing else metter' : 1, 'Tam gde klen shumit' :1, 'All along the watchtower' : 1},\n",
    "    'Dasha' : {'All along the watchtower' : 1, 'Look at me now' : 1, 'Smells Like Teen Spirit' : 1, 'All along the watchtower' : 1},\n",
    "    'Sasha' : {'Kalinka-Malinka':1, 'Techet Reka Volga' : 1 , 'Nothing else metter':1,  'Tam gde klen shumit' :1}}\n"
   ]
  },
  {
   "cell_type": "code",
   "execution_count": 3,
   "id": "934702fb",
   "metadata": {},
   "outputs": [],
   "source": [
    "test_interaction = {'query_id': ['Anton', 'Lesha', 'Anna', 'Dasha', 'Sasha'],\n",
    " 'item_id': ['All along the watchtower', 'Tam gde klen shumit', 'Nothing else metter', 'Nothing else metter', 'Ty nesi menya reka'],\n",
    " 'ratings' : [1, 1, 1, 1, 1]}"
   ]
  },
  {
   "cell_type": "code",
   "execution_count": 4,
   "id": "73cd01c3",
   "metadata": {},
   "outputs": [
    {
     "data": {
      "text/html": [
       "<div>\n",
       "<style scoped>\n",
       "    .dataframe tbody tr th:only-of-type {\n",
       "        vertical-align: middle;\n",
       "    }\n",
       "\n",
       "    .dataframe tbody tr th {\n",
       "        vertical-align: top;\n",
       "    }\n",
       "\n",
       "    .dataframe thead th {\n",
       "        text-align: right;\n",
       "    }\n",
       "</style>\n",
       "<table border=\"1\" class=\"dataframe\">\n",
       "  <thead>\n",
       "    <tr style=\"text-align: right;\">\n",
       "      <th></th>\n",
       "      <th>query_id</th>\n",
       "      <th>item_id</th>\n",
       "      <th>rating</th>\n",
       "    </tr>\n",
       "  </thead>\n",
       "  <tbody>\n",
       "    <tr>\n",
       "      <th>0</th>\n",
       "      <td>Anton</td>\n",
       "      <td>All along the watchtower</td>\n",
       "      <td>1</td>\n",
       "    </tr>\n",
       "    <tr>\n",
       "      <th>1</th>\n",
       "      <td>Anton</td>\n",
       "      <td>Kalinka-Malinka</td>\n",
       "      <td>1</td>\n",
       "    </tr>\n",
       "    <tr>\n",
       "      <th>2</th>\n",
       "      <td>Anton</td>\n",
       "      <td>Nothing else metter</td>\n",
       "      <td>1</td>\n",
       "    </tr>\n",
       "    <tr>\n",
       "      <th>3</th>\n",
       "      <td>Anton</td>\n",
       "      <td>Smells Like Teen Spirit</td>\n",
       "      <td>1</td>\n",
       "    </tr>\n",
       "    <tr>\n",
       "      <th>4</th>\n",
       "      <td>Lesha</td>\n",
       "      <td>Kalinka-Malinka</td>\n",
       "      <td>1</td>\n",
       "    </tr>\n",
       "    <tr>\n",
       "      <th>5</th>\n",
       "      <td>Lesha</td>\n",
       "      <td>Ty nesi menya reka</td>\n",
       "      <td>1</td>\n",
       "    </tr>\n",
       "    <tr>\n",
       "      <th>6</th>\n",
       "      <td>Lesha</td>\n",
       "      <td>Nothing else metter</td>\n",
       "      <td>1</td>\n",
       "    </tr>\n",
       "    <tr>\n",
       "      <th>7</th>\n",
       "      <td>Lesha</td>\n",
       "      <td>Techet Reka Volga</td>\n",
       "      <td>1</td>\n",
       "    </tr>\n",
       "    <tr>\n",
       "      <th>8</th>\n",
       "      <td>Anna</td>\n",
       "      <td>Nothing else metter</td>\n",
       "      <td>1</td>\n",
       "    </tr>\n",
       "    <tr>\n",
       "      <th>9</th>\n",
       "      <td>Anna</td>\n",
       "      <td>Tam gde klen shumit</td>\n",
       "      <td>1</td>\n",
       "    </tr>\n",
       "    <tr>\n",
       "      <th>10</th>\n",
       "      <td>Anna</td>\n",
       "      <td>All along the watchtower</td>\n",
       "      <td>1</td>\n",
       "    </tr>\n",
       "    <tr>\n",
       "      <th>11</th>\n",
       "      <td>Dasha</td>\n",
       "      <td>All along the watchtower</td>\n",
       "      <td>1</td>\n",
       "    </tr>\n",
       "    <tr>\n",
       "      <th>12</th>\n",
       "      <td>Dasha</td>\n",
       "      <td>Look at me now</td>\n",
       "      <td>1</td>\n",
       "    </tr>\n",
       "    <tr>\n",
       "      <th>13</th>\n",
       "      <td>Dasha</td>\n",
       "      <td>Smells Like Teen Spirit</td>\n",
       "      <td>1</td>\n",
       "    </tr>\n",
       "    <tr>\n",
       "      <th>14</th>\n",
       "      <td>Sasha</td>\n",
       "      <td>Kalinka-Malinka</td>\n",
       "      <td>1</td>\n",
       "    </tr>\n",
       "    <tr>\n",
       "      <th>15</th>\n",
       "      <td>Sasha</td>\n",
       "      <td>Techet Reka Volga</td>\n",
       "      <td>1</td>\n",
       "    </tr>\n",
       "    <tr>\n",
       "      <th>16</th>\n",
       "      <td>Sasha</td>\n",
       "      <td>Nothing else metter</td>\n",
       "      <td>1</td>\n",
       "    </tr>\n",
       "    <tr>\n",
       "      <th>17</th>\n",
       "      <td>Sasha</td>\n",
       "      <td>Tam gde klen shumit</td>\n",
       "      <td>1</td>\n",
       "    </tr>\n",
       "  </tbody>\n",
       "</table>\n",
       "</div>"
      ],
      "text/plain": [
       "   query_id                   item_id rating\n",
       "0     Anton  All along the watchtower      1\n",
       "1     Anton           Kalinka-Malinka      1\n",
       "2     Anton       Nothing else metter      1\n",
       "3     Anton   Smells Like Teen Spirit      1\n",
       "4     Lesha           Kalinka-Malinka      1\n",
       "5     Lesha        Ty nesi menya reka      1\n",
       "6     Lesha       Nothing else metter      1\n",
       "7     Lesha         Techet Reka Volga      1\n",
       "8      Anna       Nothing else metter      1\n",
       "9      Anna       Tam gde klen shumit      1\n",
       "10     Anna  All along the watchtower      1\n",
       "11    Dasha  All along the watchtower      1\n",
       "12    Dasha            Look at me now      1\n",
       "13    Dasha   Smells Like Teen Spirit      1\n",
       "14    Sasha           Kalinka-Malinka      1\n",
       "15    Sasha         Techet Reka Volga      1\n",
       "16    Sasha       Nothing else metter      1\n",
       "17    Sasha       Tam gde klen shumit      1"
      ]
     },
     "execution_count": 4,
     "metadata": {},
     "output_type": "execute_result"
    }
   ],
   "source": [
    "train = pd.DataFrame(columns = ['query_id', 'item_id', 'rating'])\n",
    "index = 0\n",
    "for name in train_interaction.keys():\n",
    "    for value in train_interaction[name]:\n",
    "        train.loc[index] = [name, value, '1']\n",
    "        index += 1\n",
    "\n",
    "train"
   ]
  },
  {
   "cell_type": "code",
   "execution_count": 5,
   "id": "d697a968",
   "metadata": {},
   "outputs": [
    {
     "data": {
      "text/html": [
       "<div>\n",
       "<style scoped>\n",
       "    .dataframe tbody tr th:only-of-type {\n",
       "        vertical-align: middle;\n",
       "    }\n",
       "\n",
       "    .dataframe tbody tr th {\n",
       "        vertical-align: top;\n",
       "    }\n",
       "\n",
       "    .dataframe thead th {\n",
       "        text-align: right;\n",
       "    }\n",
       "</style>\n",
       "<table border=\"1\" class=\"dataframe\">\n",
       "  <thead>\n",
       "    <tr style=\"text-align: right;\">\n",
       "      <th></th>\n",
       "      <th>query_id</th>\n",
       "      <th>item_id</th>\n",
       "      <th>ratings</th>\n",
       "    </tr>\n",
       "  </thead>\n",
       "  <tbody>\n",
       "    <tr>\n",
       "      <th>0</th>\n",
       "      <td>Anton</td>\n",
       "      <td>All along the watchtower</td>\n",
       "      <td>1</td>\n",
       "    </tr>\n",
       "    <tr>\n",
       "      <th>1</th>\n",
       "      <td>Lesha</td>\n",
       "      <td>Tam gde klen shumit</td>\n",
       "      <td>1</td>\n",
       "    </tr>\n",
       "    <tr>\n",
       "      <th>2</th>\n",
       "      <td>Anna</td>\n",
       "      <td>Nothing else metter</td>\n",
       "      <td>1</td>\n",
       "    </tr>\n",
       "    <tr>\n",
       "      <th>3</th>\n",
       "      <td>Dasha</td>\n",
       "      <td>Nothing else metter</td>\n",
       "      <td>1</td>\n",
       "    </tr>\n",
       "    <tr>\n",
       "      <th>4</th>\n",
       "      <td>Sasha</td>\n",
       "      <td>Ty nesi menya reka</td>\n",
       "      <td>1</td>\n",
       "    </tr>\n",
       "  </tbody>\n",
       "</table>\n",
       "</div>"
      ],
      "text/plain": [
       "  query_id                   item_id  ratings\n",
       "0    Anton  All along the watchtower        1\n",
       "1    Lesha       Tam gde klen shumit        1\n",
       "2     Anna       Nothing else metter        1\n",
       "3    Dasha       Nothing else metter        1\n",
       "4    Sasha        Ty nesi menya reka        1"
      ]
     },
     "execution_count": 5,
     "metadata": {},
     "output_type": "execute_result"
    }
   ],
   "source": [
    "test = pd.DataFrame(test_interaction)\n",
    "test"
   ]
  },
  {
   "cell_type": "markdown",
   "id": "424f9cb1",
   "metadata": {},
   "source": [
    "### Метрики"
   ]
  },
  {
   "cell_type": "code",
   "execution_count": 6,
   "id": "e2b2510c",
   "metadata": {},
   "outputs": [],
   "source": [
    "def hit_rate(test:pd.DataFrame, predict:pd.DataFrame, k:int) -> float:\n",
    "    hit_rate_list = []\n",
    "    user_pred = set(predict['query_id'].unique())\n",
    "    user_test = set(test['query_id'].unique())\n",
    "    user_union = set.intersection(user_pred, user_test)\n",
    "    for user in user_union:\n",
    "        test_seq = test[test['query_id'] == user]['item_id'].values\n",
    "        pred_seq = pred[pred['query_id'] == user]['item_id'].values\n",
    "        if pred_seq[:k] in test_seq:\n",
    "            hit_rate_list.append(1)\n",
    "        else:\n",
    "            hit_rate_list.append(0)\n",
    "            \n",
    "    no_test_users = user_test - user_union\n",
    "    hit_rate_list.extend([0] * len(no_test_users))\n",
    "\n",
    "    return np.mean(hit_rate_list)\n",
    "\n",
    "\n",
    "def coverage(train:pd.DataFrame, predict:pd.DataFrame, k:int) -> float:\n",
    "    unique_item = set(train['item_id'])\n",
    "    predict_topk = predict.groupby('query_id').agg(lambda x: x[:k]).explode('item_id')['item_id']\n",
    "    unique_predict = set(predict_topk)\n",
    "    return len(unique_predict & unique_item) / len(unique_item)\n",
    "\n",
    "\n",
    "def precision(test:pd.DataFrame, predict:pd.DataFrame, k:int) -> float:\n",
    "    res = []\n",
    "    user_pred = set(predict['query_id'].unique())\n",
    "    user_test = set(test['query_id'].unique())\n",
    "    user_union = set.intersection(user_pred, user_test)\n",
    "    for user in user_union:\n",
    "        test_seq = test[test['query_id'] == user]['item_id'].values\n",
    "        pred_seq = pred[pred['query_id'] == user]['item_id'].values\n",
    "        if pred_seq in test_seq:\n",
    "            ans = len(set(pred_seq[:k]).intersection(set(test_seq[:k])))\n",
    "            res.append(ans / k)\n",
    "        else:\n",
    "            res.append(0)\n",
    "            \n",
    "    no_test_users = user_test - user_union\n",
    "    res.extend([0] * len(no_test_users))\n",
    "\n",
    "    return np.mean(res)\n",
    "\n",
    "\n",
    "def recall(test: pd.DataFrame, predict : pd.DataFrame, k:int) -> float:\n",
    "    res = []\n",
    "    user_pred = set(predict['query_id'].unique())\n",
    "    user_test = set(test['query_id'].unique())\n",
    "    user_union = set.intersection(user_pred, user_test)\n",
    "    for user in user_union:\n",
    "        test_seq = test[test['query_id'] == user]['item_id'].values\n",
    "        pred_seq = pred[pred['query_id'] == user]['item_id'].values\n",
    "        if pred_seq in test_seq:\n",
    "            ans = len(set(pred_seq[:k]).intersection(set(test_seq[:k])))\n",
    "            res.append(ans / len(set(test_seq)))\n",
    "        else:\n",
    "            res.append(0)\n",
    "            \n",
    "    no_test_users = user_test - user_union\n",
    "    res.extend([0] * len(no_test_users))\n",
    "\n",
    "    return np.mean(res)"
   ]
  },
  {
   "cell_type": "markdown",
   "id": "5d6c9f6a",
   "metadata": {},
   "source": [
    "#### Порекомендуем всем самую прослушиваемую песню"
   ]
  },
  {
   "cell_type": "code",
   "execution_count": 7,
   "id": "890062c7",
   "metadata": {},
   "outputs": [
    {
     "data": {
      "text/plain": [
       "item_id\n",
       "Nothing else metter         4\n",
       "All along the watchtower    3\n",
       "Kalinka-Malinka             3\n",
       "Smells Like Teen Spirit     2\n",
       "Tam gde klen shumit         2\n",
       "Techet Reka Volga           2\n",
       "Look at me now              1\n",
       "Ty nesi menya reka          1\n",
       "Name: rating, dtype: int64"
      ]
     },
     "execution_count": 7,
     "metadata": {},
     "output_type": "execute_result"
    }
   ],
   "source": [
    "train.groupby('item_id').agg('count')['rating'].sort_values(ascending = False)"
   ]
  },
  {
   "cell_type": "code",
   "execution_count": 8,
   "id": "2f83c99a",
   "metadata": {},
   "outputs": [
    {
     "data": {
      "text/html": [
       "<div>\n",
       "<style scoped>\n",
       "    .dataframe tbody tr th:only-of-type {\n",
       "        vertical-align: middle;\n",
       "    }\n",
       "\n",
       "    .dataframe tbody tr th {\n",
       "        vertical-align: top;\n",
       "    }\n",
       "\n",
       "    .dataframe thead th {\n",
       "        text-align: right;\n",
       "    }\n",
       "</style>\n",
       "<table border=\"1\" class=\"dataframe\">\n",
       "  <thead>\n",
       "    <tr style=\"text-align: right;\">\n",
       "      <th></th>\n",
       "      <th>query_id</th>\n",
       "      <th>item_id</th>\n",
       "      <th>rating</th>\n",
       "    </tr>\n",
       "  </thead>\n",
       "  <tbody>\n",
       "    <tr>\n",
       "      <th>0</th>\n",
       "      <td>Anton</td>\n",
       "      <td>Nothing else metter</td>\n",
       "      <td>1</td>\n",
       "    </tr>\n",
       "    <tr>\n",
       "      <th>1</th>\n",
       "      <td>Lesha</td>\n",
       "      <td>Nothing else metter</td>\n",
       "      <td>1</td>\n",
       "    </tr>\n",
       "    <tr>\n",
       "      <th>2</th>\n",
       "      <td>Anna</td>\n",
       "      <td>Nothing else metter</td>\n",
       "      <td>1</td>\n",
       "    </tr>\n",
       "    <tr>\n",
       "      <th>3</th>\n",
       "      <td>Dasha</td>\n",
       "      <td>Nothing else metter</td>\n",
       "      <td>1</td>\n",
       "    </tr>\n",
       "    <tr>\n",
       "      <th>4</th>\n",
       "      <td>Sasha</td>\n",
       "      <td>Nothing else metter</td>\n",
       "      <td>1</td>\n",
       "    </tr>\n",
       "  </tbody>\n",
       "</table>\n",
       "</div>"
      ],
      "text/plain": [
       "  query_id              item_id  rating\n",
       "0    Anton  Nothing else metter       1\n",
       "1    Lesha  Nothing else metter       1\n",
       "2     Anna  Nothing else metter       1\n",
       "3    Dasha  Nothing else metter       1\n",
       "4    Sasha  Nothing else metter       1"
      ]
     },
     "execution_count": 8,
     "metadata": {},
     "output_type": "execute_result"
    }
   ],
   "source": [
    "pred = {'query_id': ['Anton', 'Lesha', 'Anna', 'Dasha', 'Sasha'],\n",
    " 'item_id': ['Nothing else metter', 'Nothing else metter', 'Nothing else metter', 'Nothing else metter', 'Nothing else metter'],\n",
    "  'rating' : [1, 1, 1, 1, 1]}\n",
    "pred = pd.DataFrame(pred)\n",
    "pred"
   ]
  },
  {
   "cell_type": "code",
   "execution_count": 9,
   "id": "0a9e5f16",
   "metadata": {},
   "outputs": [
    {
     "data": {
      "text/html": [
       "<div>\n",
       "<style scoped>\n",
       "    .dataframe tbody tr th:only-of-type {\n",
       "        vertical-align: middle;\n",
       "    }\n",
       "\n",
       "    .dataframe tbody tr th {\n",
       "        vertical-align: top;\n",
       "    }\n",
       "\n",
       "    .dataframe thead th {\n",
       "        text-align: right;\n",
       "    }\n",
       "</style>\n",
       "<table border=\"1\" class=\"dataframe\">\n",
       "  <thead>\n",
       "    <tr style=\"text-align: right;\">\n",
       "      <th></th>\n",
       "      <th>query_id</th>\n",
       "      <th>item_id</th>\n",
       "      <th>ratings</th>\n",
       "    </tr>\n",
       "  </thead>\n",
       "  <tbody>\n",
       "    <tr>\n",
       "      <th>0</th>\n",
       "      <td>Anton</td>\n",
       "      <td>All along the watchtower</td>\n",
       "      <td>1</td>\n",
       "    </tr>\n",
       "    <tr>\n",
       "      <th>1</th>\n",
       "      <td>Lesha</td>\n",
       "      <td>Tam gde klen shumit</td>\n",
       "      <td>1</td>\n",
       "    </tr>\n",
       "    <tr>\n",
       "      <th>2</th>\n",
       "      <td>Anna</td>\n",
       "      <td>Nothing else metter</td>\n",
       "      <td>1</td>\n",
       "    </tr>\n",
       "    <tr>\n",
       "      <th>3</th>\n",
       "      <td>Dasha</td>\n",
       "      <td>Nothing else metter</td>\n",
       "      <td>1</td>\n",
       "    </tr>\n",
       "    <tr>\n",
       "      <th>4</th>\n",
       "      <td>Sasha</td>\n",
       "      <td>Ty nesi menya reka</td>\n",
       "      <td>1</td>\n",
       "    </tr>\n",
       "  </tbody>\n",
       "</table>\n",
       "</div>"
      ],
      "text/plain": [
       "  query_id                   item_id  ratings\n",
       "0    Anton  All along the watchtower        1\n",
       "1    Lesha       Tam gde klen shumit        1\n",
       "2     Anna       Nothing else metter        1\n",
       "3    Dasha       Nothing else metter        1\n",
       "4    Sasha        Ty nesi menya reka        1"
      ]
     },
     "execution_count": 9,
     "metadata": {},
     "output_type": "execute_result"
    }
   ],
   "source": [
    "test"
   ]
  },
  {
   "cell_type": "code",
   "execution_count": 10,
   "id": "421d5557",
   "metadata": {},
   "outputs": [
    {
     "name": "stdout",
     "output_type": "stream",
     "text": [
      "Hit Rate = 0.4\n",
      "Coverage = 0.125\n",
      "Precision = 0.4\n",
      "Recall = 0.4\n"
     ]
    }
   ],
   "source": [
    "print('Hit Rate = {}'.format(hit_rate(test, pred, 1)))\n",
    "print('Coverage = {}'.format(coverage(train, pred, 1))) \n",
    "print('Precision = {}'.format(precision(test, pred, 1)))\n",
    "print('Recall = {}'.format(recall(test, pred, 1)))"
   ]
  },
  {
   "cell_type": "markdown",
   "id": "3d5ae5df",
   "metadata": {},
   "source": [
    "### Метрики посчитанные в RePlay"
   ]
  },
  {
   "cell_type": "code",
   "execution_count": 11,
   "id": "3f7009ef",
   "metadata": {
    "scrolled": true
   },
   "outputs": [
    {
     "name": "stdout",
     "output_type": "stream",
     "text": [
      "{'HitRate@1': 0.4}\n",
      "{'Coverage@1': 0.125}\n",
      "{'Precision@1': 0.4}\n",
      "{'Recall@1': 0.4}\n"
     ]
    }
   ],
   "source": [
    "print(HitRate(1)(pred, test))\n",
    "print(Coverage(1)(pred, train))\n",
    "print(Precision(1)(pred, test))\n",
    "print(Recall(1)(pred, test))"
   ]
  },
  {
   "cell_type": "code",
   "execution_count": 12,
   "id": "8b242cd6",
   "metadata": {},
   "outputs": [
    {
     "data": {
      "text/plain": [
       "{'Precision@1': 0.4,\n",
       " 'Precision-PerUser@1': {'Anna': 1.0,\n",
       "  'Anton': 0.0,\n",
       "  'Dasha': 1.0,\n",
       "  'Lesha': 0.0,\n",
       "  'Sasha': 0.0},\n",
       " 'Precision-Median@1': 0.0,\n",
       " 'Precision-ConfidenceInterval@1': 0.480091167635531,\n",
       " 'Recall@1': 0.4,\n",
       " 'MAP@1': 0.4,\n",
       " 'MRR@1': 0.4,\n",
       " 'NDCG@1': 0.4,\n",
       " 'HitRate@1': 0.4,\n",
       " 'RocAuc@1': 0.4,\n",
       " 'Coverage@1': 0.125,\n",
       " 'Novelty@1': 0.2,\n",
       " 'Surprisal@1': 0.13864688385321391}"
      ]
     },
     "execution_count": 12,
     "metadata": {},
     "output_type": "execute_result"
    }
   ],
   "source": [
    "metrics = [\n",
    "     Precision(1),\n",
    "     Precision(1, mode=PerUser()),\n",
    "     Precision(1, mode=Median()),\n",
    "     Precision(1, mode=ConfidenceInterval(alpha=0.95)),\n",
    "     Recall(1),\n",
    "     MAP(1),\n",
    "     MRR(1),\n",
    "     NDCG(1),\n",
    "     HitRate(1),\n",
    "     RocAuc(1),\n",
    "     Coverage(1),\n",
    "     Novelty(1),\n",
    "     Surprisal(1),\n",
    " ]\n",
    "\n",
    "OfflineMetrics(metrics)(pred, test, train)"
   ]
  },
  {
   "cell_type": "markdown",
   "id": "61bb6e21",
   "metadata": {},
   "source": [
    "### Проверяем метрики на прочность =)"
   ]
  },
  {
   "cell_type": "markdown",
   "id": "ee498b4a",
   "metadata": {},
   "source": [
    "#### Рекомендуем для @2"
   ]
  },
  {
   "cell_type": "code",
   "execution_count": 13,
   "id": "b1877a1c",
   "metadata": {},
   "outputs": [],
   "source": [
    "assert coverage(train, pred, 2) == Coverage(2)(pred, train)['Coverage@2']\n",
    "assert hit_rate(test, pred, 2) == HitRate(2)(pred, test)['HitRate@2']\n",
    "assert precision(test, pred, 2) == Precision(2)(pred, test)['Precision@2']\n",
    "assert recall(test, pred, 2) == Recall(2)(pred, test)['Recall@2']"
   ]
  },
  {
   "cell_type": "markdown",
   "id": "1bb421c4",
   "metadata": {},
   "source": [
    "#### Рекомендуем не для всех пользователей"
   ]
  },
  {
   "cell_type": "code",
   "execution_count": 14,
   "id": "95e5e638",
   "metadata": {
    "scrolled": true
   },
   "outputs": [
    {
     "data": {
      "text/html": [
       "<div>\n",
       "<style scoped>\n",
       "    .dataframe tbody tr th:only-of-type {\n",
       "        vertical-align: middle;\n",
       "    }\n",
       "\n",
       "    .dataframe tbody tr th {\n",
       "        vertical-align: top;\n",
       "    }\n",
       "\n",
       "    .dataframe thead th {\n",
       "        text-align: right;\n",
       "    }\n",
       "</style>\n",
       "<table border=\"1\" class=\"dataframe\">\n",
       "  <thead>\n",
       "    <tr style=\"text-align: right;\">\n",
       "      <th></th>\n",
       "      <th>query_id</th>\n",
       "      <th>item_id</th>\n",
       "      <th>rating</th>\n",
       "    </tr>\n",
       "  </thead>\n",
       "  <tbody>\n",
       "    <tr>\n",
       "      <th>0</th>\n",
       "      <td>Anton</td>\n",
       "      <td>Nothing else metter</td>\n",
       "      <td>1</td>\n",
       "    </tr>\n",
       "    <tr>\n",
       "      <th>1</th>\n",
       "      <td>Lesha</td>\n",
       "      <td>Nothing else metter</td>\n",
       "      <td>1</td>\n",
       "    </tr>\n",
       "    <tr>\n",
       "      <th>2</th>\n",
       "      <td>Anna</td>\n",
       "      <td>Nothing else metter</td>\n",
       "      <td>1</td>\n",
       "    </tr>\n",
       "    <tr>\n",
       "      <th>3</th>\n",
       "      <td>Sasha</td>\n",
       "      <td>Nothing else metter</td>\n",
       "      <td>1</td>\n",
       "    </tr>\n",
       "  </tbody>\n",
       "</table>\n",
       "</div>"
      ],
      "text/plain": [
       "  query_id              item_id  rating\n",
       "0    Anton  Nothing else metter       1\n",
       "1    Lesha  Nothing else metter       1\n",
       "2     Anna  Nothing else metter       1\n",
       "3    Sasha  Nothing else metter       1"
      ]
     },
     "execution_count": 14,
     "metadata": {},
     "output_type": "execute_result"
    }
   ],
   "source": [
    "pred = {'query_id': ['Anton', 'Lesha', 'Anna', 'Sasha'],\n",
    " 'item_id': ['Nothing else metter', 'Nothing else metter', 'Nothing else metter', 'Nothing else metter'],\n",
    "  'rating' : [1, 1, 1, 1]}\n",
    "pred = pd.DataFrame(pred)\n",
    "pred"
   ]
  },
  {
   "cell_type": "code",
   "execution_count": 15,
   "id": "ace94436",
   "metadata": {},
   "outputs": [],
   "source": [
    "assert coverage(train, pred, 1) == Coverage(1)(pred, train)['Coverage@1']\n",
    "assert hit_rate(test, pred, 1) == HitRate(1)(pred, test)['HitRate@1']\n",
    "assert precision(test, pred, 1) == Precision(1)(pred, test)['Precision@1']\n",
    "assert recall(test, pred, 1) == Recall(1)(pred, test)['Recall@1']"
   ]
  },
  {
   "cell_type": "markdown",
   "id": "fba58cec",
   "metadata": {},
   "source": [
    "#### Делаем рекомендацию для того, кого нет в test"
   ]
  },
  {
   "cell_type": "code",
   "execution_count": 16,
   "id": "f0c709d2",
   "metadata": {
    "scrolled": true
   },
   "outputs": [
    {
     "data": {
      "text/html": [
       "<div>\n",
       "<style scoped>\n",
       "    .dataframe tbody tr th:only-of-type {\n",
       "        vertical-align: middle;\n",
       "    }\n",
       "\n",
       "    .dataframe tbody tr th {\n",
       "        vertical-align: top;\n",
       "    }\n",
       "\n",
       "    .dataframe thead th {\n",
       "        text-align: right;\n",
       "    }\n",
       "</style>\n",
       "<table border=\"1\" class=\"dataframe\">\n",
       "  <thead>\n",
       "    <tr style=\"text-align: right;\">\n",
       "      <th></th>\n",
       "      <th>query_id</th>\n",
       "      <th>item_id</th>\n",
       "      <th>rating</th>\n",
       "    </tr>\n",
       "  </thead>\n",
       "  <tbody>\n",
       "    <tr>\n",
       "      <th>0</th>\n",
       "      <td>Anton</td>\n",
       "      <td>Nothing else metter</td>\n",
       "      <td>1</td>\n",
       "    </tr>\n",
       "    <tr>\n",
       "      <th>1</th>\n",
       "      <td>Ksusha</td>\n",
       "      <td>Nothing else metter</td>\n",
       "      <td>1</td>\n",
       "    </tr>\n",
       "    <tr>\n",
       "      <th>2</th>\n",
       "      <td>Lesha</td>\n",
       "      <td>Nothing else metter</td>\n",
       "      <td>1</td>\n",
       "    </tr>\n",
       "    <tr>\n",
       "      <th>3</th>\n",
       "      <td>Anna</td>\n",
       "      <td>Nothing else metter</td>\n",
       "      <td>1</td>\n",
       "    </tr>\n",
       "    <tr>\n",
       "      <th>4</th>\n",
       "      <td>Sasha</td>\n",
       "      <td>Nothing else metter</td>\n",
       "      <td>1</td>\n",
       "    </tr>\n",
       "  </tbody>\n",
       "</table>\n",
       "</div>"
      ],
      "text/plain": [
       "  query_id              item_id  rating\n",
       "0    Anton  Nothing else metter       1\n",
       "1   Ksusha  Nothing else metter       1\n",
       "2    Lesha  Nothing else metter       1\n",
       "3     Anna  Nothing else metter       1\n",
       "4    Sasha  Nothing else metter       1"
      ]
     },
     "execution_count": 16,
     "metadata": {},
     "output_type": "execute_result"
    }
   ],
   "source": [
    "pred = {'query_id': ['Anton','Ksusha', 'Lesha', 'Anna', 'Sasha'],\n",
    " 'item_id': ['Nothing else metter', 'Nothing else metter', 'Nothing else metter', 'Nothing else metter', 'Nothing else metter'],\n",
    "  'rating' : [1, 1, 1, 1, 1]}\n",
    "pred = pd.DataFrame(pred)\n",
    "pred"
   ]
  },
  {
   "cell_type": "code",
   "execution_count": 17,
   "id": "d35ec57c",
   "metadata": {},
   "outputs": [
    {
     "data": {
      "text/html": [
       "<div>\n",
       "<style scoped>\n",
       "    .dataframe tbody tr th:only-of-type {\n",
       "        vertical-align: middle;\n",
       "    }\n",
       "\n",
       "    .dataframe tbody tr th {\n",
       "        vertical-align: top;\n",
       "    }\n",
       "\n",
       "    .dataframe thead th {\n",
       "        text-align: right;\n",
       "    }\n",
       "</style>\n",
       "<table border=\"1\" class=\"dataframe\">\n",
       "  <thead>\n",
       "    <tr style=\"text-align: right;\">\n",
       "      <th></th>\n",
       "      <th>query_id</th>\n",
       "      <th>item_id</th>\n",
       "      <th>ratings</th>\n",
       "    </tr>\n",
       "  </thead>\n",
       "  <tbody>\n",
       "    <tr>\n",
       "      <th>0</th>\n",
       "      <td>Anton</td>\n",
       "      <td>All along the watchtower</td>\n",
       "      <td>1</td>\n",
       "    </tr>\n",
       "    <tr>\n",
       "      <th>1</th>\n",
       "      <td>Lesha</td>\n",
       "      <td>Tam gde klen shumit</td>\n",
       "      <td>1</td>\n",
       "    </tr>\n",
       "    <tr>\n",
       "      <th>2</th>\n",
       "      <td>Anna</td>\n",
       "      <td>Nothing else metter</td>\n",
       "      <td>1</td>\n",
       "    </tr>\n",
       "    <tr>\n",
       "      <th>3</th>\n",
       "      <td>Dasha</td>\n",
       "      <td>Nothing else metter</td>\n",
       "      <td>1</td>\n",
       "    </tr>\n",
       "    <tr>\n",
       "      <th>4</th>\n",
       "      <td>Sasha</td>\n",
       "      <td>Ty nesi menya reka</td>\n",
       "      <td>1</td>\n",
       "    </tr>\n",
       "  </tbody>\n",
       "</table>\n",
       "</div>"
      ],
      "text/plain": [
       "  query_id                   item_id  ratings\n",
       "0    Anton  All along the watchtower        1\n",
       "1    Lesha       Tam gde klen shumit        1\n",
       "2     Anna       Nothing else metter        1\n",
       "3    Dasha       Nothing else metter        1\n",
       "4    Sasha        Ty nesi menya reka        1"
      ]
     },
     "execution_count": 17,
     "metadata": {},
     "output_type": "execute_result"
    }
   ],
   "source": [
    "test"
   ]
  },
  {
   "cell_type": "code",
   "execution_count": 18,
   "id": "c96b9373",
   "metadata": {},
   "outputs": [],
   "source": [
    "assert coverage(train, pred, 1) == Coverage(1)(pred, train)['Coverage@1']\n",
    "assert hit_rate(test, pred, 1) == HitRate(1)(pred, test)['HitRate@1']\n",
    "assert precision(test, pred, 1) == Precision(1)(pred, test)['Precision@1']\n",
    "assert recall(test, pred, 1) == Recall(1)(pred, test)['Recall@1']"
   ]
  }
 ],
 "metadata": {
  "kernelspec": {
   "display_name": "Python (myenv)",
   "language": "python",
   "name": "testname"
  },
  "language_info": {
   "codemirror_mode": {
    "name": "ipython",
    "version": 3
   },
   "file_extension": ".py",
   "mimetype": "text/x-python",
   "name": "python",
   "nbconvert_exporter": "python",
   "pygments_lexer": "ipython3",
   "version": "3.7.12"
  }
 },
 "nbformat": 4,
 "nbformat_minor": 5
}
