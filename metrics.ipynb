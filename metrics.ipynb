{
 "cells": [
  {
   "cell_type": "code",
   "execution_count": 2,
   "id": "54515dc7",
   "metadata": {},
   "outputs": [],
   "source": [
    "import pandas as pd\n",
    "import numpy as np"
   ]
  },
  {
   "cell_type": "markdown",
   "id": "8f637ff6",
   "metadata": {},
   "source": [
    "### Создание датасета"
   ]
  },
  {
   "cell_type": "code",
   "execution_count": 2,
   "id": "4205ae90",
   "metadata": {},
   "outputs": [],
   "source": [
    "train_interaction = {  \n",
    "    'Anton' : {'All along the watchtower' : 1, 'Kalinka-Malinka':1, 'Nothing else matters' : 1, 'Smells Like Teen Spirit' : 1},\n",
    "    'Lesha' : {'Kalinka-Malinka':1, 'Ty nesi menya reka' :1,'Nothing else matters':1, 'Techet Reka Volga' : 1 },\n",
    "    'Anna' : {'Nothing else matters' : 1, 'Tam gde klen shumit' :1, 'All along the watchtower' : 1},\n",
    "    'Dasha' : {'All along the watchtower' : 1, 'Look at me now' : 1, 'Smells Like Teen Spirit' : 1, 'All along the watchtower' : 1},\n",
    "    'Sasha' : {'Look at me now':1, 'Techet Reka Volga' : 1 , 'Nothing else matters':1,  'Tam gde klen shumit' :1}}\n"
   ]
  },
  {
   "cell_type": "code",
   "execution_count": 3,
   "id": "934702fb",
   "metadata": {},
   "outputs": [],
   "source": [
    "test_interaction = {'query_id': ['Anton', 'Lesha', 'Anna', 'Dasha', 'Sasha'],\n",
    " 'item_id': ['All along the watchtower', 'Tam gde klen shumit', 'Nothing else matters', 'Nothing else matters', 'Ty nesi menya reka'],\n",
    " 'ratings' : [1, 1, 1, 1, 1]}"
   ]
  },
  {
   "cell_type": "code",
   "execution_count": 4,
   "id": "73cd01c3",
   "metadata": {},
   "outputs": [
    {
     "data": {
      "text/html": [
       "<div>\n",
       "<style scoped>\n",
       "    .dataframe tbody tr th:only-of-type {\n",
       "        vertical-align: middle;\n",
       "    }\n",
       "\n",
       "    .dataframe tbody tr th {\n",
       "        vertical-align: top;\n",
       "    }\n",
       "\n",
       "    .dataframe thead th {\n",
       "        text-align: right;\n",
       "    }\n",
       "</style>\n",
       "<table border=\"1\" class=\"dataframe\">\n",
       "  <thead>\n",
       "    <tr style=\"text-align: right;\">\n",
       "      <th></th>\n",
       "      <th>query_id</th>\n",
       "      <th>item_id</th>\n",
       "      <th>rating</th>\n",
       "    </tr>\n",
       "  </thead>\n",
       "  <tbody>\n",
       "    <tr>\n",
       "      <th>0</th>\n",
       "      <td>Anton</td>\n",
       "      <td>All along the watchtower</td>\n",
       "      <td>1</td>\n",
       "    </tr>\n",
       "    <tr>\n",
       "      <th>1</th>\n",
       "      <td>Anton</td>\n",
       "      <td>Kalinka-Malinka</td>\n",
       "      <td>1</td>\n",
       "    </tr>\n",
       "    <tr>\n",
       "      <th>2</th>\n",
       "      <td>Anton</td>\n",
       "      <td>Nothing else matters</td>\n",
       "      <td>1</td>\n",
       "    </tr>\n",
       "    <tr>\n",
       "      <th>3</th>\n",
       "      <td>Anton</td>\n",
       "      <td>Smells Like Teen Spirit</td>\n",
       "      <td>1</td>\n",
       "    </tr>\n",
       "    <tr>\n",
       "      <th>4</th>\n",
       "      <td>Lesha</td>\n",
       "      <td>Kalinka-Malinka</td>\n",
       "      <td>1</td>\n",
       "    </tr>\n",
       "    <tr>\n",
       "      <th>5</th>\n",
       "      <td>Lesha</td>\n",
       "      <td>Ty nesi menya reka</td>\n",
       "      <td>1</td>\n",
       "    </tr>\n",
       "    <tr>\n",
       "      <th>6</th>\n",
       "      <td>Lesha</td>\n",
       "      <td>Nothing else matters</td>\n",
       "      <td>1</td>\n",
       "    </tr>\n",
       "    <tr>\n",
       "      <th>7</th>\n",
       "      <td>Lesha</td>\n",
       "      <td>Techet Reka Volga</td>\n",
       "      <td>1</td>\n",
       "    </tr>\n",
       "    <tr>\n",
       "      <th>8</th>\n",
       "      <td>Anna</td>\n",
       "      <td>Nothing else matters</td>\n",
       "      <td>1</td>\n",
       "    </tr>\n",
       "    <tr>\n",
       "      <th>9</th>\n",
       "      <td>Anna</td>\n",
       "      <td>Tam gde klen shumit</td>\n",
       "      <td>1</td>\n",
       "    </tr>\n",
       "    <tr>\n",
       "      <th>10</th>\n",
       "      <td>Anna</td>\n",
       "      <td>All along the watchtower</td>\n",
       "      <td>1</td>\n",
       "    </tr>\n",
       "    <tr>\n",
       "      <th>11</th>\n",
       "      <td>Dasha</td>\n",
       "      <td>All along the watchtower</td>\n",
       "      <td>1</td>\n",
       "    </tr>\n",
       "    <tr>\n",
       "      <th>12</th>\n",
       "      <td>Dasha</td>\n",
       "      <td>Look at me now</td>\n",
       "      <td>1</td>\n",
       "    </tr>\n",
       "    <tr>\n",
       "      <th>13</th>\n",
       "      <td>Dasha</td>\n",
       "      <td>Smells Like Teen Spirit</td>\n",
       "      <td>1</td>\n",
       "    </tr>\n",
       "    <tr>\n",
       "      <th>14</th>\n",
       "      <td>Sasha</td>\n",
       "      <td>Look at me now</td>\n",
       "      <td>1</td>\n",
       "    </tr>\n",
       "    <tr>\n",
       "      <th>15</th>\n",
       "      <td>Sasha</td>\n",
       "      <td>Techet Reka Volga</td>\n",
       "      <td>1</td>\n",
       "    </tr>\n",
       "    <tr>\n",
       "      <th>16</th>\n",
       "      <td>Sasha</td>\n",
       "      <td>Nothing else matters</td>\n",
       "      <td>1</td>\n",
       "    </tr>\n",
       "    <tr>\n",
       "      <th>17</th>\n",
       "      <td>Sasha</td>\n",
       "      <td>Tam gde klen shumit</td>\n",
       "      <td>1</td>\n",
       "    </tr>\n",
       "  </tbody>\n",
       "</table>\n",
       "</div>"
      ],
      "text/plain": [
       "   query_id                   item_id rating\n",
       "0     Anton  All along the watchtower      1\n",
       "1     Anton           Kalinka-Malinka      1\n",
       "2     Anton      Nothing else matters      1\n",
       "3     Anton   Smells Like Teen Spirit      1\n",
       "4     Lesha           Kalinka-Malinka      1\n",
       "5     Lesha        Ty nesi menya reka      1\n",
       "6     Lesha      Nothing else matters      1\n",
       "7     Lesha         Techet Reka Volga      1\n",
       "8      Anna      Nothing else matters      1\n",
       "9      Anna       Tam gde klen shumit      1\n",
       "10     Anna  All along the watchtower      1\n",
       "11    Dasha  All along the watchtower      1\n",
       "12    Dasha            Look at me now      1\n",
       "13    Dasha   Smells Like Teen Spirit      1\n",
       "14    Sasha            Look at me now      1\n",
       "15    Sasha         Techet Reka Volga      1\n",
       "16    Sasha      Nothing else matters      1\n",
       "17    Sasha       Tam gde klen shumit      1"
      ]
     },
     "execution_count": 4,
     "metadata": {},
     "output_type": "execute_result"
    }
   ],
   "source": [
    "train = pd.DataFrame(columns = ['query_id', 'item_id', 'rating'])\n",
    "index = 0\n",
    "for name in train_interaction.keys():\n",
    "    for value in train_interaction[name]:\n",
    "        train.loc[index] = [name, value, '1']\n",
    "        index += 1\n",
    "\n",
    "train"
   ]
  },
  {
   "cell_type": "code",
   "execution_count": 5,
   "id": "d697a968",
   "metadata": {},
   "outputs": [
    {
     "data": {
      "text/html": [
       "<div>\n",
       "<style scoped>\n",
       "    .dataframe tbody tr th:only-of-type {\n",
       "        vertical-align: middle;\n",
       "    }\n",
       "\n",
       "    .dataframe tbody tr th {\n",
       "        vertical-align: top;\n",
       "    }\n",
       "\n",
       "    .dataframe thead th {\n",
       "        text-align: right;\n",
       "    }\n",
       "</style>\n",
       "<table border=\"1\" class=\"dataframe\">\n",
       "  <thead>\n",
       "    <tr style=\"text-align: right;\">\n",
       "      <th></th>\n",
       "      <th>query_id</th>\n",
       "      <th>item_id</th>\n",
       "      <th>ratings</th>\n",
       "    </tr>\n",
       "  </thead>\n",
       "  <tbody>\n",
       "    <tr>\n",
       "      <th>0</th>\n",
       "      <td>Anton</td>\n",
       "      <td>All along the watchtower</td>\n",
       "      <td>1</td>\n",
       "    </tr>\n",
       "    <tr>\n",
       "      <th>1</th>\n",
       "      <td>Lesha</td>\n",
       "      <td>Tam gde klen shumit</td>\n",
       "      <td>1</td>\n",
       "    </tr>\n",
       "    <tr>\n",
       "      <th>2</th>\n",
       "      <td>Anna</td>\n",
       "      <td>Nothing else matters</td>\n",
       "      <td>1</td>\n",
       "    </tr>\n",
       "    <tr>\n",
       "      <th>3</th>\n",
       "      <td>Dasha</td>\n",
       "      <td>Nothing else matters</td>\n",
       "      <td>1</td>\n",
       "    </tr>\n",
       "    <tr>\n",
       "      <th>4</th>\n",
       "      <td>Sasha</td>\n",
       "      <td>Ty nesi menya reka</td>\n",
       "      <td>1</td>\n",
       "    </tr>\n",
       "  </tbody>\n",
       "</table>\n",
       "</div>"
      ],
      "text/plain": [
       "  query_id                   item_id  ratings\n",
       "0    Anton  All along the watchtower        1\n",
       "1    Lesha       Tam gde klen shumit        1\n",
       "2     Anna      Nothing else matters        1\n",
       "3    Dasha      Nothing else matters        1\n",
       "4    Sasha        Ty nesi menya reka        1"
      ]
     },
     "execution_count": 5,
     "metadata": {},
     "output_type": "execute_result"
    }
   ],
   "source": [
    "test = pd.DataFrame(test_interaction)\n",
    "test"
   ]
  },
  {
   "attachments": {},
   "cell_type": "markdown",
   "id": "5d6c9f6a",
   "metadata": {},
   "source": [
    "### Создание рекомендаций "
   ]
  },
  {
   "attachments": {},
   "cell_type": "markdown",
   "id": "3b2c7aa0",
   "metadata": {},
   "source": [
    "##### Порекомендуем всем две самые прослушиваемые песни"
   ]
  },
  {
   "cell_type": "code",
   "execution_count": 6,
   "id": "890062c7",
   "metadata": {},
   "outputs": [
    {
     "data": {
      "text/plain": [
       "item_id\n",
       "Nothing else matters        4\n",
       "All along the watchtower    3\n",
       "Kalinka-Malinka             2\n",
       "Look at me now              2\n",
       "Smells Like Teen Spirit     2\n",
       "Tam gde klen shumit         2\n",
       "Techet Reka Volga           2\n",
       "Ty nesi menya reka          1\n",
       "Name: rating, dtype: int64"
      ]
     },
     "execution_count": 6,
     "metadata": {},
     "output_type": "execute_result"
    }
   ],
   "source": [
    "train.groupby('item_id').agg('count')['rating'].sort_values(ascending = False)"
   ]
  },
  {
   "cell_type": "code",
   "execution_count": 7,
   "id": "2f83c99a",
   "metadata": {},
   "outputs": [
    {
     "data": {
      "text/html": [
       "<div>\n",
       "<style scoped>\n",
       "    .dataframe tbody tr th:only-of-type {\n",
       "        vertical-align: middle;\n",
       "    }\n",
       "\n",
       "    .dataframe tbody tr th {\n",
       "        vertical-align: top;\n",
       "    }\n",
       "\n",
       "    .dataframe thead th {\n",
       "        text-align: right;\n",
       "    }\n",
       "</style>\n",
       "<table border=\"1\" class=\"dataframe\">\n",
       "  <thead>\n",
       "    <tr style=\"text-align: right;\">\n",
       "      <th></th>\n",
       "      <th>query_id</th>\n",
       "      <th>item_id</th>\n",
       "      <th>rating</th>\n",
       "    </tr>\n",
       "  </thead>\n",
       "  <tbody>\n",
       "    <tr>\n",
       "      <th>0</th>\n",
       "      <td>Anton</td>\n",
       "      <td>Nothing else matters</td>\n",
       "      <td>1</td>\n",
       "    </tr>\n",
       "    <tr>\n",
       "      <th>1</th>\n",
       "      <td>Anton</td>\n",
       "      <td>All along the watchtower</td>\n",
       "      <td>1</td>\n",
       "    </tr>\n",
       "    <tr>\n",
       "      <th>2</th>\n",
       "      <td>Lesha</td>\n",
       "      <td>Nothing else matters</td>\n",
       "      <td>1</td>\n",
       "    </tr>\n",
       "    <tr>\n",
       "      <th>3</th>\n",
       "      <td>Lesha</td>\n",
       "      <td>All along the watchtower</td>\n",
       "      <td>1</td>\n",
       "    </tr>\n",
       "    <tr>\n",
       "      <th>4</th>\n",
       "      <td>Anna</td>\n",
       "      <td>Nothing else matters</td>\n",
       "      <td>1</td>\n",
       "    </tr>\n",
       "    <tr>\n",
       "      <th>5</th>\n",
       "      <td>Anna</td>\n",
       "      <td>All along the watchtower</td>\n",
       "      <td>1</td>\n",
       "    </tr>\n",
       "    <tr>\n",
       "      <th>6</th>\n",
       "      <td>Dasha</td>\n",
       "      <td>Nothing else matters</td>\n",
       "      <td>1</td>\n",
       "    </tr>\n",
       "    <tr>\n",
       "      <th>7</th>\n",
       "      <td>Dasha</td>\n",
       "      <td>All along the watchtower</td>\n",
       "      <td>1</td>\n",
       "    </tr>\n",
       "    <tr>\n",
       "      <th>8</th>\n",
       "      <td>Sasha</td>\n",
       "      <td>Nothing else matters</td>\n",
       "      <td>1</td>\n",
       "    </tr>\n",
       "    <tr>\n",
       "      <th>9</th>\n",
       "      <td>Sasha</td>\n",
       "      <td>All along the watchtower</td>\n",
       "      <td>1</td>\n",
       "    </tr>\n",
       "  </tbody>\n",
       "</table>\n",
       "</div>"
      ],
      "text/plain": [
       "  query_id                   item_id  rating\n",
       "0    Anton      Nothing else matters       1\n",
       "1    Anton  All along the watchtower       1\n",
       "2    Lesha      Nothing else matters       1\n",
       "3    Lesha  All along the watchtower       1\n",
       "4     Anna      Nothing else matters       1\n",
       "5     Anna  All along the watchtower       1\n",
       "6    Dasha      Nothing else matters       1\n",
       "7    Dasha  All along the watchtower       1\n",
       "8    Sasha      Nothing else matters       1\n",
       "9    Sasha  All along the watchtower       1"
      ]
     },
     "execution_count": 7,
     "metadata": {},
     "output_type": "execute_result"
    }
   ],
   "source": [
    "pred = {'query_id': ['Anton', 'Anton', 'Lesha', 'Lesha', 'Anna', 'Anna', 'Dasha', 'Dasha', 'Sasha', 'Sasha'],\n",
    " 'item_id': ['Nothing else matters', 'All along the watchtower', 'Nothing else matters', 'All along the watchtower',\n",
    "             'Nothing else matters', 'All along the watchtower', 'Nothing else matters', 'All along the watchtower',\n",
    "             'Nothing else matters', 'All along the watchtower'],\n",
    "  'rating' : [1, 1, 1, 1, 1, 1, 1, 1, 1, 1]}\n",
    "pred = pd.DataFrame(pred)\n",
    "pred"
   ]
  },
  {
   "cell_type": "code",
   "execution_count": 8,
   "id": "0a9e5f16",
   "metadata": {},
   "outputs": [
    {
     "data": {
      "text/html": [
       "<div>\n",
       "<style scoped>\n",
       "    .dataframe tbody tr th:only-of-type {\n",
       "        vertical-align: middle;\n",
       "    }\n",
       "\n",
       "    .dataframe tbody tr th {\n",
       "        vertical-align: top;\n",
       "    }\n",
       "\n",
       "    .dataframe thead th {\n",
       "        text-align: right;\n",
       "    }\n",
       "</style>\n",
       "<table border=\"1\" class=\"dataframe\">\n",
       "  <thead>\n",
       "    <tr style=\"text-align: right;\">\n",
       "      <th></th>\n",
       "      <th>query_id</th>\n",
       "      <th>item_id</th>\n",
       "      <th>ratings</th>\n",
       "    </tr>\n",
       "  </thead>\n",
       "  <tbody>\n",
       "    <tr>\n",
       "      <th>0</th>\n",
       "      <td>Anton</td>\n",
       "      <td>All along the watchtower</td>\n",
       "      <td>1</td>\n",
       "    </tr>\n",
       "    <tr>\n",
       "      <th>1</th>\n",
       "      <td>Lesha</td>\n",
       "      <td>Tam gde klen shumit</td>\n",
       "      <td>1</td>\n",
       "    </tr>\n",
       "    <tr>\n",
       "      <th>2</th>\n",
       "      <td>Anna</td>\n",
       "      <td>Nothing else matters</td>\n",
       "      <td>1</td>\n",
       "    </tr>\n",
       "    <tr>\n",
       "      <th>3</th>\n",
       "      <td>Dasha</td>\n",
       "      <td>Nothing else matters</td>\n",
       "      <td>1</td>\n",
       "    </tr>\n",
       "    <tr>\n",
       "      <th>4</th>\n",
       "      <td>Sasha</td>\n",
       "      <td>Ty nesi menya reka</td>\n",
       "      <td>1</td>\n",
       "    </tr>\n",
       "  </tbody>\n",
       "</table>\n",
       "</div>"
      ],
      "text/plain": [
       "  query_id                   item_id  ratings\n",
       "0    Anton  All along the watchtower        1\n",
       "1    Lesha       Tam gde klen shumit        1\n",
       "2     Anna      Nothing else matters        1\n",
       "3    Dasha      Nothing else matters        1\n",
       "4    Sasha        Ty nesi menya reka        1"
      ]
     },
     "execution_count": 8,
     "metadata": {},
     "output_type": "execute_result"
    }
   ],
   "source": [
    "test"
   ]
  },
  {
   "cell_type": "code",
   "execution_count": 9,
   "id": "799d4488",
   "metadata": {},
   "outputs": [],
   "source": [
    "Anton_test = test.head(1)\n",
    "Anton_pred = pred.head(2)"
   ]
  },
  {
   "attachments": {},
   "cell_type": "markdown",
   "id": "b17a9781",
   "metadata": {},
   "source": [
    "### Hit Rate"
   ]
  },
  {
   "attachments": {},
   "cell_type": "markdown",
   "id": "9f2be614",
   "metadata": {},
   "source": [
    "$\n",
    "HitRate@k(u) =\\mathbb{I}[|rel(u) \\cap rec_k(u)| > 0]\n",
    "$\n",
    "\n",
    "$\n",
    "HitRate@k =\\frac 1N  \\sum_{u=1}^N HitRate@k(u)$\n"
   ]
  },
  {
   "cell_type": "code",
   "execution_count": 10,
   "id": "e56ce639",
   "metadata": {},
   "outputs": [],
   "source": [
    "def hit_rate(test:pd.DataFrame, predict:pd.DataFrame, topk:int) -> float:\n",
    "    hit_rate_list = []\n",
    "    user_pred = set(predict['query_id'].unique())\n",
    "    user_test = set(test['query_id'].unique())\n",
    "    user_union = set.intersection(user_pred, user_test)\n",
    "    for user in user_union:\n",
    "        test_seq = test[test['query_id'] == user]['item_id'].values\n",
    "        pred_seq = predict[predict['query_id'] == user]['item_id'].values\n",
    "        if pred_seq[:topk] in test_seq:\n",
    "            hit_rate_list.append(1)\n",
    "        else:\n",
    "            hit_rate_list.append(0)\n",
    "            \n",
    "    no_test_users = user_test - user_union\n",
    "    hit_rate_list.extend([0] * len(no_test_users))\n",
    "\n",
    "    return np.mean(hit_rate_list)"
   ]
  },
  {
   "cell_type": "code",
   "execution_count": 11,
   "id": "f8986008",
   "metadata": {},
   "outputs": [
    {
     "data": {
      "text/html": [
       "<div>\n",
       "<style scoped>\n",
       "    .dataframe tbody tr th:only-of-type {\n",
       "        vertical-align: middle;\n",
       "    }\n",
       "\n",
       "    .dataframe tbody tr th {\n",
       "        vertical-align: top;\n",
       "    }\n",
       "\n",
       "    .dataframe thead th {\n",
       "        text-align: right;\n",
       "    }\n",
       "</style>\n",
       "<table border=\"1\" class=\"dataframe\">\n",
       "  <thead>\n",
       "    <tr style=\"text-align: right;\">\n",
       "      <th></th>\n",
       "      <th>query_id</th>\n",
       "      <th>item_id</th>\n",
       "      <th>ratings</th>\n",
       "    </tr>\n",
       "  </thead>\n",
       "  <tbody>\n",
       "    <tr>\n",
       "      <th>0</th>\n",
       "      <td>Anton</td>\n",
       "      <td>All along the watchtower</td>\n",
       "      <td>1</td>\n",
       "    </tr>\n",
       "  </tbody>\n",
       "</table>\n",
       "</div>"
      ],
      "text/plain": [
       "  query_id                   item_id  ratings\n",
       "0    Anton  All along the watchtower        1"
      ]
     },
     "execution_count": 11,
     "metadata": {},
     "output_type": "execute_result"
    }
   ],
   "source": [
    "Anton_test"
   ]
  },
  {
   "cell_type": "code",
   "execution_count": 12,
   "id": "2aa6fc82",
   "metadata": {},
   "outputs": [
    {
     "data": {
      "text/html": [
       "<div>\n",
       "<style scoped>\n",
       "    .dataframe tbody tr th:only-of-type {\n",
       "        vertical-align: middle;\n",
       "    }\n",
       "\n",
       "    .dataframe tbody tr th {\n",
       "        vertical-align: top;\n",
       "    }\n",
       "\n",
       "    .dataframe thead th {\n",
       "        text-align: right;\n",
       "    }\n",
       "</style>\n",
       "<table border=\"1\" class=\"dataframe\">\n",
       "  <thead>\n",
       "    <tr style=\"text-align: right;\">\n",
       "      <th></th>\n",
       "      <th>query_id</th>\n",
       "      <th>item_id</th>\n",
       "      <th>rating</th>\n",
       "    </tr>\n",
       "  </thead>\n",
       "  <tbody>\n",
       "    <tr>\n",
       "      <th>0</th>\n",
       "      <td>Anton</td>\n",
       "      <td>Nothing else matters</td>\n",
       "      <td>1</td>\n",
       "    </tr>\n",
       "    <tr>\n",
       "      <th>1</th>\n",
       "      <td>Anton</td>\n",
       "      <td>All along the watchtower</td>\n",
       "      <td>1</td>\n",
       "    </tr>\n",
       "  </tbody>\n",
       "</table>\n",
       "</div>"
      ],
      "text/plain": [
       "  query_id                   item_id  rating\n",
       "0    Anton      Nothing else matters       1\n",
       "1    Anton  All along the watchtower       1"
      ]
     },
     "execution_count": 12,
     "metadata": {},
     "output_type": "execute_result"
    }
   ],
   "source": [
    "Anton_pred"
   ]
  },
  {
   "attachments": {},
   "cell_type": "markdown",
   "id": "0fc48279",
   "metadata": {},
   "source": [
    "$HitRate@1(u)$  для Антона  равен 0, так как первый элемент в рекомендациях не содержится в тесте."
   ]
  },
  {
   "cell_type": "code",
   "execution_count": 13,
   "id": "7ef04f26",
   "metadata": {},
   "outputs": [
    {
     "name": "stdout",
     "output_type": "stream",
     "text": [
      "Hit Rate = 0.0\n"
     ]
    }
   ],
   "source": [
    "print('Hit Rate = {}'.format(hit_rate(Anton_test, Anton_pred, topk=1)))"
   ]
  },
  {
   "attachments": {},
   "cell_type": "markdown",
   "id": "9e851eb1",
   "metadata": {},
   "source": [
    "$HitRate@2(u)$ для Антона равен 1, так как только один из двух айтемов из рекомендаций (All along...) есть в тесте."
   ]
  },
  {
   "cell_type": "code",
   "execution_count": 14,
   "id": "421d5557",
   "metadata": {},
   "outputs": [
    {
     "name": "stdout",
     "output_type": "stream",
     "text": [
      "Hit Rate = 1.0\n"
     ]
    }
   ],
   "source": [
    "print('Hit Rate = {}'.format(hit_rate(Anton_test, Anton_pred, topk=2)))"
   ]
  },
  {
   "attachments": {},
   "cell_type": "markdown",
   "id": "c7b8a053",
   "metadata": {},
   "source": [
    "Теперь посчитаем $HitRate@2$, т.е. для всех пользователей, усреднив  $HitRate@2(u)$ каждого."
   ]
  },
  {
   "cell_type": "code",
   "execution_count": 15,
   "id": "8c83ea86",
   "metadata": {},
   "outputs": [
    {
     "name": "stdout",
     "output_type": "stream",
     "text": [
      "Hit Rate = 0.6\n"
     ]
    }
   ],
   "source": [
    "print('Hit Rate = {}'.format(hit_rate(test, pred, topk=2)))"
   ]
  },
  {
   "attachments": {},
   "cell_type": "markdown",
   "id": "07a7ccfc",
   "metadata": {},
   "source": [
    " Реализация из Replay"
   ]
  },
  {
   "cell_type": "code",
   "execution_count": 16,
   "id": "e2e939ab",
   "metadata": {},
   "outputs": [
    {
     "name": "stdout",
     "output_type": "stream",
     "text": [
      "{'HitRate@2': 0.6}\n"
     ]
    }
   ],
   "source": [
    "from replay.metrics import HitRate\n",
    "print(HitRate(topk=2)(pred, test))"
   ]
  },
  {
   "attachments": {},
   "cell_type": "markdown",
   "id": "a06ce870",
   "metadata": {},
   "source": [
    "### Coverage"
   ]
  },
  {
   "attachments": {},
   "cell_type": "markdown",
   "id": "29ab6552",
   "metadata": {},
   "source": [
    "$$Coverage@K=\\frac{\\left|\\bigcup\\limits_{u\\in U} y_u\\right|}{|I|}$$"
   ]
  },
  {
   "cell_type": "code",
   "execution_count": 17,
   "id": "5f4f43f9",
   "metadata": {},
   "outputs": [],
   "source": [
    "def coverage(train:pd.DataFrame, predict:pd.DataFrame, topk:int) -> float:\n",
    "    unique_item = set(train['item_id'])\n",
    "    predict_topk = predict.groupby('query_id')['item_id'].agg(lambda x: x[:topk]).explode('item_id')\n",
    "    unique_predict = set(predict_topk)\n",
    "    return len(unique_predict & unique_item) / len(unique_item)"
   ]
  },
  {
   "cell_type": "code",
   "execution_count": 18,
   "id": "0bce3346",
   "metadata": {},
   "outputs": [
    {
     "data": {
      "text/plain": [
       "8"
      ]
     },
     "execution_count": 18,
     "metadata": {},
     "output_type": "execute_result"
    }
   ],
   "source": [
    "train['item_id'].nunique()"
   ]
  },
  {
   "cell_type": "code",
   "execution_count": 19,
   "id": "33aec02f",
   "metadata": {},
   "outputs": [
    {
     "data": {
      "text/html": [
       "<div>\n",
       "<style scoped>\n",
       "    .dataframe tbody tr th:only-of-type {\n",
       "        vertical-align: middle;\n",
       "    }\n",
       "\n",
       "    .dataframe tbody tr th {\n",
       "        vertical-align: top;\n",
       "    }\n",
       "\n",
       "    .dataframe thead th {\n",
       "        text-align: right;\n",
       "    }\n",
       "</style>\n",
       "<table border=\"1\" class=\"dataframe\">\n",
       "  <thead>\n",
       "    <tr style=\"text-align: right;\">\n",
       "      <th></th>\n",
       "      <th>query_id</th>\n",
       "      <th>item_id</th>\n",
       "      <th>rating</th>\n",
       "    </tr>\n",
       "  </thead>\n",
       "  <tbody>\n",
       "    <tr>\n",
       "      <th>0</th>\n",
       "      <td>Anton</td>\n",
       "      <td>Nothing else matters</td>\n",
       "      <td>1</td>\n",
       "    </tr>\n",
       "    <tr>\n",
       "      <th>1</th>\n",
       "      <td>Anton</td>\n",
       "      <td>All along the watchtower</td>\n",
       "      <td>1</td>\n",
       "    </tr>\n",
       "  </tbody>\n",
       "</table>\n",
       "</div>"
      ],
      "text/plain": [
       "  query_id                   item_id  rating\n",
       "0    Anton      Nothing else matters       1\n",
       "1    Anton  All along the watchtower       1"
      ]
     },
     "execution_count": 19,
     "metadata": {},
     "output_type": "execute_result"
    }
   ],
   "source": [
    "Anton_pred"
   ]
  },
  {
   "attachments": {},
   "cell_type": "markdown",
   "id": "5767a420",
   "metadata": {},
   "source": [
    "$Coverage@2(u)$ = 2 / 8, так как пересечение айтемов из трейна с айтемами из рекомендацияй равно 1, а всего уникальных айтемов 8."
   ]
  },
  {
   "cell_type": "code",
   "execution_count": 20,
   "id": "4446d538",
   "metadata": {},
   "outputs": [
    {
     "name": "stdout",
     "output_type": "stream",
     "text": [
      "Coverage = 0.25\n"
     ]
    }
   ],
   "source": [
    "print('Coverage = {}'.format(coverage(train, Anton_pred, topk=2))) "
   ]
  },
  {
   "attachments": {},
   "cell_type": "markdown",
   "id": "20b37ee0",
   "metadata": {},
   "source": [
    "Посчитаем $Coverage@2$, усреднив $Coverage@2(u)$ для каждого пользователя"
   ]
  },
  {
   "cell_type": "code",
   "execution_count": 25,
   "id": "2f332b9f",
   "metadata": {},
   "outputs": [
    {
     "name": "stdout",
     "output_type": "stream",
     "text": [
      "Coverage = 0.25\n"
     ]
    }
   ],
   "source": [
    "print('Coverage = {}'.format(coverage(train, pred, topk=2))) "
   ]
  },
  {
   "attachments": {},
   "cell_type": "markdown",
   "id": "4f7156e0",
   "metadata": {},
   "source": [
    "Реализация из Replay"
   ]
  },
  {
   "cell_type": "code",
   "execution_count": 26,
   "id": "3f7009ef",
   "metadata": {
    "scrolled": true
   },
   "outputs": [
    {
     "name": "stdout",
     "output_type": "stream",
     "text": [
      "{'Coverage@2': 0.25}\n"
     ]
    }
   ],
   "source": [
    "from replay.metrics import Coverage\n",
    "print(Coverage(topk=2)(pred, train))"
   ]
  },
  {
   "attachments": {},
   "cell_type": "markdown",
   "id": "f0b673e0",
   "metadata": {},
   "source": [
    "### Precision"
   ]
  },
  {
   "attachments": {},
   "cell_type": "markdown",
   "id": "6b76e016",
   "metadata": {},
   "source": [
    "$Precision@k(u) = \\frac{|rel(u) \\cap rec_k(u)|}{k}$\n",
    "\n",
    "\n",
    "$Precision@k =\\frac 1N  \\sum _{u=1}^N Precision@k(u)$\n"
   ]
  },
  {
   "cell_type": "code",
   "execution_count": 27,
   "id": "6462aac6",
   "metadata": {},
   "outputs": [],
   "source": [
    "def precision(test:pd.DataFrame, predict:pd.DataFrame, topk:int) -> float:\n",
    "    res = []\n",
    "    user_pred = set(predict['query_id'].unique())\n",
    "    user_test = set(test['query_id'].unique())\n",
    "    user_union = set.intersection(user_pred, user_test)\n",
    "    for user in user_union:\n",
    "        test_seq = test[test['query_id'] == user]['item_id'].values\n",
    "        pred_seq = predict[predict['query_id'] == user]['item_id'].values\n",
    "        if pred_seq in test_seq:\n",
    "            ans = len(set(pred_seq[:topk]).intersection(set(test_seq[:topk])))\n",
    "            res.append(ans / topk)\n",
    "        else:\n",
    "            res.append(0)\n",
    "            \n",
    "    no_test_users = user_test - user_union\n",
    "    res.extend([0] * len(no_test_users))\n",
    "\n",
    "    return np.mean(res)"
   ]
  },
  {
   "cell_type": "code",
   "execution_count": 28,
   "id": "f48f1380",
   "metadata": {},
   "outputs": [
    {
     "data": {
      "text/html": [
       "<div>\n",
       "<style scoped>\n",
       "    .dataframe tbody tr th:only-of-type {\n",
       "        vertical-align: middle;\n",
       "    }\n",
       "\n",
       "    .dataframe tbody tr th {\n",
       "        vertical-align: top;\n",
       "    }\n",
       "\n",
       "    .dataframe thead th {\n",
       "        text-align: right;\n",
       "    }\n",
       "</style>\n",
       "<table border=\"1\" class=\"dataframe\">\n",
       "  <thead>\n",
       "    <tr style=\"text-align: right;\">\n",
       "      <th></th>\n",
       "      <th>query_id</th>\n",
       "      <th>item_id</th>\n",
       "      <th>ratings</th>\n",
       "    </tr>\n",
       "  </thead>\n",
       "  <tbody>\n",
       "    <tr>\n",
       "      <th>0</th>\n",
       "      <td>Anton</td>\n",
       "      <td>All along the watchtower</td>\n",
       "      <td>1</td>\n",
       "    </tr>\n",
       "  </tbody>\n",
       "</table>\n",
       "</div>"
      ],
      "text/plain": [
       "  query_id                   item_id  ratings\n",
       "0    Anton  All along the watchtower        1"
      ]
     },
     "execution_count": 28,
     "metadata": {},
     "output_type": "execute_result"
    }
   ],
   "source": [
    "Anton_test"
   ]
  },
  {
   "cell_type": "code",
   "execution_count": 29,
   "id": "7fba1200",
   "metadata": {},
   "outputs": [
    {
     "data": {
      "text/html": [
       "<div>\n",
       "<style scoped>\n",
       "    .dataframe tbody tr th:only-of-type {\n",
       "        vertical-align: middle;\n",
       "    }\n",
       "\n",
       "    .dataframe tbody tr th {\n",
       "        vertical-align: top;\n",
       "    }\n",
       "\n",
       "    .dataframe thead th {\n",
       "        text-align: right;\n",
       "    }\n",
       "</style>\n",
       "<table border=\"1\" class=\"dataframe\">\n",
       "  <thead>\n",
       "    <tr style=\"text-align: right;\">\n",
       "      <th></th>\n",
       "      <th>query_id</th>\n",
       "      <th>item_id</th>\n",
       "      <th>rating</th>\n",
       "    </tr>\n",
       "  </thead>\n",
       "  <tbody>\n",
       "    <tr>\n",
       "      <th>0</th>\n",
       "      <td>Anton</td>\n",
       "      <td>Nothing else matters</td>\n",
       "      <td>1</td>\n",
       "    </tr>\n",
       "    <tr>\n",
       "      <th>1</th>\n",
       "      <td>Anton</td>\n",
       "      <td>All along the watchtower</td>\n",
       "      <td>1</td>\n",
       "    </tr>\n",
       "  </tbody>\n",
       "</table>\n",
       "</div>"
      ],
      "text/plain": [
       "  query_id                   item_id  rating\n",
       "0    Anton      Nothing else matters       1\n",
       "1    Anton  All along the watchtower       1"
      ]
     },
     "execution_count": 29,
     "metadata": {},
     "output_type": "execute_result"
    }
   ],
   "source": [
    "Anton_pred"
   ]
  },
  {
   "attachments": {},
   "cell_type": "markdown",
   "id": "7740fb2d",
   "metadata": {},
   "source": [
    "$Precision@1(u)$ для Антона равен 0, так как в рекомендациях нет айтема из теста."
   ]
  },
  {
   "cell_type": "code",
   "execution_count": 30,
   "id": "e5a5fba5",
   "metadata": {},
   "outputs": [
    {
     "name": "stdout",
     "output_type": "stream",
     "text": [
      "Precision = 0.0\n"
     ]
    }
   ],
   "source": [
    "print('Precision = {}'.format(precision(Anton_test, Anton_pred, topk=1)))"
   ]
  },
  {
   "attachments": {},
   "cell_type": "markdown",
   "id": "9d153ce3",
   "metadata": {},
   "source": [
    "$Precision@2(u)$ для Антона равен 0.5, так как ($test(u) \\cap pred(u)$)=1, $topk$=2 \n",
    "=> "
   ]
  },
  {
   "attachments": {},
   "cell_type": "markdown",
   "id": "862c9f2a",
   "metadata": {},
   "source": [
    "$(test(u) \\cap pred(u) / topk$ = 0.5"
   ]
  },
  {
   "attachments": {},
   "cell_type": "markdown",
   "id": "51d8d26a",
   "metadata": {},
   "source": [
    "Посчитаем $Precision@2$, усреднив $Precision@2(u)$ для каждого пользователя"
   ]
  },
  {
   "cell_type": "code",
   "execution_count": 31,
   "id": "37b669b5",
   "metadata": {},
   "outputs": [
    {
     "name": "stdout",
     "output_type": "stream",
     "text": [
      "Precision = 0.3\n"
     ]
    }
   ],
   "source": [
    "print('Precision = {}'.format(precision(test, pred, topk=2)))"
   ]
  },
  {
   "attachments": {},
   "cell_type": "markdown",
   "id": "ab068705",
   "metadata": {},
   "source": [
    " Реализация из Replay"
   ]
  },
  {
   "cell_type": "code",
   "execution_count": 32,
   "id": "83b99f20",
   "metadata": {},
   "outputs": [
    {
     "name": "stdout",
     "output_type": "stream",
     "text": [
      "{'Precision@2': 0.3}\n"
     ]
    }
   ],
   "source": [
    "from replay.metrics import Precision\n",
    "print(Precision(topk=2)(pred, test))"
   ]
  },
  {
   "attachments": {},
   "cell_type": "markdown",
   "id": "726e2ad9",
   "metadata": {},
   "source": [
    "### Recall"
   ]
  },
  {
   "attachments": {},
   "cell_type": "markdown",
   "id": "c4f3137c",
   "metadata": {},
   "source": [
    "$Recall@k(u) = \\frac{|rel(u) \\cap rec_k(u)|}{|rel(u)|}$\n",
    "\n",
    "\n",
    "$Recall@k =\\frac 1N  \\sum_{u=1}^N Recall@k(u)$\n"
   ]
  },
  {
   "cell_type": "code",
   "execution_count": 34,
   "id": "f46e0025",
   "metadata": {},
   "outputs": [],
   "source": [
    "def recall(test: pd.DataFrame, predict : pd.DataFrame, topk:int) -> float:\n",
    "    res = []\n",
    "    user_pred = set(predict['query_id'].unique())\n",
    "    user_test = set(test['query_id'].unique())\n",
    "    user_union = set.intersection(user_pred, user_test)\n",
    "    for user in user_union:\n",
    "        test_seq = test[test['query_id'] == user]['item_id'].values\n",
    "        pred_seq = predict[predict['query_id'] == user]['item_id'].values\n",
    "        if pred_seq in test_seq:\n",
    "            ans = len(set(pred_seq[:topk]).intersection(set(test_seq[:topk])))\n",
    "            res.append(ans / len(set(test_seq)))\n",
    "        else:\n",
    "            res.append(0)\n",
    "            \n",
    "    no_test_users = user_test - user_union\n",
    "    res.extend([0] * len(no_test_users))\n",
    "\n",
    "    return np.mean(res)"
   ]
  },
  {
   "attachments": {},
   "cell_type": "markdown",
   "id": "9476c7a6",
   "metadata": {},
   "source": [
    "$Recall@1(u)$ для Антона равен 0, так как в рекомендациях нет айтема из теста."
   ]
  },
  {
   "cell_type": "code",
   "execution_count": 35,
   "id": "3e49fe2b",
   "metadata": {},
   "outputs": [
    {
     "name": "stdout",
     "output_type": "stream",
     "text": [
      "Recall = 0.0\n"
     ]
    }
   ],
   "source": [
    "print('Recall = {}'.format(recall(Anton_test, Anton_pred, topk=1)))"
   ]
  },
  {
   "attachments": {},
   "cell_type": "markdown",
   "id": "37dda20c",
   "metadata": {},
   "source": [
    "$Recall@2(u)$ для Антона равен 1, так как ($test(u) \\cap pred(u)$)=1, $test(u)$=1 =>"
   ]
  },
  {
   "attachments": {},
   "cell_type": "markdown",
   "id": "4ba40f6a",
   "metadata": {},
   "source": [
    "$(test(u) \\cap pred(u) / test(u)$ = 1"
   ]
  },
  {
   "cell_type": "code",
   "execution_count": 36,
   "id": "cdf52951",
   "metadata": {},
   "outputs": [
    {
     "name": "stdout",
     "output_type": "stream",
     "text": [
      "Recall = 1.0\n"
     ]
    }
   ],
   "source": [
    "print('Recall = {}'.format(recall(Anton_test, Anton_pred, topk=2)))"
   ]
  },
  {
   "attachments": {},
   "cell_type": "markdown",
   "id": "52fe6bad",
   "metadata": {},
   "source": [
    "Посчитаем $Recall@2$, усреднив $Recall@2(u)$ для каждого пользователя"
   ]
  },
  {
   "cell_type": "code",
   "execution_count": 37,
   "id": "74d0c811",
   "metadata": {},
   "outputs": [
    {
     "name": "stdout",
     "output_type": "stream",
     "text": [
      "Recall = 0.6\n"
     ]
    }
   ],
   "source": [
    "print('Recall = {}'.format(recall(test, pred, topk=2)))"
   ]
  },
  {
   "attachments": {},
   "cell_type": "markdown",
   "id": "f417d51f",
   "metadata": {},
   "source": [
    " Реализация из Replay"
   ]
  },
  {
   "cell_type": "code",
   "execution_count": 38,
   "id": "5c794f83",
   "metadata": {},
   "outputs": [
    {
     "name": "stdout",
     "output_type": "stream",
     "text": [
      "{'Recall@2': 0.6}\n"
     ]
    }
   ],
   "source": [
    "from replay.metrics import Recall\n",
    "print(Recall(topk=2)(pred, test))"
   ]
  },
  {
   "attachments": {},
   "cell_type": "markdown",
   "id": "e0cfdd69",
   "metadata": {},
   "source": [
    "### Классы OfflineMetrics и experiments"
   ]
  },
  {
   "attachments": {},
   "cell_type": "markdown",
   "id": "4b809760",
   "metadata": {},
   "source": [
    "Для подсчета множества метрик удобнее всего использовать OfflineMetrics. Он позволяется считать различные их модификации."
   ]
  },
  {
   "cell_type": "code",
   "execution_count": 39,
   "id": "8b242cd6",
   "metadata": {},
   "outputs": [
    {
     "data": {
      "text/plain": [
       "{'Precision@2': 0.3,\n",
       " 'Precision-PerUser@2': {'Anna': 0.5,\n",
       "  'Anton': 0.5,\n",
       "  'Dasha': 0.5,\n",
       "  'Lesha': 0.0,\n",
       "  'Sasha': 0.0},\n",
       " 'Precision-Median@2': 0.5,\n",
       " 'Precision-ConfidenceInterval@2': 0.2400455838177655,\n",
       " 'Recall@2': 0.6,\n",
       " 'MAP@2': 0.5,\n",
       " 'MRR@2': 0.5,\n",
       " 'NDCG@2': 0.5261859507142915,\n",
       " 'HitRate@2': 0.6,\n",
       " 'RocAuc@2': 0.4,\n",
       " 'Coverage@2': 0.25,\n",
       " 'Novelty@2': 0.3,\n",
       " 'Surprisal@2': 0.22802034468361435}"
      ]
     },
     "execution_count": 39,
     "metadata": {},
     "output_type": "execute_result"
    }
   ],
   "source": [
    "from replay.metrics import Median, ConfidenceInterval, PerUser, MAP, MRR, NDCG, RocAuc, Novelty, Surprisal, OfflineMetrics\n",
    "metrics = [\n",
    "     Precision(topk=2),\n",
    "     Precision(topk=2, mode=PerUser()),\n",
    "     Precision(topk=2, mode=Median()),\n",
    "     Precision(topk=2, mode=ConfidenceInterval(alpha=0.95)),\n",
    "     Recall(topk=2),\n",
    "     MAP(topk=2),\n",
    "     MRR(topk=2),\n",
    "     NDCG(topk=2),\n",
    "     HitRate(topk=2),\n",
    "     RocAuc(topk=2),\n",
    "     Coverage(topk=2),\n",
    "     Novelty(topk=2),\n",
    "     Surprisal(topk=2),\n",
    " ]\n",
    "\n",
    "OfflineMetrics(metrics)(pred, test, train)"
   ]
  },
  {
   "attachments": {},
   "cell_type": "markdown",
   "id": "ee1be7b0",
   "metadata": {},
   "source": [
    "Для сравнения метрик двух моделей удобно использовать модуль Experiment. Давайте сравним модель, которая реккомендует два самых популярных айтема с той, которая реккомендует всем два случайных."
   ]
  },
  {
   "cell_type": "code",
   "execution_count": 40,
   "id": "b52498b4",
   "metadata": {},
   "outputs": [],
   "source": [
    "random_rec = pd.DataFrame({'query_id': ['Anton', 'Anton', 'Lesha', 'Lesha', 'Anna', 'Anna', 'Dasha', 'Dasha', 'Sasha', 'Sasha']})\n",
    "random_rec['item_id'] = pd.Series(test['item_id'].unique()).sample(n=10, replace=True).values\n",
    "random_rec['rating'] = np.ones(10)\n"
   ]
  },
  {
   "cell_type": "code",
   "execution_count": 42,
   "id": "4a9b893a",
   "metadata": {},
   "outputs": [
    {
     "name": "stderr",
     "output_type": "stream",
     "text": [
      "/home/apembek/anaconda3/envs/py39/lib/python3.9/site-packages/replay/metrics/base_metric.py:80: MetricDuplicatesWarning: The recommendations contain duplicated users and items.The metrics may be higher than the actual ones.\n",
      "  warnings.warn(\n",
      "/home/apembek/anaconda3/envs/py39/lib/python3.9/site-packages/replay/metrics/base_metric.py:80: MetricDuplicatesWarning: The recommendations contain duplicated users and items.The metrics may be higher than the actual ones.\n",
      "  warnings.warn(\n",
      "/home/apembek/anaconda3/envs/py39/lib/python3.9/site-packages/replay/metrics/base_metric.py:80: MetricDuplicatesWarning: The recommendations contain duplicated users and items.The metrics may be higher than the actual ones.\n",
      "  warnings.warn(\n"
     ]
    }
   ],
   "source": [
    "from replay.metrics import Experiment\n",
    "ex = Experiment([NDCG([2]), Precision(2), Coverage(2)], test, train)\n",
    "ex.add_result(\"randomrec@2\", random_rec)\n",
    "ex.add_result(\"poprec@2\", pred)\n"
   ]
  },
  {
   "cell_type": "code",
   "execution_count": 43,
   "id": "b405c1fb",
   "metadata": {},
   "outputs": [
    {
     "data": {
      "text/html": [
       "<div>\n",
       "<style scoped>\n",
       "    .dataframe tbody tr th:only-of-type {\n",
       "        vertical-align: middle;\n",
       "    }\n",
       "\n",
       "    .dataframe tbody tr th {\n",
       "        vertical-align: top;\n",
       "    }\n",
       "\n",
       "    .dataframe thead th {\n",
       "        text-align: right;\n",
       "    }\n",
       "</style>\n",
       "<table border=\"1\" class=\"dataframe\">\n",
       "  <thead>\n",
       "    <tr style=\"text-align: right;\">\n",
       "      <th></th>\n",
       "      <th>NDCG@2</th>\n",
       "      <th>Precision@2</th>\n",
       "      <th>Coverage@2</th>\n",
       "    </tr>\n",
       "  </thead>\n",
       "  <tbody>\n",
       "    <tr>\n",
       "      <th>randomrec@2</th>\n",
       "      <td>0.526186</td>\n",
       "      <td>0.2</td>\n",
       "      <td>0.50</td>\n",
       "    </tr>\n",
       "    <tr>\n",
       "      <th>poprec@2</th>\n",
       "      <td>0.526186</td>\n",
       "      <td>0.3</td>\n",
       "      <td>0.25</td>\n",
       "    </tr>\n",
       "  </tbody>\n",
       "</table>\n",
       "</div>"
      ],
      "text/plain": [
       "               NDCG@2  Precision@2  Coverage@2\n",
       "randomrec@2  0.526186          0.2        0.50\n",
       "poprec@2     0.526186          0.3        0.25"
      ]
     },
     "execution_count": 43,
     "metadata": {},
     "output_type": "execute_result"
    }
   ],
   "source": [
    "ex.results"
   ]
  },
  {
   "cell_type": "markdown",
   "id": "61bb6e21",
   "metadata": {},
   "source": [
    "### Проверяем метрики на прочность =)"
   ]
  },
  {
   "attachments": {},
   "cell_type": "markdown",
   "id": "540b578a",
   "metadata": {},
   "source": [
    "Для проверки возьмем датасет Movielens-1m"
   ]
  },
  {
   "cell_type": "code",
   "execution_count": 1,
   "id": "5e63c8f4",
   "metadata": {},
   "outputs": [
    {
     "data": {
      "text/html": [
       "<style type='text/css'>\n",
       ".datatable table.frame { margin-bottom: 0; }\n",
       ".datatable table.frame thead { border-bottom: none; }\n",
       ".datatable table.frame tr.coltypes td {  color: #FFFFFF;  line-height: 6px;  padding: 0 0.5em;}\n",
       ".datatable .bool    { background: #DDDD99; }\n",
       ".datatable .object  { background: #565656; }\n",
       ".datatable .int     { background: #5D9E5D; }\n",
       ".datatable .float   { background: #4040CC; }\n",
       ".datatable .str     { background: #CC4040; }\n",
       ".datatable .time    { background: #40CC40; }\n",
       ".datatable .row_index {  background: var(--jp-border-color3);  border-right: 1px solid var(--jp-border-color0);  color: var(--jp-ui-font-color3);  font-size: 9px;}\n",
       ".datatable .frame tbody td { text-align: left; }\n",
       ".datatable .frame tr.coltypes .row_index {  background: var(--jp-border-color0);}\n",
       ".datatable th:nth-child(2) { padding-left: 12px; }\n",
       ".datatable .hellipsis {  color: var(--jp-cell-editor-border-color);}\n",
       ".datatable .vellipsis {  background: var(--jp-layout-color0);  color: var(--jp-cell-editor-border-color);}\n",
       ".datatable .na {  color: var(--jp-cell-editor-border-color);  font-size: 80%;}\n",
       ".datatable .sp {  opacity: 0.25;}\n",
       ".datatable .footer { font-size: 9px; }\n",
       ".datatable .frame_dimensions {  background: var(--jp-border-color3);  border-top: 1px solid var(--jp-border-color0);  color: var(--jp-ui-font-color3);  display: inline-block;  opacity: 0.6;  padding: 1px 10px 1px 5px;}\n",
       "</style>\n"
      ],
      "text/plain": [
       "<IPython.core.display.HTML object>"
      ]
     },
     "metadata": {},
     "output_type": "display_data"
    },
    {
     "data": {
      "text/html": [
       "<div>\n",
       "<style scoped>\n",
       "    .dataframe tbody tr th:only-of-type {\n",
       "        vertical-align: middle;\n",
       "    }\n",
       "\n",
       "    .dataframe tbody tr th {\n",
       "        vertical-align: top;\n",
       "    }\n",
       "\n",
       "    .dataframe thead th {\n",
       "        text-align: right;\n",
       "    }\n",
       "</style>\n",
       "<table border=\"1\" class=\"dataframe\">\n",
       "  <thead>\n",
       "    <tr style=\"text-align: right;\">\n",
       "      <th></th>\n",
       "      <th>user_id</th>\n",
       "      <th>item_id</th>\n",
       "      <th>rating</th>\n",
       "      <th>timestamp</th>\n",
       "    </tr>\n",
       "  </thead>\n",
       "  <tbody>\n",
       "    <tr>\n",
       "      <th>0</th>\n",
       "      <td>1</td>\n",
       "      <td>1193</td>\n",
       "      <td>5</td>\n",
       "      <td>978300760</td>\n",
       "    </tr>\n",
       "    <tr>\n",
       "      <th>1</th>\n",
       "      <td>1</td>\n",
       "      <td>661</td>\n",
       "      <td>3</td>\n",
       "      <td>978302109</td>\n",
       "    </tr>\n",
       "    <tr>\n",
       "      <th>2</th>\n",
       "      <td>1</td>\n",
       "      <td>914</td>\n",
       "      <td>3</td>\n",
       "      <td>978301968</td>\n",
       "    </tr>\n",
       "    <tr>\n",
       "      <th>3</th>\n",
       "      <td>1</td>\n",
       "      <td>3408</td>\n",
       "      <td>4</td>\n",
       "      <td>978300275</td>\n",
       "    </tr>\n",
       "    <tr>\n",
       "      <th>4</th>\n",
       "      <td>1</td>\n",
       "      <td>2355</td>\n",
       "      <td>5</td>\n",
       "      <td>978824291</td>\n",
       "    </tr>\n",
       "  </tbody>\n",
       "</table>\n",
       "</div>"
      ],
      "text/plain": [
       "   user_id  item_id  rating  timestamp\n",
       "0        1     1193       5  978300760\n",
       "1        1      661       3  978302109\n",
       "2        1      914       3  978301968\n",
       "3        1     3408       4  978300275\n",
       "4        1     2355       5  978824291"
      ]
     },
     "execution_count": 1,
     "metadata": {},
     "output_type": "execute_result"
    }
   ],
   "source": [
    "from rs_datasets import MovieLens\n",
    "ml = MovieLens('1m')\n",
    "data = ml.ratings\n",
    "data.head()"
   ]
  },
  {
   "cell_type": "markdown",
   "id": "1bb421c4",
   "metadata": {},
   "source": [
    "#### Рекомендуем не для всех пользователей"
   ]
  },
  {
   "cell_type": "code",
   "execution_count": 45,
   "id": "95e5e638",
   "metadata": {
    "scrolled": true
   },
   "outputs": [
    {
     "data": {
      "text/html": [
       "<div>\n",
       "<style scoped>\n",
       "    .dataframe tbody tr th:only-of-type {\n",
       "        vertical-align: middle;\n",
       "    }\n",
       "\n",
       "    .dataframe tbody tr th {\n",
       "        vertical-align: top;\n",
       "    }\n",
       "\n",
       "    .dataframe thead th {\n",
       "        text-align: right;\n",
       "    }\n",
       "</style>\n",
       "<table border=\"1\" class=\"dataframe\">\n",
       "  <thead>\n",
       "    <tr style=\"text-align: right;\">\n",
       "      <th></th>\n",
       "      <th>query_id</th>\n",
       "      <th>item_id</th>\n",
       "      <th>rating</th>\n",
       "    </tr>\n",
       "  </thead>\n",
       "  <tbody>\n",
       "    <tr>\n",
       "      <th>0</th>\n",
       "      <td>Anton</td>\n",
       "      <td>Nothing else metter</td>\n",
       "      <td>1</td>\n",
       "    </tr>\n",
       "    <tr>\n",
       "      <th>1</th>\n",
       "      <td>Lesha</td>\n",
       "      <td>Nothing else metter</td>\n",
       "      <td>1</td>\n",
       "    </tr>\n",
       "    <tr>\n",
       "      <th>2</th>\n",
       "      <td>Anna</td>\n",
       "      <td>Nothing else metter</td>\n",
       "      <td>1</td>\n",
       "    </tr>\n",
       "    <tr>\n",
       "      <th>3</th>\n",
       "      <td>Sasha</td>\n",
       "      <td>Nothing else metter</td>\n",
       "      <td>1</td>\n",
       "    </tr>\n",
       "  </tbody>\n",
       "</table>\n",
       "</div>"
      ],
      "text/plain": [
       "  query_id              item_id  rating\n",
       "0    Anton  Nothing else metter       1\n",
       "1    Lesha  Nothing else metter       1\n",
       "2     Anna  Nothing else metter       1\n",
       "3    Sasha  Nothing else metter       1"
      ]
     },
     "execution_count": 45,
     "metadata": {},
     "output_type": "execute_result"
    }
   ],
   "source": [
    "pred = {'query_id': ['Anton', 'Lesha', 'Anna', 'Sasha'],\n",
    " 'item_id': ['Nothing else metter', 'Nothing else metter', 'Nothing else metter', 'Nothing else metter'],\n",
    "  'rating' : [1, 1, 1, 1]}\n",
    "pred = pd.DataFrame(pred)\n",
    "pred"
   ]
  },
  {
   "cell_type": "code",
   "execution_count": 46,
   "id": "ace94436",
   "metadata": {},
   "outputs": [],
   "source": [
    "assert coverage(train, pred, 1) == Coverage(1)(pred, train)['Coverage@1']\n",
    "assert hit_rate(test, pred, 1) == HitRate(1)(pred, test)['HitRate@1']\n",
    "assert precision(test, pred, 1) == Precision(1)(pred, test)['Precision@1']\n",
    "assert recall(test, pred, 1) == Recall(1)(pred, test)['Recall@1']"
   ]
  },
  {
   "cell_type": "markdown",
   "id": "fba58cec",
   "metadata": {},
   "source": [
    "#### Делаем рекомендацию для того, кого нет в test"
   ]
  },
  {
   "cell_type": "code",
   "execution_count": 21,
   "id": "f0c709d2",
   "metadata": {
    "scrolled": true
   },
   "outputs": [
    {
     "data": {
      "text/html": [
       "<div>\n",
       "<style scoped>\n",
       "    .dataframe tbody tr th:only-of-type {\n",
       "        vertical-align: middle;\n",
       "    }\n",
       "\n",
       "    .dataframe tbody tr th {\n",
       "        vertical-align: top;\n",
       "    }\n",
       "\n",
       "    .dataframe thead th {\n",
       "        text-align: right;\n",
       "    }\n",
       "</style>\n",
       "<table border=\"1\" class=\"dataframe\">\n",
       "  <thead>\n",
       "    <tr style=\"text-align: right;\">\n",
       "      <th></th>\n",
       "      <th>query_id</th>\n",
       "      <th>item_id</th>\n",
       "      <th>rating</th>\n",
       "    </tr>\n",
       "  </thead>\n",
       "  <tbody>\n",
       "    <tr>\n",
       "      <th>0</th>\n",
       "      <td>Anton</td>\n",
       "      <td>Nothing else metter</td>\n",
       "      <td>1</td>\n",
       "    </tr>\n",
       "    <tr>\n",
       "      <th>1</th>\n",
       "      <td>Ksusha</td>\n",
       "      <td>Nothing else metter</td>\n",
       "      <td>1</td>\n",
       "    </tr>\n",
       "    <tr>\n",
       "      <th>2</th>\n",
       "      <td>Lesha</td>\n",
       "      <td>Nothing else metter</td>\n",
       "      <td>1</td>\n",
       "    </tr>\n",
       "    <tr>\n",
       "      <th>3</th>\n",
       "      <td>Anna</td>\n",
       "      <td>Nothing else metter</td>\n",
       "      <td>1</td>\n",
       "    </tr>\n",
       "    <tr>\n",
       "      <th>4</th>\n",
       "      <td>Sasha</td>\n",
       "      <td>Nothing else metter</td>\n",
       "      <td>1</td>\n",
       "    </tr>\n",
       "  </tbody>\n",
       "</table>\n",
       "</div>"
      ],
      "text/plain": [
       "  query_id              item_id  rating\n",
       "0    Anton  Nothing else metter       1\n",
       "1   Ksusha  Nothing else metter       1\n",
       "2    Lesha  Nothing else metter       1\n",
       "3     Anna  Nothing else metter       1\n",
       "4    Sasha  Nothing else metter       1"
      ]
     },
     "execution_count": 21,
     "metadata": {},
     "output_type": "execute_result"
    }
   ],
   "source": [
    "pred = {'query_id': ['Anton','Ksusha', 'Lesha', 'Anna', 'Sasha'],\n",
    " 'item_id': ['Nothing else metter', 'Nothing else metter', 'Nothing else metter', 'Nothing else metter', 'Nothing else metter'],\n",
    "  'rating' : [1, 1, 1, 1, 1]}\n",
    "pred = pd.DataFrame(pred)\n",
    "pred"
   ]
  },
  {
   "cell_type": "code",
   "execution_count": 22,
   "id": "d35ec57c",
   "metadata": {},
   "outputs": [
    {
     "data": {
      "text/html": [
       "<div>\n",
       "<style scoped>\n",
       "    .dataframe tbody tr th:only-of-type {\n",
       "        vertical-align: middle;\n",
       "    }\n",
       "\n",
       "    .dataframe tbody tr th {\n",
       "        vertical-align: top;\n",
       "    }\n",
       "\n",
       "    .dataframe thead th {\n",
       "        text-align: right;\n",
       "    }\n",
       "</style>\n",
       "<table border=\"1\" class=\"dataframe\">\n",
       "  <thead>\n",
       "    <tr style=\"text-align: right;\">\n",
       "      <th></th>\n",
       "      <th>query_id</th>\n",
       "      <th>item_id</th>\n",
       "      <th>ratings</th>\n",
       "    </tr>\n",
       "  </thead>\n",
       "  <tbody>\n",
       "    <tr>\n",
       "      <th>0</th>\n",
       "      <td>Anton</td>\n",
       "      <td>All along the watchtower</td>\n",
       "      <td>1</td>\n",
       "    </tr>\n",
       "    <tr>\n",
       "      <th>1</th>\n",
       "      <td>Lesha</td>\n",
       "      <td>Tam gde klen shumit</td>\n",
       "      <td>1</td>\n",
       "    </tr>\n",
       "    <tr>\n",
       "      <th>2</th>\n",
       "      <td>Anna</td>\n",
       "      <td>Nothing else matters</td>\n",
       "      <td>1</td>\n",
       "    </tr>\n",
       "    <tr>\n",
       "      <th>3</th>\n",
       "      <td>Dasha</td>\n",
       "      <td>Nothing else matters</td>\n",
       "      <td>1</td>\n",
       "    </tr>\n",
       "    <tr>\n",
       "      <th>4</th>\n",
       "      <td>Sasha</td>\n",
       "      <td>Ty nesi menya reka</td>\n",
       "      <td>1</td>\n",
       "    </tr>\n",
       "  </tbody>\n",
       "</table>\n",
       "</div>"
      ],
      "text/plain": [
       "  query_id                   item_id  ratings\n",
       "0    Anton  All along the watchtower        1\n",
       "1    Lesha       Tam gde klen shumit        1\n",
       "2     Anna      Nothing else matters        1\n",
       "3    Dasha      Nothing else matters        1\n",
       "4    Sasha        Ty nesi menya reka        1"
      ]
     },
     "execution_count": 22,
     "metadata": {},
     "output_type": "execute_result"
    }
   ],
   "source": [
    "test"
   ]
  },
  {
   "cell_type": "code",
   "execution_count": 23,
   "id": "c96b9373",
   "metadata": {},
   "outputs": [],
   "source": [
    "assert coverage(train, pred, 1) == Coverage(1)(pred, train)['Coverage@1']\n",
    "assert hit_rate(test, pred, 1) == HitRate(1)(pred, test)['HitRate@1']\n",
    "assert precision(test, pred, 1) == Precision(1)(pred, test)['Precision@1']\n",
    "assert recall(test, pred, 1) == Recall(1)(pred, test)['Recall@1']"
   ]
  }
 ],
 "metadata": {
  "kernelspec": {
   "display_name": "py39",
   "language": "python",
   "name": "python3"
  },
  "language_info": {
   "codemirror_mode": {
    "name": "ipython",
    "version": 3
   },
   "file_extension": ".py",
   "mimetype": "text/x-python",
   "name": "python",
   "nbconvert_exporter": "python",
   "pygments_lexer": "ipython3",
   "version": "3.9.19"
  }
 },
 "nbformat": 4,
 "nbformat_minor": 5
}
