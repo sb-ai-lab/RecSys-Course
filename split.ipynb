{
 "cells": [
  {
   "cell_type": "code",
   "execution_count": 58,
   "metadata": {
    "id": "hmWyNQvFon_S"
   },
   "outputs": [],
   "source": [
    "!pip install replay-rec --quiet\n",
    "!pip install rs_datasets"
   ]
  },
  {
   "cell_type": "code",
   "execution_count": 1,
   "metadata": {},
   "outputs": [],
   "source": [
    "import os\n",
    "import sys\n",
    "\n",
    "os.environ['PYTHONPATH'] = \"\"\n",
    "sys.path.remove('/home/jovyan/.imgenv-vasilyev-0/lib/python3.7/site-packages')"
   ]
  },
  {
   "cell_type": "code",
   "execution_count": 2,
   "metadata": {
    "id": "tMdbfw9Lon_U"
   },
   "outputs": [],
   "source": [
    "import pandas as pd\n",
    "import numpy as np\n",
    "import seaborn as sns\n",
    "\n",
    "import matplotlib.pyplot as plt\n",
    "# from rs_datasets import MovieLens\n",
    "from datetime import datetime\n",
    "import warnings\n",
    "import matplotlib.pyplot as plt\n",
    "\n",
    "warnings.filterwarnings('ignore')"
   ]
  },
  {
   "cell_type": "code",
   "execution_count": 3,
   "metadata": {
    "colab": {
     "base_uri": "https://localhost:8080/",
     "height": 433
    },
    "id": "4Q_-aHqzon_V",
    "outputId": "47975219-16d6-4322-a338-00a540d10df0"
   },
   "outputs": [
    {
     "data": {
      "text/html": [
       "<div>\n",
       "<style scoped>\n",
       "    .dataframe tbody tr th:only-of-type {\n",
       "        vertical-align: middle;\n",
       "    }\n",
       "\n",
       "    .dataframe tbody tr th {\n",
       "        vertical-align: top;\n",
       "    }\n",
       "\n",
       "    .dataframe thead th {\n",
       "        text-align: right;\n",
       "    }\n",
       "</style>\n",
       "<table border=\"1\" class=\"dataframe\">\n",
       "  <thead>\n",
       "    <tr style=\"text-align: right;\">\n",
       "      <th></th>\n",
       "      <th>user_id</th>\n",
       "      <th>item_id</th>\n",
       "      <th>rating</th>\n",
       "      <th>timestamp</th>\n",
       "    </tr>\n",
       "  </thead>\n",
       "  <tbody>\n",
       "    <tr>\n",
       "      <th>0</th>\n",
       "      <td>0</td>\n",
       "      <td>2757</td>\n",
       "      <td>4</td>\n",
       "      <td>2001-01-01 01:00:19</td>\n",
       "    </tr>\n",
       "    <tr>\n",
       "      <th>1</th>\n",
       "      <td>0</td>\n",
       "      <td>1068</td>\n",
       "      <td>5</td>\n",
       "      <td>2001-01-01 01:00:55</td>\n",
       "    </tr>\n",
       "    <tr>\n",
       "      <th>2</th>\n",
       "      <td>0</td>\n",
       "      <td>1444</td>\n",
       "      <td>4</td>\n",
       "      <td>2001-01-01 01:00:55</td>\n",
       "    </tr>\n",
       "    <tr>\n",
       "      <th>3</th>\n",
       "      <td>0</td>\n",
       "      <td>861</td>\n",
       "      <td>5</td>\n",
       "      <td>2001-01-01 01:00:55</td>\n",
       "    </tr>\n",
       "    <tr>\n",
       "      <th>4</th>\n",
       "      <td>0</td>\n",
       "      <td>1978</td>\n",
       "      <td>3</td>\n",
       "      <td>2001-01-01 01:01:43</td>\n",
       "    </tr>\n",
       "    <tr>\n",
       "      <th>...</th>\n",
       "      <td>...</td>\n",
       "      <td>...</td>\n",
       "      <td>...</td>\n",
       "      <td>...</td>\n",
       "    </tr>\n",
       "    <tr>\n",
       "      <th>999606</th>\n",
       "      <td>6039</td>\n",
       "      <td>2512</td>\n",
       "      <td>4</td>\n",
       "      <td>2001-08-10 18:40:29</td>\n",
       "    </tr>\n",
       "    <tr>\n",
       "      <th>999607</th>\n",
       "      <td>6039</td>\n",
       "      <td>1590</td>\n",
       "      <td>4</td>\n",
       "      <td>2001-08-10 18:41:04</td>\n",
       "    </tr>\n",
       "    <tr>\n",
       "      <th>999608</th>\n",
       "      <td>6039</td>\n",
       "      <td>1485</td>\n",
       "      <td>3</td>\n",
       "      <td>2001-08-10 18:41:04</td>\n",
       "    </tr>\n",
       "    <tr>\n",
       "      <th>999609</th>\n",
       "      <td>6039</td>\n",
       "      <td>145</td>\n",
       "      <td>3</td>\n",
       "      <td>2001-08-10 18:41:26</td>\n",
       "    </tr>\n",
       "    <tr>\n",
       "      <th>999610</th>\n",
       "      <td>6039</td>\n",
       "      <td>1021</td>\n",
       "      <td>4</td>\n",
       "      <td>2001-08-20 17:44:15</td>\n",
       "    </tr>\n",
       "  </tbody>\n",
       "</table>\n",
       "<p>999611 rows × 4 columns</p>\n",
       "</div>"
      ],
      "text/plain": [
       "        user_id  item_id  rating           timestamp\n",
       "0             0     2757       4 2001-01-01 01:00:19\n",
       "1             0     1068       5 2001-01-01 01:00:55\n",
       "2             0     1444       4 2001-01-01 01:00:55\n",
       "3             0      861       5 2001-01-01 01:00:55\n",
       "4             0     1978       3 2001-01-01 01:01:43\n",
       "...         ...      ...     ...                 ...\n",
       "999606     6039     2512       4 2001-08-10 18:40:29\n",
       "999607     6039     1590       4 2001-08-10 18:41:04\n",
       "999608     6039     1485       3 2001-08-10 18:41:04\n",
       "999609     6039      145       3 2001-08-10 18:41:26\n",
       "999610     6039     1021       4 2001-08-20 17:44:15\n",
       "\n",
       "[999611 rows x 4 columns]"
      ]
     },
     "execution_count": 3,
     "metadata": {},
     "output_type": "execute_result"
    }
   ],
   "source": [
    "ml = MovieLens('1m')\n",
    "data = ml.ratings\n",
    "data['timestamp'] = data['timestamp'].map(lambda x: datetime.fromtimestamp(x))\n",
    "data"
   ]
  },
  {
   "cell_type": "markdown",
   "metadata": {
    "id": "1ZMiE1uwon_V"
   },
   "source": [
    "### EDA"
   ]
  },
  {
   "cell_type": "code",
   "execution_count": 4,
   "metadata": {
    "id": "8J1wa9jwon_W"
   },
   "outputs": [],
   "source": [
    "count_user_interaction = data.groupby('user_id')['item_id'].count()\n",
    "count_item_interaction = data.groupby('item_id')['user_id'].count()"
   ]
  },
  {
   "cell_type": "code",
   "execution_count": 10,
   "metadata": {
    "colab": {
     "base_uri": "https://localhost:8080/",
     "height": 493
    },
    "id": "2nbTsdzron_X",
    "outputId": "e7721fbf-d455-4a14-80f5-d6328ed4467f"
   },
   "outputs": [
    {
     "data": {
      "image/png": "[encoded data removed]",
      "text/plain": [
       "<Figure size 640x480 with 1 Axes>"
      ]
     },
     "metadata": {},
     "output_type": "display_data"
    }
   ],
   "source": [
    "sns.histplot(count_user_interaction)\n",
    "plt.title('Распределение частот взаимодействий пользователей')\n",
    "plt.show()"
   ]
  },
  {
   "cell_type": "code",
   "execution_count": 11,
   "metadata": {
    "colab": {
     "base_uri": "https://localhost:8080/",
     "height": 493
    },
    "id": "AG_4PPs7on_X",
    "outputId": "535806a0-2dfe-441c-f63d-941b78888f17"
   },
   "outputs": [
    {
     "data": {
      "image/png": "[encoded data removed]",
      "text/plain": [
       "<Figure size 640x480 with 1 Axes>"
      ]
     },
     "metadata": {},
     "output_type": "display_data"
    }
   ],
   "source": [
    "sns.histplot(count_item_interaction)\n",
    "plt.title('Распределение частот взаимодействий с айтемами')\n",
    "plt.show()"
   ]
  },
  {
   "cell_type": "code",
   "execution_count": 12,
   "metadata": {
    "id": "fhA7wVm7on_Y"
   },
   "outputs": [],
   "source": [
    "stats = pd.Series()\n",
    "stats['all_events'] = data.shape[0]\n",
    "stats['all_user'] = data['user_id'].nunique()\n",
    "stats['all_items'] = data['item_id'].nunique()\n",
    "stats['mean_length'] = np.mean(data.groupby('user_id').count()['timestamp'])\n",
    "stats['density'] = stats['all_events'] / (stats['all_items'] * stats['all_user'])"
   ]
  },
  {
   "cell_type": "code",
   "execution_count": 13,
   "metadata": {
    "colab": {
     "base_uri": "https://localhost:8080/"
    },
    "id": "vCruLxiAHB1u",
    "outputId": "b8664576-8c23-4d2f-9ab1-c3c259e86e91"
   },
   "outputs": [
    {
     "name": "stdout",
     "output_type": "stream",
     "text": [
      "Количество взаимодействий: 999611\n",
      "Количество уникальных пользователей: 6040\n",
      "Количество уникальных айтемов: 3416\n",
      "Средняя длина последовательности взаимодействий: 165\n",
      "Плотность данных: 0.048\n"
     ]
    }
   ],
   "source": [
    "print(f\"Количество взаимодействий: {int(stats['all_events'])}\")\n",
    "print(f\"Количество уникальных пользователей: {int(stats['all_user'])}\")\n",
    "print(f\"Количество уникальных айтемов: {int(stats['all_items'])}\")\n",
    "print(f\"Средняя длина последовательности взаимодействий: {int(stats['mean_length'])}\")\n",
    "print(f\"Плотность данных: {round(stats['density'],3)}\")"
   ]
  },
  {
   "cell_type": "code",
   "execution_count": 14,
   "metadata": {
    "colab": {
     "base_uri": "https://localhost:8080/",
     "height": 467
    },
    "id": "igeaT5O9on_Y",
    "outputId": "cff7c0ab-ad12-41e8-eff1-0867559c3b5e"
   },
   "outputs": [
    {
     "data": {
      "text/plain": [
       "<Axes: >"
      ]
     },
     "execution_count": 14,
     "metadata": {},
     "output_type": "execute_result"
    },
    {
     "data": {
      "image/png": "[encoded data removed]",
      "text/plain": [
       "<Figure size 640x480 with 1 Axes>"
      ]
     },
     "metadata": {},
     "output_type": "display_data"
    }
   ],
   "source": [
    "data['rating'].hist()"
   ]
  },
  {
   "cell_type": "markdown",
   "metadata": {
    "id": "ufBxEnIKon_Z"
   },
   "source": [
    "### Фильтрация данных"
   ]
  },
  {
   "cell_type": "code",
   "execution_count": 15,
   "metadata": {
    "id": "I3e8lfm3on_Z"
   },
   "outputs": [],
   "source": [
    "def drop_duplicates_items(data, user_id='user_id', item_id='item_id', timestamp='timestamp'):\n",
    "    \"\"\"Удаление повторяющихся айтемов в последовательности юзера вида i-i-j -> i-j.\"\"\"\n",
    "\n",
    "    data.sort_values([user_id, timestamp], inplace=True)\n",
    "    data['user_item'] = data[user_id].astype(str) + '_' + data[item_id].astype(str)\n",
    "\n",
    "    while (data['user_item'].shift() == data['user_item']).sum() != 0:\n",
    "        not_duplicates_ind = data['user_item'].shift() != data['user_item']\n",
    "        data = data.loc[not_duplicates_ind]\n",
    "\n",
    "    data = data.drop('user_item', axis=1)\n",
    "\n",
    "    return data\n",
    "\n",
    "def filter_items(data, item_min_count, item_id='item_id'):\n",
    "    \"\"\"Фильтрация айтемов с малым количеством взаимодействий.\"\"\"\n",
    "\n",
    "    counts = data[item_id].value_counts()\n",
    "    data = data[data[item_id].isin(counts[counts >= item_min_count].index)]\n",
    "\n",
    "    return data\n",
    "\n",
    "def filter_users(data, user_min_count, user_id='user_id'):\n",
    "    \"\"\"Фильтрация юзеров с малым количеством взаимодействий.\"\"\"\n",
    "\n",
    "    counts = data[user_id].value_counts()\n",
    "    data = data[data[user_id].isin(counts[counts >= user_min_count].index)]\n",
    "\n",
    "    return data"
   ]
  },
  {
   "cell_type": "code",
   "execution_count": 16,
   "metadata": {
    "colab": {
     "base_uri": "https://localhost:8080/"
    },
    "id": "B64vYJ7f-tdj",
    "outputId": "bf4ddd26-3212-47f3-f9d8-1fd164d18633"
   },
   "outputs": [
    {
     "name": "stdout",
     "output_type": "stream",
     "text": [
      "Количество взаимодействий в сырых данных = 999611\n"
     ]
    }
   ],
   "source": [
    "print('Количество взаимодействий в сырых данных = {}'.format(len(data)))"
   ]
  },
  {
   "cell_type": "code",
   "execution_count": 17,
   "metadata": {
    "colab": {
     "base_uri": "https://localhost:8080/"
    },
    "id": "NJnDgkCd-vl9",
    "outputId": "3a995894-1b8e-4c88-bf4e-78d37a604125"
   },
   "outputs": [
    {
     "name": "stdout",
     "output_type": "stream",
     "text": [
      "Количество взаимодействий после фильтрации айтемов = 995492\n"
     ]
    }
   ],
   "source": [
    "data = filter_items(data, item_min_count=20, item_id='item_id')\n",
    "print('Количество взаимодействий после фильтрации айтемов = {}'.format(len(data)))"
   ]
  },
  {
   "cell_type": "code",
   "execution_count": 18,
   "metadata": {
    "colab": {
     "base_uri": "https://localhost:8080/"
    },
    "id": "RhMdUopb-61F",
    "outputId": "d2812110-8f60-40e5-a0dd-ca4a5fa3811b"
   },
   "outputs": [
    {
     "name": "stdout",
     "output_type": "stream",
     "text": [
      "Количество взаимодействий после фильтрации пользователей = 995154\n"
     ]
    }
   ],
   "source": [
    "data = filter_users(data, user_min_count=20, user_id='user_id')\n",
    "print('Количество взаимодействий после фильтрации пользователей = {}'.format(len(data)))"
   ]
  },
  {
   "cell_type": "code",
   "execution_count": 19,
   "metadata": {
    "colab": {
     "base_uri": "https://localhost:8080/"
    },
    "id": "OamfcTbMon_Z",
    "outputId": "ff608405-63b6-4dd4-cfdb-83566fa7ea79"
   },
   "outputs": [
    {
     "name": "stdout",
     "output_type": "stream",
     "text": [
      "Количество взаимодействий в после удаления дубликатов = 995154\n"
     ]
    }
   ],
   "source": [
    "data = drop_duplicates_items(data=data, user_id='user_id', item_id='item_id', timestamp='timestamp')\n",
    "print('Количество взаимодействий в после удаления дубликатов = {}'.format(len(data)))"
   ]
  },
  {
   "cell_type": "code",
   "execution_count": 20,
   "metadata": {
    "colab": {
     "base_uri": "https://localhost:8080/"
    },
    "id": "Cws46L_lt3c7",
    "outputId": "84915641-6f0e-4f7b-92b7-07e436c20758"
   },
   "outputs": [
    {
     "name": "stdout",
     "output_type": "stream",
     "text": [
      "Количество взаимодействий = 995154\n",
      "Количество юзеров = 6022\n",
      "Количество айтемов = 3043\n"
     ]
    }
   ],
   "source": [
    "print('Количество взаимодействий = {}'.format(len(data)))\n",
    "print('Количество юзеров = {}'.format(len(data.user_id.unique())))\n",
    "print('Количество айтемов = {}'.format(len(data.item_id.unique())))"
   ]
  },
  {
   "cell_type": "markdown",
   "metadata": {
    "id": "vog78LUcon_Z"
   },
   "source": [
    "Релизация Replay"
   ]
  },
  {
   "cell_type": "code",
   "execution_count": 21,
   "metadata": {
    "id": "T1EqZc2Uon_a"
   },
   "outputs": [
    {
     "name": "stderr",
     "output_type": "stream",
     "text": [
      "\n",
      "libgomp: Invalid value for environment variable OMP_NUM_THREADS\n"
     ]
    }
   ],
   "source": [
    "from replay.preprocessing.filters import NumInteractionsFilter\n",
    "from replay.preprocessing.filters import LowRatingFilter\n",
    "from replay.preprocessing.filters import MinCountFilter"
   ]
  },
  {
   "cell_type": "code",
   "execution_count": 22,
   "metadata": {
    "colab": {
     "base_uri": "https://localhost:8080/",
     "height": 221
    },
    "id": "Xey7xsP9on_a",
    "outputId": "91a156fa-ef07-4ea9-e42f-b27f15fe2e80"
   },
   "outputs": [
    {
     "data": {
      "text/html": [
       "<div>\n",
       "<style scoped>\n",
       "    .dataframe tbody tr th:only-of-type {\n",
       "        vertical-align: middle;\n",
       "    }\n",
       "\n",
       "    .dataframe tbody tr th {\n",
       "        vertical-align: top;\n",
       "    }\n",
       "\n",
       "    .dataframe thead th {\n",
       "        text-align: right;\n",
       "    }\n",
       "</style>\n",
       "<table border=\"1\" class=\"dataframe\">\n",
       "  <thead>\n",
       "    <tr style=\"text-align: right;\">\n",
       "      <th></th>\n",
       "      <th>user_id</th>\n",
       "      <th>item_id</th>\n",
       "      <th>rating</th>\n",
       "      <th>timestamp</th>\n",
       "    </tr>\n",
       "  </thead>\n",
       "  <tbody>\n",
       "    <tr>\n",
       "      <th>0</th>\n",
       "      <td>0</td>\n",
       "      <td>2757</td>\n",
       "      <td>4</td>\n",
       "      <td>2001-01-01 01:00:19</td>\n",
       "    </tr>\n",
       "    <tr>\n",
       "      <th>1</th>\n",
       "      <td>0</td>\n",
       "      <td>1068</td>\n",
       "      <td>5</td>\n",
       "      <td>2001-01-01 01:00:55</td>\n",
       "    </tr>\n",
       "    <tr>\n",
       "      <th>2</th>\n",
       "      <td>0</td>\n",
       "      <td>1444</td>\n",
       "      <td>4</td>\n",
       "      <td>2001-01-01 01:00:55</td>\n",
       "    </tr>\n",
       "    <tr>\n",
       "      <th>3</th>\n",
       "      <td>0</td>\n",
       "      <td>861</td>\n",
       "      <td>5</td>\n",
       "      <td>2001-01-01 01:00:55</td>\n",
       "    </tr>\n",
       "    <tr>\n",
       "      <th>4</th>\n",
       "      <td>0</td>\n",
       "      <td>1978</td>\n",
       "      <td>3</td>\n",
       "      <td>2001-01-01 01:01:43</td>\n",
       "    </tr>\n",
       "  </tbody>\n",
       "</table>\n",
       "</div>"
      ],
      "text/plain": [
       "   user_id  item_id  rating           timestamp\n",
       "0        0     2757       4 2001-01-01 01:00:19\n",
       "1        0     1068       5 2001-01-01 01:00:55\n",
       "2        0     1444       4 2001-01-01 01:00:55\n",
       "3        0      861       5 2001-01-01 01:00:55\n",
       "4        0     1978       3 2001-01-01 01:01:43"
      ]
     },
     "execution_count": 22,
     "metadata": {},
     "output_type": "execute_result"
    }
   ],
   "source": [
    "ml = MovieLens('1m')\n",
    "data = ml.ratings\n",
    "data[\"timestamp\"] = data['timestamp'].map(lambda x: datetime.fromtimestamp(x))\n",
    "data.head()"
   ]
  },
  {
   "cell_type": "code",
   "execution_count": 23,
   "metadata": {
    "colab": {
     "base_uri": "https://localhost:8080/"
    },
    "id": "bJfyHn9z_5-K",
    "outputId": "5d92378d-616d-400d-bed7-793bea3a0376"
   },
   "outputs": [
    {
     "name": "stdout",
     "output_type": "stream",
     "text": [
      "Количество взаимодействий в сырых данных = 999611\n"
     ]
    }
   ],
   "source": [
    "print('Количество взаимодействий в сырых данных = {}'.format(len(data)))"
   ]
  },
  {
   "cell_type": "code",
   "execution_count": 24,
   "metadata": {
    "colab": {
     "base_uri": "https://localhost:8080/"
    },
    "id": "IL-hhPBBon_a",
    "outputId": "214cb076-5161-4cae-9193-8ef1475bed51"
   },
   "outputs": [
    {
     "name": "stdout",
     "output_type": "stream",
     "text": [
      "Количество взаимодействий после фильтрации по длине последовательности = 521171\n"
     ]
    }
   ],
   "source": [
    "# Берем в каждой последовательности пользователя последние 128 айтемов\n",
    "data = NumInteractionsFilter(num_interactions=128).transform(data)\n",
    "print('Количество взаимодействий после фильтрации по длине последовательности = {}'.format(len(data)))"
   ]
  },
  {
   "cell_type": "code",
   "execution_count": 25,
   "metadata": {
    "colab": {
     "base_uri": "https://localhost:8080/"
    },
    "id": "AsfDDDB3DEVw",
    "outputId": "6432a060-7d73-49f4-8475-733a39270b10"
   },
   "outputs": [
    {
     "name": "stdout",
     "output_type": "stream",
     "text": [
      "Количество взаимодействий после фильтрации по оценкам = 451906\n"
     ]
    }
   ],
   "source": [
    "# Оставляем последовательности с рейтингом 3 или выше\n",
    "data = LowRatingFilter(value=3).transform(data)\n",
    "print('Количество взаимодействий после фильтрации по оценкам = {}'.format(len(data)))"
   ]
  },
  {
   "cell_type": "code",
   "execution_count": 26,
   "metadata": {
    "colab": {
     "base_uri": "https://localhost:8080/"
    },
    "id": "8Dnz6n8HC4gz",
    "outputId": "960bf050-e819-464f-fd2f-73436050752d"
   },
   "outputs": [
    {
     "name": "stdout",
     "output_type": "stream",
     "text": [
      "Количество взаимодействий после фильтрации по пользователям = 451905\n"
     ]
    }
   ],
   "source": [
    "# Оставляем пользователей с не менее 5 взаимодействиями\n",
    "data = MinCountFilter(num_entries=5, groupby_column='user_id').transform(data)\n",
    "print('Количество взаимодействий после фильтрации по пользователям = {}'.format(len(data)))"
   ]
  },
  {
   "cell_type": "code",
   "execution_count": 27,
   "metadata": {
    "colab": {
     "base_uri": "https://localhost:8080/"
    },
    "id": "HorgA1JVC7CP",
    "outputId": "045f4d9e-9426-4600-aee5-c0cc4d2044b1"
   },
   "outputs": [
    {
     "name": "stdout",
     "output_type": "stream",
     "text": [
      "Количество взаимодействий после фильтрации по айтемам = 450908\n"
     ]
    }
   ],
   "source": [
    "# Оставляем айтемы с не менее 5 взаимодействиями\n",
    "data = MinCountFilter(num_entries=5, groupby_column='item_id').transform(data)\n",
    "print('Количество взаимодействий после фильтрации по айтемам = {}'.format(len(data)))"
   ]
  },
  {
   "cell_type": "code",
   "execution_count": 28,
   "metadata": {
    "colab": {
     "base_uri": "https://localhost:8080/"
    },
    "id": "0ypTabdQucSY",
    "outputId": "2f9b03ff-ad21-4eab-8e65-6d2a9e3fe66a"
   },
   "outputs": [
    {
     "name": "stdout",
     "output_type": "stream",
     "text": [
      "Количество взаимодействий = 450908\n",
      "Количество юзеров = 6038\n",
      "Количество айтемов = 2965\n"
     ]
    }
   ],
   "source": [
    "print('Количество взаимодействий = {}'.format(len(data)))\n",
    "print('Количество юзеров = {}'.format(len(data.user_id.unique())))\n",
    "print('Количество айтемов = {}'.format(len(data.item_id.unique())))"
   ]
  },
  {
   "cell_type": "markdown",
   "metadata": {
    "id": "rY1Ww0yGon_a"
   },
   "source": [
    "### Разбиение данных"
   ]
  },
  {
   "cell_type": "markdown",
   "metadata": {
    "id": "wxPFB0q3fxID"
   },
   "source": [
    "Основные параметры для сплиттеров в RePlay\\\n",
    "query_column (str): Название колонки пользователя \\\n",
    "drop_cold_users (bool): Удалить пользователей из test датасета, которых нет в train датасете \\\n",
    "drop_cold_items (bool): Удалить айтемы из test датасета, которых нет в train \\\n",
    "\n"
   ]
  },
  {
   "cell_type": "markdown",
   "metadata": {
    "id": "OJOTONrGon_a"
   },
   "source": [
    "#### Случайное разбиение"
   ]
  },
  {
   "cell_type": "code",
   "execution_count": 29,
   "metadata": {
    "id": "hEUXcNpCrxaw"
   },
   "outputs": [],
   "source": [
    "data.sort_values(['user_id', 'timestamp'], inplace=True)"
   ]
  },
  {
   "cell_type": "code",
   "execution_count": 30,
   "metadata": {
    "id": "BS5By9ACon_a"
   },
   "outputs": [],
   "source": [
    "from replay.splitters.random_splitter import RandomSplitter\n",
    "train, test = RandomSplitter(test_size=0.3,\n",
    "                             drop_cold_items=True,\n",
    "                             drop_cold_users=True,\n",
    "                             seed=32, query_column='user_id').split(data)"
   ]
  },
  {
   "cell_type": "code",
   "execution_count": 31,
   "metadata": {
    "colab": {
     "base_uri": "https://localhost:8080/"
    },
    "id": "n88aakE-wiSW",
    "outputId": "ef2718d2-c33e-451f-f4af-edc4823b77d0"
   },
   "outputs": [
    {
     "name": "stdout",
     "output_type": "stream",
     "text": [
      "Количество взаимодействий в train= 315636\n",
      "Количество юзеров в train = 6038\n",
      "Количество айтемов в train = 2964\n"
     ]
    }
   ],
   "source": [
    "print('Количество взаимодействий в train= {}'.format(len(train)))\n",
    "print('Количество юзеров в train = {}'.format(len(train.user_id.unique())))\n",
    "print('Количество айтемов в train = {}'.format(len(train.item_id.unique())))"
   ]
  },
  {
   "cell_type": "code",
   "execution_count": 32,
   "metadata": {
    "colab": {
     "base_uri": "https://localhost:8080/"
    },
    "id": "P4Bmd1Wxwnuf",
    "outputId": "ba0e9c24-6ca4-4bc1-9c78-8eae0cc76f52"
   },
   "outputs": [
    {
     "name": "stdout",
     "output_type": "stream",
     "text": [
      "Количество взаимодействий в test= 135267\n",
      "Количество юзеров в test = 6037\n",
      "Количество айтемов в test = 2927\n"
     ]
    }
   ],
   "source": [
    "print('Количество взаимодействий в test= {}'.format(len(test)))\n",
    "print('Количество юзеров в test = {}'.format(len(test.user_id.unique())))\n",
    "print('Количество айтемов в test = {}'.format(len(test.item_id.unique())))"
   ]
  },
  {
   "cell_type": "code",
   "execution_count": 33,
   "metadata": {
    "colab": {
     "base_uri": "https://localhost:8080/",
     "height": 299
    },
    "id": "wvwsXyiyrlAW",
    "outputId": "9b882005-86e8-4e61-8fc8-27219e3cff69"
   },
   "outputs": [
    {
     "name": "stdout",
     "output_type": "stream",
     "text": [
      "Взаимодействия пользователя до разбиения данных\n"
     ]
    },
    {
     "data": {
      "text/html": [
       "<div>\n",
       "<style scoped>\n",
       "    .dataframe tbody tr th:only-of-type {\n",
       "        vertical-align: middle;\n",
       "    }\n",
       "\n",
       "    .dataframe tbody tr th {\n",
       "        vertical-align: top;\n",
       "    }\n",
       "\n",
       "    .dataframe thead th {\n",
       "        text-align: right;\n",
       "    }\n",
       "</style>\n",
       "<table border=\"1\" class=\"dataframe\">\n",
       "  <thead>\n",
       "    <tr style=\"text-align: right;\">\n",
       "      <th></th>\n",
       "      <th>user_id</th>\n",
       "      <th>item_id</th>\n",
       "      <th>rating</th>\n",
       "      <th>timestamp</th>\n",
       "    </tr>\n",
       "  </thead>\n",
       "  <tbody>\n",
       "    <tr>\n",
       "      <th>726677</th>\n",
       "      <td>4349</td>\n",
       "      <td>998</td>\n",
       "      <td>5</td>\n",
       "      <td>2000-08-02 11:32:44</td>\n",
       "    </tr>\n",
       "    <tr>\n",
       "      <th>726678</th>\n",
       "      <td>4349</td>\n",
       "      <td>241</td>\n",
       "      <td>4</td>\n",
       "      <td>2000-08-02 11:33:09</td>\n",
       "    </tr>\n",
       "    <tr>\n",
       "      <th>726679</th>\n",
       "      <td>4349</td>\n",
       "      <td>547</td>\n",
       "      <td>3</td>\n",
       "      <td>2000-08-02 11:33:27</td>\n",
       "    </tr>\n",
       "    <tr>\n",
       "      <th>726680</th>\n",
       "      <td>4349</td>\n",
       "      <td>1010</td>\n",
       "      <td>5</td>\n",
       "      <td>2000-08-02 11:33:49</td>\n",
       "    </tr>\n",
       "    <tr>\n",
       "      <th>726681</th>\n",
       "      <td>4349</td>\n",
       "      <td>105</td>\n",
       "      <td>5</td>\n",
       "      <td>2000-08-02 11:34:06</td>\n",
       "    </tr>\n",
       "    <tr>\n",
       "      <th>...</th>\n",
       "      <td>...</td>\n",
       "      <td>...</td>\n",
       "      <td>...</td>\n",
       "      <td>...</td>\n",
       "    </tr>\n",
       "    <tr>\n",
       "      <th>726743</th>\n",
       "      <td>4349</td>\n",
       "      <td>2512</td>\n",
       "      <td>5</td>\n",
       "      <td>2000-11-25 11:30:10</td>\n",
       "    </tr>\n",
       "    <tr>\n",
       "      <th>726744</th>\n",
       "      <td>4349</td>\n",
       "      <td>423</td>\n",
       "      <td>3</td>\n",
       "      <td>2000-11-25 11:30:10</td>\n",
       "    </tr>\n",
       "    <tr>\n",
       "      <th>726745</th>\n",
       "      <td>4349</td>\n",
       "      <td>2178</td>\n",
       "      <td>3</td>\n",
       "      <td>2000-11-25 11:30:59</td>\n",
       "    </tr>\n",
       "    <tr>\n",
       "      <th>726746</th>\n",
       "      <td>4349</td>\n",
       "      <td>353</td>\n",
       "      <td>4</td>\n",
       "      <td>2000-11-25 11:31:27</td>\n",
       "    </tr>\n",
       "    <tr>\n",
       "      <th>726747</th>\n",
       "      <td>4349</td>\n",
       "      <td>3189</td>\n",
       "      <td>5</td>\n",
       "      <td>2000-11-25 11:31:54</td>\n",
       "    </tr>\n",
       "  </tbody>\n",
       "</table>\n",
       "<p>66 rows × 4 columns</p>\n",
       "</div>"
      ],
      "text/plain": [
       "        user_id  item_id  rating           timestamp\n",
       "726677     4349      998       5 2000-08-02 11:32:44\n",
       "726678     4349      241       4 2000-08-02 11:33:09\n",
       "726679     4349      547       3 2000-08-02 11:33:27\n",
       "726680     4349     1010       5 2000-08-02 11:33:49\n",
       "726681     4349      105       5 2000-08-02 11:34:06\n",
       "...         ...      ...     ...                 ...\n",
       "726743     4349     2512       5 2000-11-25 11:30:10\n",
       "726744     4349      423       3 2000-11-25 11:30:10\n",
       "726745     4349     2178       3 2000-11-25 11:30:59\n",
       "726746     4349      353       4 2000-11-25 11:31:27\n",
       "726747     4349     3189       5 2000-11-25 11:31:54\n",
       "\n",
       "[66 rows x 4 columns]"
      ]
     },
     "execution_count": 33,
     "metadata": {},
     "output_type": "execute_result"
    }
   ],
   "source": [
    "print('Взаимодействия пользователя до разбиения данных')\n",
    "data[data.user_id == 4349]"
   ]
  },
  {
   "cell_type": "code",
   "execution_count": 34,
   "metadata": {
    "colab": {
     "base_uri": "https://localhost:8080/",
     "height": 238
    },
    "id": "A1LGJ4rir4sV",
    "outputId": "07d8dd2f-f70c-43f0-ff40-73440dc9bade"
   },
   "outputs": [
    {
     "name": "stdout",
     "output_type": "stream",
     "text": [
      "Взаимодействия пользователя в train\n"
     ]
    },
    {
     "data": {
      "text/html": [
       "<div>\n",
       "<style scoped>\n",
       "    .dataframe tbody tr th:only-of-type {\n",
       "        vertical-align: middle;\n",
       "    }\n",
       "\n",
       "    .dataframe tbody tr th {\n",
       "        vertical-align: top;\n",
       "    }\n",
       "\n",
       "    .dataframe thead th {\n",
       "        text-align: right;\n",
       "    }\n",
       "</style>\n",
       "<table border=\"1\" class=\"dataframe\">\n",
       "  <thead>\n",
       "    <tr style=\"text-align: right;\">\n",
       "      <th></th>\n",
       "      <th>user_id</th>\n",
       "      <th>item_id</th>\n",
       "      <th>rating</th>\n",
       "      <th>timestamp</th>\n",
       "    </tr>\n",
       "  </thead>\n",
       "  <tbody>\n",
       "    <tr>\n",
       "      <th>726681</th>\n",
       "      <td>4349</td>\n",
       "      <td>105</td>\n",
       "      <td>5</td>\n",
       "      <td>2000-08-02 11:34:06</td>\n",
       "    </tr>\n",
       "    <tr>\n",
       "      <th>726682</th>\n",
       "      <td>4349</td>\n",
       "      <td>3241</td>\n",
       "      <td>3</td>\n",
       "      <td>2000-08-02 11:35:51</td>\n",
       "    </tr>\n",
       "    <tr>\n",
       "      <th>726683</th>\n",
       "      <td>4349</td>\n",
       "      <td>3308</td>\n",
       "      <td>3</td>\n",
       "      <td>2000-08-02 11:36:22</td>\n",
       "    </tr>\n",
       "    <tr>\n",
       "      <th>726686</th>\n",
       "      <td>4349</td>\n",
       "      <td>2277</td>\n",
       "      <td>4</td>\n",
       "      <td>2000-08-02 11:40:04</td>\n",
       "    </tr>\n",
       "    <tr>\n",
       "      <th>726685</th>\n",
       "      <td>4349</td>\n",
       "      <td>996</td>\n",
       "      <td>5</td>\n",
       "      <td>2000-08-02 11:40:04</td>\n",
       "    </tr>\n",
       "    <tr>\n",
       "      <th>726684</th>\n",
       "      <td>4349</td>\n",
       "      <td>2983</td>\n",
       "      <td>4</td>\n",
       "      <td>2000-08-02 11:40:04</td>\n",
       "    </tr>\n",
       "    <tr>\n",
       "      <th>726687</th>\n",
       "      <td>4349</td>\n",
       "      <td>1006</td>\n",
       "      <td>5</td>\n",
       "      <td>2000-08-02 11:41:47</td>\n",
       "    </tr>\n",
       "    <tr>\n",
       "      <th>726689</th>\n",
       "      <td>4349</td>\n",
       "      <td>506</td>\n",
       "      <td>4</td>\n",
       "      <td>2000-08-02 11:41:47</td>\n",
       "    </tr>\n",
       "    <tr>\n",
       "      <th>726691</th>\n",
       "      <td>4349</td>\n",
       "      <td>1590</td>\n",
       "      <td>3</td>\n",
       "      <td>2000-08-02 11:42:08</td>\n",
       "    </tr>\n",
       "    <tr>\n",
       "      <th>726692</th>\n",
       "      <td>4349</td>\n",
       "      <td>926</td>\n",
       "      <td>5</td>\n",
       "      <td>2000-08-02 11:42:35</td>\n",
       "    </tr>\n",
       "    <tr>\n",
       "      <th>726693</th>\n",
       "      <td>4349</td>\n",
       "      <td>2253</td>\n",
       "      <td>4</td>\n",
       "      <td>2000-08-02 11:43:06</td>\n",
       "    </tr>\n",
       "    <tr>\n",
       "      <th>726696</th>\n",
       "      <td>4349</td>\n",
       "      <td>1680</td>\n",
       "      <td>4</td>\n",
       "      <td>2000-08-02 11:44:13</td>\n",
       "    </tr>\n",
       "    <tr>\n",
       "      <th>726698</th>\n",
       "      <td>4349</td>\n",
       "      <td>1784</td>\n",
       "      <td>5</td>\n",
       "      <td>2000-08-02 11:44:51</td>\n",
       "    </tr>\n",
       "    <tr>\n",
       "      <th>726699</th>\n",
       "      <td>4349</td>\n",
       "      <td>2254</td>\n",
       "      <td>4</td>\n",
       "      <td>2000-08-02 11:45:05</td>\n",
       "    </tr>\n",
       "    <tr>\n",
       "      <th>726702</th>\n",
       "      <td>4349</td>\n",
       "      <td>1681</td>\n",
       "      <td>3</td>\n",
       "      <td>2000-08-02 11:45:39</td>\n",
       "    </tr>\n",
       "    <tr>\n",
       "      <th>726703</th>\n",
       "      <td>4349</td>\n",
       "      <td>2013</td>\n",
       "      <td>3</td>\n",
       "      <td>2000-08-02 11:46:11</td>\n",
       "    </tr>\n",
       "    <tr>\n",
       "      <th>726704</th>\n",
       "      <td>4349</td>\n",
       "      <td>644</td>\n",
       "      <td>3</td>\n",
       "      <td>2000-08-02 11:46:27</td>\n",
       "    </tr>\n",
       "    <tr>\n",
       "      <th>726706</th>\n",
       "      <td>4349</td>\n",
       "      <td>179</td>\n",
       "      <td>3</td>\n",
       "      <td>2000-08-02 11:46:47</td>\n",
       "    </tr>\n",
       "    <tr>\n",
       "      <th>726708</th>\n",
       "      <td>4349</td>\n",
       "      <td>561</td>\n",
       "      <td>4</td>\n",
       "      <td>2000-08-02 11:48:23</td>\n",
       "    </tr>\n",
       "    <tr>\n",
       "      <th>726709</th>\n",
       "      <td>4349</td>\n",
       "      <td>2458</td>\n",
       "      <td>5</td>\n",
       "      <td>2000-08-02 11:48:40</td>\n",
       "    </tr>\n",
       "    <tr>\n",
       "      <th>726711</th>\n",
       "      <td>4349</td>\n",
       "      <td>2675</td>\n",
       "      <td>5</td>\n",
       "      <td>2000-08-02 11:49:00</td>\n",
       "    </tr>\n",
       "    <tr>\n",
       "      <th>726710</th>\n",
       "      <td>4349</td>\n",
       "      <td>772</td>\n",
       "      <td>5</td>\n",
       "      <td>2000-08-02 11:49:00</td>\n",
       "    </tr>\n",
       "    <tr>\n",
       "      <th>726712</th>\n",
       "      <td>4349</td>\n",
       "      <td>720</td>\n",
       "      <td>3</td>\n",
       "      <td>2000-08-02 11:49:00</td>\n",
       "    </tr>\n",
       "    <tr>\n",
       "      <th>726713</th>\n",
       "      <td>4349</td>\n",
       "      <td>493</td>\n",
       "      <td>4</td>\n",
       "      <td>2000-08-02 11:49:22</td>\n",
       "    </tr>\n",
       "    <tr>\n",
       "      <th>726714</th>\n",
       "      <td>4349</td>\n",
       "      <td>797</td>\n",
       "      <td>4</td>\n",
       "      <td>2000-08-02 11:49:50</td>\n",
       "    </tr>\n",
       "    <tr>\n",
       "      <th>726715</th>\n",
       "      <td>4349</td>\n",
       "      <td>1663</td>\n",
       "      <td>5</td>\n",
       "      <td>2000-08-02 11:54:27</td>\n",
       "    </tr>\n",
       "    <tr>\n",
       "      <th>726716</th>\n",
       "      <td>4349</td>\n",
       "      <td>1072</td>\n",
       "      <td>4</td>\n",
       "      <td>2000-08-03 21:36:27</td>\n",
       "    </tr>\n",
       "    <tr>\n",
       "      <th>726718</th>\n",
       "      <td>4349</td>\n",
       "      <td>146</td>\n",
       "      <td>3</td>\n",
       "      <td>2000-08-19 10:18:26</td>\n",
       "    </tr>\n",
       "    <tr>\n",
       "      <th>726719</th>\n",
       "      <td>4349</td>\n",
       "      <td>228</td>\n",
       "      <td>5</td>\n",
       "      <td>2000-08-19 10:22:03</td>\n",
       "    </tr>\n",
       "    <tr>\n",
       "      <th>726720</th>\n",
       "      <td>4349</td>\n",
       "      <td>2513</td>\n",
       "      <td>3</td>\n",
       "      <td>2000-08-19 10:26:48</td>\n",
       "    </tr>\n",
       "    <tr>\n",
       "      <th>726721</th>\n",
       "      <td>4349</td>\n",
       "      <td>2774</td>\n",
       "      <td>4</td>\n",
       "      <td>2000-08-19 10:26:48</td>\n",
       "    </tr>\n",
       "    <tr>\n",
       "      <th>726722</th>\n",
       "      <td>4349</td>\n",
       "      <td>2398</td>\n",
       "      <td>3</td>\n",
       "      <td>2000-08-19 10:27:13</td>\n",
       "    </tr>\n",
       "    <tr>\n",
       "      <th>726723</th>\n",
       "      <td>4349</td>\n",
       "      <td>1057</td>\n",
       "      <td>5</td>\n",
       "      <td>2000-08-19 10:27:29</td>\n",
       "    </tr>\n",
       "    <tr>\n",
       "      <th>726726</th>\n",
       "      <td>4349</td>\n",
       "      <td>99</td>\n",
       "      <td>4</td>\n",
       "      <td>2000-08-19 10:28:35</td>\n",
       "    </tr>\n",
       "    <tr>\n",
       "      <th>726728</th>\n",
       "      <td>4349</td>\n",
       "      <td>37</td>\n",
       "      <td>5</td>\n",
       "      <td>2000-08-19 10:29:25</td>\n",
       "    </tr>\n",
       "    <tr>\n",
       "      <th>726729</th>\n",
       "      <td>4349</td>\n",
       "      <td>200</td>\n",
       "      <td>4</td>\n",
       "      <td>2000-08-19 10:29:48</td>\n",
       "    </tr>\n",
       "    <tr>\n",
       "      <th>726730</th>\n",
       "      <td>4349</td>\n",
       "      <td>2890</td>\n",
       "      <td>5</td>\n",
       "      <td>2000-10-08 12:06:14</td>\n",
       "    </tr>\n",
       "    <tr>\n",
       "      <th>726731</th>\n",
       "      <td>4349</td>\n",
       "      <td>2157</td>\n",
       "      <td>5</td>\n",
       "      <td>2000-10-08 12:08:08</td>\n",
       "    </tr>\n",
       "    <tr>\n",
       "      <th>726732</th>\n",
       "      <td>4349</td>\n",
       "      <td>3223</td>\n",
       "      <td>4</td>\n",
       "      <td>2000-10-08 12:08:29</td>\n",
       "    </tr>\n",
       "    <tr>\n",
       "      <th>726734</th>\n",
       "      <td>4349</td>\n",
       "      <td>1984</td>\n",
       "      <td>4</td>\n",
       "      <td>2000-10-08 12:09:43</td>\n",
       "    </tr>\n",
       "    <tr>\n",
       "      <th>726733</th>\n",
       "      <td>4349</td>\n",
       "      <td>2679</td>\n",
       "      <td>3</td>\n",
       "      <td>2000-10-08 12:09:43</td>\n",
       "    </tr>\n",
       "    <tr>\n",
       "      <th>726736</th>\n",
       "      <td>4349</td>\n",
       "      <td>3211</td>\n",
       "      <td>5</td>\n",
       "      <td>2000-10-08 12:10:28</td>\n",
       "    </tr>\n",
       "    <tr>\n",
       "      <th>726738</th>\n",
       "      <td>4349</td>\n",
       "      <td>502</td>\n",
       "      <td>5</td>\n",
       "      <td>2000-11-25 11:25:40</td>\n",
       "    </tr>\n",
       "    <tr>\n",
       "      <th>726739</th>\n",
       "      <td>4349</td>\n",
       "      <td>2309</td>\n",
       "      <td>3</td>\n",
       "      <td>2000-11-25 11:27:13</td>\n",
       "    </tr>\n",
       "    <tr>\n",
       "      <th>726741</th>\n",
       "      <td>4349</td>\n",
       "      <td>1188</td>\n",
       "      <td>3</td>\n",
       "      <td>2000-11-25 11:28:02</td>\n",
       "    </tr>\n",
       "    <tr>\n",
       "      <th>726742</th>\n",
       "      <td>4349</td>\n",
       "      <td>1000</td>\n",
       "      <td>5</td>\n",
       "      <td>2000-11-25 11:29:26</td>\n",
       "    </tr>\n",
       "    <tr>\n",
       "      <th>726744</th>\n",
       "      <td>4349</td>\n",
       "      <td>423</td>\n",
       "      <td>3</td>\n",
       "      <td>2000-11-25 11:30:10</td>\n",
       "    </tr>\n",
       "    <tr>\n",
       "      <th>726743</th>\n",
       "      <td>4349</td>\n",
       "      <td>2512</td>\n",
       "      <td>5</td>\n",
       "      <td>2000-11-25 11:30:10</td>\n",
       "    </tr>\n",
       "    <tr>\n",
       "      <th>726746</th>\n",
       "      <td>4349</td>\n",
       "      <td>353</td>\n",
       "      <td>4</td>\n",
       "      <td>2000-11-25 11:31:27</td>\n",
       "    </tr>\n",
       "  </tbody>\n",
       "</table>\n",
       "</div>"
      ],
      "text/plain": [
       "        user_id  item_id  rating           timestamp\n",
       "726681     4349      105       5 2000-08-02 11:34:06\n",
       "726682     4349     3241       3 2000-08-02 11:35:51\n",
       "726683     4349     3308       3 2000-08-02 11:36:22\n",
       "726686     4349     2277       4 2000-08-02 11:40:04\n",
       "726685     4349      996       5 2000-08-02 11:40:04\n",
       "726684     4349     2983       4 2000-08-02 11:40:04\n",
       "726687     4349     1006       5 2000-08-02 11:41:47\n",
       "726689     4349      506       4 2000-08-02 11:41:47\n",
       "726691     4349     1590       3 2000-08-02 11:42:08\n",
       "726692     4349      926       5 2000-08-02 11:42:35\n",
       "726693     4349     2253       4 2000-08-02 11:43:06\n",
       "726696     4349     1680       4 2000-08-02 11:44:13\n",
       "726698     4349     1784       5 2000-08-02 11:44:51\n",
       "726699     4349     2254       4 2000-08-02 11:45:05\n",
       "726702     4349     1681       3 2000-08-02 11:45:39\n",
       "726703     4349     2013       3 2000-08-02 11:46:11\n",
       "726704     4349      644       3 2000-08-02 11:46:27\n",
       "726706     4349      179       3 2000-08-02 11:46:47\n",
       "726708     4349      561       4 2000-08-02 11:48:23\n",
       "726709     4349     2458       5 2000-08-02 11:48:40\n",
       "726711     4349     2675       5 2000-08-02 11:49:00\n",
       "726710     4349      772       5 2000-08-02 11:49:00\n",
       "726712     4349      720       3 2000-08-02 11:49:00\n",
       "726713     4349      493       4 2000-08-02 11:49:22\n",
       "726714     4349      797       4 2000-08-02 11:49:50\n",
       "726715     4349     1663       5 2000-08-02 11:54:27\n",
       "726716     4349     1072       4 2000-08-03 21:36:27\n",
       "726718     4349      146       3 2000-08-19 10:18:26\n",
       "726719     4349      228       5 2000-08-19 10:22:03\n",
       "726720     4349     2513       3 2000-08-19 10:26:48\n",
       "726721     4349     2774       4 2000-08-19 10:26:48\n",
       "726722     4349     2398       3 2000-08-19 10:27:13\n",
       "726723     4349     1057       5 2000-08-19 10:27:29\n",
       "726726     4349       99       4 2000-08-19 10:28:35\n",
       "726728     4349       37       5 2000-08-19 10:29:25\n",
       "726729     4349      200       4 2000-08-19 10:29:48\n",
       "726730     4349     2890       5 2000-10-08 12:06:14\n",
       "726731     4349     2157       5 2000-10-08 12:08:08\n",
       "726732     4349     3223       4 2000-10-08 12:08:29\n",
       "726734     4349     1984       4 2000-10-08 12:09:43\n",
       "726733     4349     2679       3 2000-10-08 12:09:43\n",
       "726736     4349     3211       5 2000-10-08 12:10:28\n",
       "726738     4349      502       5 2000-11-25 11:25:40\n",
       "726739     4349     2309       3 2000-11-25 11:27:13\n",
       "726741     4349     1188       3 2000-11-25 11:28:02\n",
       "726742     4349     1000       5 2000-11-25 11:29:26\n",
       "726744     4349      423       3 2000-11-25 11:30:10\n",
       "726743     4349     2512       5 2000-11-25 11:30:10\n",
       "726746     4349      353       4 2000-11-25 11:31:27"
      ]
     },
     "execution_count": 34,
     "metadata": {},
     "output_type": "execute_result"
    }
   ],
   "source": [
    "print('Взаимодействия пользователя в train')\n",
    "train[train.user_id == 4349].sort_values('timestamp')"
   ]
  },
  {
   "cell_type": "code",
   "execution_count": 35,
   "metadata": {
    "colab": {
     "base_uri": "https://localhost:8080/",
     "height": 163
    },
    "id": "AJNlXr_nfZTC",
    "outputId": "79cbd1f9-ffc5-430a-ff1a-0c62a569225e"
   },
   "outputs": [
    {
     "name": "stdout",
     "output_type": "stream",
     "text": [
      "\n",
      " Взаимодействия пользователя в test\n"
     ]
    },
    {
     "data": {
      "text/html": [
       "<div>\n",
       "<style scoped>\n",
       "    .dataframe tbody tr th:only-of-type {\n",
       "        vertical-align: middle;\n",
       "    }\n",
       "\n",
       "    .dataframe tbody tr th {\n",
       "        vertical-align: top;\n",
       "    }\n",
       "\n",
       "    .dataframe thead th {\n",
       "        text-align: right;\n",
       "    }\n",
       "</style>\n",
       "<table border=\"1\" class=\"dataframe\">\n",
       "  <thead>\n",
       "    <tr style=\"text-align: right;\">\n",
       "      <th></th>\n",
       "      <th>user_id</th>\n",
       "      <th>item_id</th>\n",
       "      <th>rating</th>\n",
       "      <th>timestamp</th>\n",
       "    </tr>\n",
       "  </thead>\n",
       "  <tbody>\n",
       "    <tr>\n",
       "      <th>726677</th>\n",
       "      <td>4349</td>\n",
       "      <td>998</td>\n",
       "      <td>5</td>\n",
       "      <td>2000-08-02 11:32:44</td>\n",
       "    </tr>\n",
       "    <tr>\n",
       "      <th>726678</th>\n",
       "      <td>4349</td>\n",
       "      <td>241</td>\n",
       "      <td>4</td>\n",
       "      <td>2000-08-02 11:33:09</td>\n",
       "    </tr>\n",
       "    <tr>\n",
       "      <th>726679</th>\n",
       "      <td>4349</td>\n",
       "      <td>547</td>\n",
       "      <td>3</td>\n",
       "      <td>2000-08-02 11:33:27</td>\n",
       "    </tr>\n",
       "    <tr>\n",
       "      <th>726680</th>\n",
       "      <td>4349</td>\n",
       "      <td>1010</td>\n",
       "      <td>5</td>\n",
       "      <td>2000-08-02 11:33:49</td>\n",
       "    </tr>\n",
       "    <tr>\n",
       "      <th>726688</th>\n",
       "      <td>4349</td>\n",
       "      <td>1068</td>\n",
       "      <td>4</td>\n",
       "      <td>2000-08-02 11:41:47</td>\n",
       "    </tr>\n",
       "    <tr>\n",
       "      <th>726690</th>\n",
       "      <td>4349</td>\n",
       "      <td>546</td>\n",
       "      <td>4</td>\n",
       "      <td>2000-08-02 11:42:08</td>\n",
       "    </tr>\n",
       "    <tr>\n",
       "      <th>726694</th>\n",
       "      <td>4349</td>\n",
       "      <td>2241</td>\n",
       "      <td>5</td>\n",
       "      <td>2000-08-02 11:43:55</td>\n",
       "    </tr>\n",
       "    <tr>\n",
       "      <th>726707</th>\n",
       "      <td>4349</td>\n",
       "      <td>2451</td>\n",
       "      <td>3</td>\n",
       "      <td>2000-08-02 11:47:03</td>\n",
       "    </tr>\n",
       "    <tr>\n",
       "      <th>726717</th>\n",
       "      <td>4349</td>\n",
       "      <td>3163</td>\n",
       "      <td>3</td>\n",
       "      <td>2000-08-19 10:18:10</td>\n",
       "    </tr>\n",
       "    <tr>\n",
       "      <th>726724</th>\n",
       "      <td>4349</td>\n",
       "      <td>407</td>\n",
       "      <td>3</td>\n",
       "      <td>2000-08-19 10:27:53</td>\n",
       "    </tr>\n",
       "    <tr>\n",
       "      <th>726725</th>\n",
       "      <td>4349</td>\n",
       "      <td>1055</td>\n",
       "      <td>3</td>\n",
       "      <td>2000-08-19 10:28:19</td>\n",
       "    </tr>\n",
       "    <tr>\n",
       "      <th>726727</th>\n",
       "      <td>4349</td>\n",
       "      <td>3046</td>\n",
       "      <td>3</td>\n",
       "      <td>2000-08-19 10:28:51</td>\n",
       "    </tr>\n",
       "    <tr>\n",
       "      <th>726735</th>\n",
       "      <td>4349</td>\n",
       "      <td>2094</td>\n",
       "      <td>4</td>\n",
       "      <td>2000-10-08 12:10:13</td>\n",
       "    </tr>\n",
       "    <tr>\n",
       "      <th>726737</th>\n",
       "      <td>4349</td>\n",
       "      <td>630</td>\n",
       "      <td>3</td>\n",
       "      <td>2000-10-08 12:10:44</td>\n",
       "    </tr>\n",
       "    <tr>\n",
       "      <th>726740</th>\n",
       "      <td>4349</td>\n",
       "      <td>563</td>\n",
       "      <td>4</td>\n",
       "      <td>2000-11-25 11:27:42</td>\n",
       "    </tr>\n",
       "    <tr>\n",
       "      <th>726745</th>\n",
       "      <td>4349</td>\n",
       "      <td>2178</td>\n",
       "      <td>3</td>\n",
       "      <td>2000-11-25 11:30:59</td>\n",
       "    </tr>\n",
       "    <tr>\n",
       "      <th>726747</th>\n",
       "      <td>4349</td>\n",
       "      <td>3189</td>\n",
       "      <td>5</td>\n",
       "      <td>2000-11-25 11:31:54</td>\n",
       "    </tr>\n",
       "  </tbody>\n",
       "</table>\n",
       "</div>"
      ],
      "text/plain": [
       "        user_id  item_id  rating           timestamp\n",
       "726677     4349      998       5 2000-08-02 11:32:44\n",
       "726678     4349      241       4 2000-08-02 11:33:09\n",
       "726679     4349      547       3 2000-08-02 11:33:27\n",
       "726680     4349     1010       5 2000-08-02 11:33:49\n",
       "726688     4349     1068       4 2000-08-02 11:41:47\n",
       "726690     4349      546       4 2000-08-02 11:42:08\n",
       "726694     4349     2241       5 2000-08-02 11:43:55\n",
       "726707     4349     2451       3 2000-08-02 11:47:03\n",
       "726717     4349     3163       3 2000-08-19 10:18:10\n",
       "726724     4349      407       3 2000-08-19 10:27:53\n",
       "726725     4349     1055       3 2000-08-19 10:28:19\n",
       "726727     4349     3046       3 2000-08-19 10:28:51\n",
       "726735     4349     2094       4 2000-10-08 12:10:13\n",
       "726737     4349      630       3 2000-10-08 12:10:44\n",
       "726740     4349      563       4 2000-11-25 11:27:42\n",
       "726745     4349     2178       3 2000-11-25 11:30:59\n",
       "726747     4349     3189       5 2000-11-25 11:31:54"
      ]
     },
     "execution_count": 35,
     "metadata": {},
     "output_type": "execute_result"
    }
   ],
   "source": [
    "print('\\n Взаимодействия пользователя в test')\n",
    "test[test.user_id == 4349]"
   ]
  },
  {
   "cell_type": "markdown",
   "metadata": {
    "id": "2pwdOoJvtPSW"
   },
   "source": [
    "### Разбиение по времени."
   ]
  },
  {
   "cell_type": "code",
   "execution_count": 42,
   "metadata": {
    "id": "1LoULlaetS95"
   },
   "outputs": [],
   "source": [
    "from replay.splitters.time_splitter import TimeSplitter\n",
    "train, test = TimeSplitter(time_threshold='2000-11-25 11:30:10',\n",
    "                           drop_cold_items=True,\n",
    "                           drop_cold_users=True, query_column='user_id').split(data)"
   ]
  },
  {
   "cell_type": "code",
   "execution_count": 43,
   "metadata": {
    "colab": {
     "base_uri": "https://localhost:8080/"
    },
    "id": "29Zja4AuwzUr",
    "outputId": "b3e3e495-5501-44fc-c3cc-4102a8bd250b"
   },
   "outputs": [
    {
     "name": "stdout",
     "output_type": "stream",
     "text": [
      "Количество взаимодействий в train= 362701\n",
      "Количество юзеров в train = 5082\n",
      "Количество айтемов в train = 2965\n"
     ]
    }
   ],
   "source": [
    "print('Количество взаимодействий в train= {}'.format(len(train)))\n",
    "print('Количество юзеров в train = {}'.format(len(train.user_id.unique())))\n",
    "print('Количество айтемов в train = {}'.format(len(train.item_id.unique())))"
   ]
  },
  {
   "cell_type": "code",
   "execution_count": 44,
   "metadata": {
    "colab": {
     "base_uri": "https://localhost:8080/"
    },
    "id": "mhAfhvnzw0tR",
    "outputId": "ab02a688-867a-466d-e740-cb6bcf60f31b"
   },
   "outputs": [
    {
     "name": "stdout",
     "output_type": "stream",
     "text": [
      "Количество взаимодействий в test= 18204\n",
      "Количество юзеров в test = 544\n",
      "Количество айтемов в test = 2166\n"
     ]
    }
   ],
   "source": [
    "print('Количество взаимодействий в test= {}'.format(len(test)))\n",
    "print('Количество юзеров в test = {}'.format(len(test.user_id.unique())))\n",
    "print('Количество айтемов в test = {}'.format(len(test.item_id.unique())))"
   ]
  },
  {
   "cell_type": "code",
   "execution_count": 45,
   "metadata": {
    "colab": {
     "base_uri": "https://localhost:8080/",
     "height": 299
    },
    "id": "JzRGklVotkW9",
    "outputId": "17734aee-4e51-4ea3-ed87-90a83ba66f11"
   },
   "outputs": [
    {
     "name": "stdout",
     "output_type": "stream",
     "text": [
      "Взаимодействия пользователя до разбиения данных\n"
     ]
    },
    {
     "data": {
      "text/html": [
       "<div>\n",
       "<style scoped>\n",
       "    .dataframe tbody tr th:only-of-type {\n",
       "        vertical-align: middle;\n",
       "    }\n",
       "\n",
       "    .dataframe tbody tr th {\n",
       "        vertical-align: top;\n",
       "    }\n",
       "\n",
       "    .dataframe thead th {\n",
       "        text-align: right;\n",
       "    }\n",
       "</style>\n",
       "<table border=\"1\" class=\"dataframe\">\n",
       "  <thead>\n",
       "    <tr style=\"text-align: right;\">\n",
       "      <th></th>\n",
       "      <th>user_id</th>\n",
       "      <th>item_id</th>\n",
       "      <th>rating</th>\n",
       "      <th>timestamp</th>\n",
       "    </tr>\n",
       "  </thead>\n",
       "  <tbody>\n",
       "    <tr>\n",
       "      <th>726677</th>\n",
       "      <td>4349</td>\n",
       "      <td>998</td>\n",
       "      <td>5</td>\n",
       "      <td>2000-08-02 11:32:44</td>\n",
       "    </tr>\n",
       "    <tr>\n",
       "      <th>726678</th>\n",
       "      <td>4349</td>\n",
       "      <td>241</td>\n",
       "      <td>4</td>\n",
       "      <td>2000-08-02 11:33:09</td>\n",
       "    </tr>\n",
       "    <tr>\n",
       "      <th>726679</th>\n",
       "      <td>4349</td>\n",
       "      <td>547</td>\n",
       "      <td>3</td>\n",
       "      <td>2000-08-02 11:33:27</td>\n",
       "    </tr>\n",
       "    <tr>\n",
       "      <th>726680</th>\n",
       "      <td>4349</td>\n",
       "      <td>1010</td>\n",
       "      <td>5</td>\n",
       "      <td>2000-08-02 11:33:49</td>\n",
       "    </tr>\n",
       "    <tr>\n",
       "      <th>726681</th>\n",
       "      <td>4349</td>\n",
       "      <td>105</td>\n",
       "      <td>5</td>\n",
       "      <td>2000-08-02 11:34:06</td>\n",
       "    </tr>\n",
       "    <tr>\n",
       "      <th>...</th>\n",
       "      <td>...</td>\n",
       "      <td>...</td>\n",
       "      <td>...</td>\n",
       "      <td>...</td>\n",
       "    </tr>\n",
       "    <tr>\n",
       "      <th>726743</th>\n",
       "      <td>4349</td>\n",
       "      <td>2512</td>\n",
       "      <td>5</td>\n",
       "      <td>2000-11-25 11:30:10</td>\n",
       "    </tr>\n",
       "    <tr>\n",
       "      <th>726744</th>\n",
       "      <td>4349</td>\n",
       "      <td>423</td>\n",
       "      <td>3</td>\n",
       "      <td>2000-11-25 11:30:10</td>\n",
       "    </tr>\n",
       "    <tr>\n",
       "      <th>726745</th>\n",
       "      <td>4349</td>\n",
       "      <td>2178</td>\n",
       "      <td>3</td>\n",
       "      <td>2000-11-25 11:30:59</td>\n",
       "    </tr>\n",
       "    <tr>\n",
       "      <th>726746</th>\n",
       "      <td>4349</td>\n",
       "      <td>353</td>\n",
       "      <td>4</td>\n",
       "      <td>2000-11-25 11:31:27</td>\n",
       "    </tr>\n",
       "    <tr>\n",
       "      <th>726747</th>\n",
       "      <td>4349</td>\n",
       "      <td>3189</td>\n",
       "      <td>5</td>\n",
       "      <td>2000-11-25 11:31:54</td>\n",
       "    </tr>\n",
       "  </tbody>\n",
       "</table>\n",
       "<p>66 rows × 4 columns</p>\n",
       "</div>"
      ],
      "text/plain": [
       "        user_id  item_id  rating           timestamp\n",
       "726677     4349      998       5 2000-08-02 11:32:44\n",
       "726678     4349      241       4 2000-08-02 11:33:09\n",
       "726679     4349      547       3 2000-08-02 11:33:27\n",
       "726680     4349     1010       5 2000-08-02 11:33:49\n",
       "726681     4349      105       5 2000-08-02 11:34:06\n",
       "...         ...      ...     ...                 ...\n",
       "726743     4349     2512       5 2000-11-25 11:30:10\n",
       "726744     4349      423       3 2000-11-25 11:30:10\n",
       "726745     4349     2178       3 2000-11-25 11:30:59\n",
       "726746     4349      353       4 2000-11-25 11:31:27\n",
       "726747     4349     3189       5 2000-11-25 11:31:54\n",
       "\n",
       "[66 rows x 4 columns]"
      ]
     },
     "execution_count": 45,
     "metadata": {},
     "output_type": "execute_result"
    }
   ],
   "source": [
    "print('Взаимодействия пользователя до разбиения данных')\n",
    "data[data.user_id == 4349]"
   ]
  },
  {
   "cell_type": "code",
   "execution_count": 46,
   "metadata": {
    "colab": {
     "base_uri": "https://localhost:8080/",
     "height": 207
    },
    "id": "9O59aEmCtqMX",
    "outputId": "1ebd3c9e-2309-4ad2-9be5-ef615f25d668"
   },
   "outputs": [
    {
     "name": "stdout",
     "output_type": "stream",
     "text": [
      "Взаимодействия пользователя в train\n"
     ]
    },
    {
     "data": {
      "text/html": [
       "<div>\n",
       "<style scoped>\n",
       "    .dataframe tbody tr th:only-of-type {\n",
       "        vertical-align: middle;\n",
       "    }\n",
       "\n",
       "    .dataframe tbody tr th {\n",
       "        vertical-align: top;\n",
       "    }\n",
       "\n",
       "    .dataframe thead th {\n",
       "        text-align: right;\n",
       "    }\n",
       "</style>\n",
       "<table border=\"1\" class=\"dataframe\">\n",
       "  <thead>\n",
       "    <tr style=\"text-align: right;\">\n",
       "      <th></th>\n",
       "      <th>user_id</th>\n",
       "      <th>item_id</th>\n",
       "      <th>rating</th>\n",
       "      <th>timestamp</th>\n",
       "    </tr>\n",
       "  </thead>\n",
       "  <tbody>\n",
       "    <tr>\n",
       "      <th>726677</th>\n",
       "      <td>4349</td>\n",
       "      <td>998</td>\n",
       "      <td>5</td>\n",
       "      <td>2000-08-02 11:32:44</td>\n",
       "    </tr>\n",
       "    <tr>\n",
       "      <th>726678</th>\n",
       "      <td>4349</td>\n",
       "      <td>241</td>\n",
       "      <td>4</td>\n",
       "      <td>2000-08-02 11:33:09</td>\n",
       "    </tr>\n",
       "    <tr>\n",
       "      <th>726679</th>\n",
       "      <td>4349</td>\n",
       "      <td>547</td>\n",
       "      <td>3</td>\n",
       "      <td>2000-08-02 11:33:27</td>\n",
       "    </tr>\n",
       "    <tr>\n",
       "      <th>726680</th>\n",
       "      <td>4349</td>\n",
       "      <td>1010</td>\n",
       "      <td>5</td>\n",
       "      <td>2000-08-02 11:33:49</td>\n",
       "    </tr>\n",
       "    <tr>\n",
       "      <th>726681</th>\n",
       "      <td>4349</td>\n",
       "      <td>105</td>\n",
       "      <td>5</td>\n",
       "      <td>2000-08-02 11:34:06</td>\n",
       "    </tr>\n",
       "    <tr>\n",
       "      <th>...</th>\n",
       "      <td>...</td>\n",
       "      <td>...</td>\n",
       "      <td>...</td>\n",
       "      <td>...</td>\n",
       "    </tr>\n",
       "    <tr>\n",
       "      <th>726738</th>\n",
       "      <td>4349</td>\n",
       "      <td>502</td>\n",
       "      <td>5</td>\n",
       "      <td>2000-11-25 11:25:40</td>\n",
       "    </tr>\n",
       "    <tr>\n",
       "      <th>726739</th>\n",
       "      <td>4349</td>\n",
       "      <td>2309</td>\n",
       "      <td>3</td>\n",
       "      <td>2000-11-25 11:27:13</td>\n",
       "    </tr>\n",
       "    <tr>\n",
       "      <th>726740</th>\n",
       "      <td>4349</td>\n",
       "      <td>563</td>\n",
       "      <td>4</td>\n",
       "      <td>2000-11-25 11:27:42</td>\n",
       "    </tr>\n",
       "    <tr>\n",
       "      <th>726741</th>\n",
       "      <td>4349</td>\n",
       "      <td>1188</td>\n",
       "      <td>3</td>\n",
       "      <td>2000-11-25 11:28:02</td>\n",
       "    </tr>\n",
       "    <tr>\n",
       "      <th>726742</th>\n",
       "      <td>4349</td>\n",
       "      <td>1000</td>\n",
       "      <td>5</td>\n",
       "      <td>2000-11-25 11:29:26</td>\n",
       "    </tr>\n",
       "  </tbody>\n",
       "</table>\n",
       "<p>61 rows × 4 columns</p>\n",
       "</div>"
      ],
      "text/plain": [
       "        user_id  item_id  rating           timestamp\n",
       "726677     4349      998       5 2000-08-02 11:32:44\n",
       "726678     4349      241       4 2000-08-02 11:33:09\n",
       "726679     4349      547       3 2000-08-02 11:33:27\n",
       "726680     4349     1010       5 2000-08-02 11:33:49\n",
       "726681     4349      105       5 2000-08-02 11:34:06\n",
       "...         ...      ...     ...                 ...\n",
       "726738     4349      502       5 2000-11-25 11:25:40\n",
       "726739     4349     2309       3 2000-11-25 11:27:13\n",
       "726740     4349      563       4 2000-11-25 11:27:42\n",
       "726741     4349     1188       3 2000-11-25 11:28:02\n",
       "726742     4349     1000       5 2000-11-25 11:29:26\n",
       "\n",
       "[61 rows x 4 columns]"
      ]
     },
     "execution_count": 46,
     "metadata": {},
     "output_type": "execute_result"
    }
   ],
   "source": [
    "print('Взаимодействия пользователя в train')\n",
    "train[train.user_id == 4349]"
   ]
  },
  {
   "cell_type": "code",
   "execution_count": 47,
   "metadata": {
    "colab": {
     "base_uri": "https://localhost:8080/",
     "height": 193
    },
    "id": "KTp6CzbZj85t",
    "outputId": "0918cebf-7751-4def-dbf7-346f4def5dd6"
   },
   "outputs": [
    {
     "name": "stdout",
     "output_type": "stream",
     "text": [
      "\n",
      " Взаимодействия пользователя в test\n"
     ]
    },
    {
     "data": {
      "text/html": [
       "<div>\n",
       "<style scoped>\n",
       "    .dataframe tbody tr th:only-of-type {\n",
       "        vertical-align: middle;\n",
       "    }\n",
       "\n",
       "    .dataframe tbody tr th {\n",
       "        vertical-align: top;\n",
       "    }\n",
       "\n",
       "    .dataframe thead th {\n",
       "        text-align: right;\n",
       "    }\n",
       "</style>\n",
       "<table border=\"1\" class=\"dataframe\">\n",
       "  <thead>\n",
       "    <tr style=\"text-align: right;\">\n",
       "      <th></th>\n",
       "      <th>user_id</th>\n",
       "      <th>item_id</th>\n",
       "      <th>rating</th>\n",
       "      <th>timestamp</th>\n",
       "    </tr>\n",
       "  </thead>\n",
       "  <tbody>\n",
       "    <tr>\n",
       "      <th>726743</th>\n",
       "      <td>4349</td>\n",
       "      <td>2512</td>\n",
       "      <td>5</td>\n",
       "      <td>2000-11-25 11:30:10</td>\n",
       "    </tr>\n",
       "    <tr>\n",
       "      <th>726744</th>\n",
       "      <td>4349</td>\n",
       "      <td>423</td>\n",
       "      <td>3</td>\n",
       "      <td>2000-11-25 11:30:10</td>\n",
       "    </tr>\n",
       "    <tr>\n",
       "      <th>726745</th>\n",
       "      <td>4349</td>\n",
       "      <td>2178</td>\n",
       "      <td>3</td>\n",
       "      <td>2000-11-25 11:30:59</td>\n",
       "    </tr>\n",
       "    <tr>\n",
       "      <th>726746</th>\n",
       "      <td>4349</td>\n",
       "      <td>353</td>\n",
       "      <td>4</td>\n",
       "      <td>2000-11-25 11:31:27</td>\n",
       "    </tr>\n",
       "    <tr>\n",
       "      <th>726747</th>\n",
       "      <td>4349</td>\n",
       "      <td>3189</td>\n",
       "      <td>5</td>\n",
       "      <td>2000-11-25 11:31:54</td>\n",
       "    </tr>\n",
       "  </tbody>\n",
       "</table>\n",
       "</div>"
      ],
      "text/plain": [
       "        user_id  item_id  rating           timestamp\n",
       "726743     4349     2512       5 2000-11-25 11:30:10\n",
       "726744     4349      423       3 2000-11-25 11:30:10\n",
       "726745     4349     2178       3 2000-11-25 11:30:59\n",
       "726746     4349      353       4 2000-11-25 11:31:27\n",
       "726747     4349     3189       5 2000-11-25 11:31:54"
      ]
     },
     "execution_count": 47,
     "metadata": {},
     "output_type": "execute_result"
    }
   ],
   "source": [
    "print('\\n Взаимодействия пользователя в test')\n",
    "test[test.user_id == 4349]"
   ]
  },
  {
   "cell_type": "markdown",
   "metadata": {
    "id": "6jgG3cWNon_b"
   },
   "source": [
    "#### Last N splitter"
   ]
  },
  {
   "cell_type": "code",
   "execution_count": 48,
   "metadata": {
    "id": "9SwFw151on_b"
   },
   "outputs": [],
   "source": [
    "from replay.splitters.last_n_splitter import LastNSplitter\n",
    "train, test = LastNSplitter(N=2,\n",
    "                            drop_cold_items=True,\n",
    "                            drop_cold_users=True,\n",
    "                            divide_column=\"user_id\",\n",
    "                            query_column='user_id').split(data)"
   ]
  },
  {
   "cell_type": "code",
   "execution_count": 49,
   "metadata": {
    "colab": {
     "base_uri": "https://localhost:8080/"
    },
    "id": "Qxgi-hM6xO3F",
    "outputId": "098c2deb-4696-4e34-9b1a-7dece27a9e77"
   },
   "outputs": [
    {
     "name": "stdout",
     "output_type": "stream",
     "text": [
      "Количество взаимодействий в train= 438832\n",
      "Количество юзеров в train = 6038\n",
      "Количество айтемов в train = 2965\n"
     ]
    }
   ],
   "source": [
    "print('Количество взаимодействий в train= {}'.format(len(train)))\n",
    "print('Количество юзеров в train = {}'.format(len(train.user_id.unique())))\n",
    "print('Количество айтемов в train = {}'.format(len(train.item_id.unique())))"
   ]
  },
  {
   "cell_type": "code",
   "execution_count": 50,
   "metadata": {
    "colab": {
     "base_uri": "https://localhost:8080/"
    },
    "id": "kFWwdmntxPI6",
    "outputId": "0ccde29f-b68f-4e50-9a36-3d357e0d0e70"
   },
   "outputs": [
    {
     "name": "stdout",
     "output_type": "stream",
     "text": [
      "Количество взаимодействий в test= 12076\n",
      "Количество юзеров в test = 6038\n",
      "Количество айтемов в test = 2154\n"
     ]
    }
   ],
   "source": [
    "print('Количество взаимодействий в test= {}'.format(len(test)))\n",
    "print('Количество юзеров в test = {}'.format(len(test.user_id.unique())))\n",
    "print('Количество айтемов в test = {}'.format(len(test.item_id.unique())))"
   ]
  },
  {
   "cell_type": "code",
   "execution_count": 51,
   "metadata": {
    "colab": {
     "base_uri": "https://localhost:8080/",
     "height": 299
    },
    "id": "OFQTru4ixQgB",
    "outputId": "4235a7e8-7a28-4541-ad50-14d0bc7f3322"
   },
   "outputs": [
    {
     "name": "stdout",
     "output_type": "stream",
     "text": [
      "Взаимодействия пользователя до разбиения данных\n"
     ]
    },
    {
     "data": {
      "text/html": [
       "<div>\n",
       "<style scoped>\n",
       "    .dataframe tbody tr th:only-of-type {\n",
       "        vertical-align: middle;\n",
       "    }\n",
       "\n",
       "    .dataframe tbody tr th {\n",
       "        vertical-align: top;\n",
       "    }\n",
       "\n",
       "    .dataframe thead th {\n",
       "        text-align: right;\n",
       "    }\n",
       "</style>\n",
       "<table border=\"1\" class=\"dataframe\">\n",
       "  <thead>\n",
       "    <tr style=\"text-align: right;\">\n",
       "      <th></th>\n",
       "      <th>user_id</th>\n",
       "      <th>item_id</th>\n",
       "      <th>rating</th>\n",
       "      <th>timestamp</th>\n",
       "    </tr>\n",
       "  </thead>\n",
       "  <tbody>\n",
       "    <tr>\n",
       "      <th>726677</th>\n",
       "      <td>4349</td>\n",
       "      <td>998</td>\n",
       "      <td>5</td>\n",
       "      <td>2000-08-02 11:32:44</td>\n",
       "    </tr>\n",
       "    <tr>\n",
       "      <th>726678</th>\n",
       "      <td>4349</td>\n",
       "      <td>241</td>\n",
       "      <td>4</td>\n",
       "      <td>2000-08-02 11:33:09</td>\n",
       "    </tr>\n",
       "    <tr>\n",
       "      <th>726679</th>\n",
       "      <td>4349</td>\n",
       "      <td>547</td>\n",
       "      <td>3</td>\n",
       "      <td>2000-08-02 11:33:27</td>\n",
       "    </tr>\n",
       "    <tr>\n",
       "      <th>726680</th>\n",
       "      <td>4349</td>\n",
       "      <td>1010</td>\n",
       "      <td>5</td>\n",
       "      <td>2000-08-02 11:33:49</td>\n",
       "    </tr>\n",
       "    <tr>\n",
       "      <th>726681</th>\n",
       "      <td>4349</td>\n",
       "      <td>105</td>\n",
       "      <td>5</td>\n",
       "      <td>2000-08-02 11:34:06</td>\n",
       "    </tr>\n",
       "    <tr>\n",
       "      <th>...</th>\n",
       "      <td>...</td>\n",
       "      <td>...</td>\n",
       "      <td>...</td>\n",
       "      <td>...</td>\n",
       "    </tr>\n",
       "    <tr>\n",
       "      <th>726743</th>\n",
       "      <td>4349</td>\n",
       "      <td>2512</td>\n",
       "      <td>5</td>\n",
       "      <td>2000-11-25 11:30:10</td>\n",
       "    </tr>\n",
       "    <tr>\n",
       "      <th>726744</th>\n",
       "      <td>4349</td>\n",
       "      <td>423</td>\n",
       "      <td>3</td>\n",
       "      <td>2000-11-25 11:30:10</td>\n",
       "    </tr>\n",
       "    <tr>\n",
       "      <th>726745</th>\n",
       "      <td>4349</td>\n",
       "      <td>2178</td>\n",
       "      <td>3</td>\n",
       "      <td>2000-11-25 11:30:59</td>\n",
       "    </tr>\n",
       "    <tr>\n",
       "      <th>726746</th>\n",
       "      <td>4349</td>\n",
       "      <td>353</td>\n",
       "      <td>4</td>\n",
       "      <td>2000-11-25 11:31:27</td>\n",
       "    </tr>\n",
       "    <tr>\n",
       "      <th>726747</th>\n",
       "      <td>4349</td>\n",
       "      <td>3189</td>\n",
       "      <td>5</td>\n",
       "      <td>2000-11-25 11:31:54</td>\n",
       "    </tr>\n",
       "  </tbody>\n",
       "</table>\n",
       "<p>66 rows × 4 columns</p>\n",
       "</div>"
      ],
      "text/plain": [
       "        user_id  item_id  rating           timestamp\n",
       "726677     4349      998       5 2000-08-02 11:32:44\n",
       "726678     4349      241       4 2000-08-02 11:33:09\n",
       "726679     4349      547       3 2000-08-02 11:33:27\n",
       "726680     4349     1010       5 2000-08-02 11:33:49\n",
       "726681     4349      105       5 2000-08-02 11:34:06\n",
       "...         ...      ...     ...                 ...\n",
       "726743     4349     2512       5 2000-11-25 11:30:10\n",
       "726744     4349      423       3 2000-11-25 11:30:10\n",
       "726745     4349     2178       3 2000-11-25 11:30:59\n",
       "726746     4349      353       4 2000-11-25 11:31:27\n",
       "726747     4349     3189       5 2000-11-25 11:31:54\n",
       "\n",
       "[66 rows x 4 columns]"
      ]
     },
     "execution_count": 51,
     "metadata": {},
     "output_type": "execute_result"
    }
   ],
   "source": [
    "print('Взаимодействия пользователя до разбиения данных')\n",
    "data[data.user_id == 4349]"
   ]
  },
  {
   "cell_type": "code",
   "execution_count": 52,
   "metadata": {
    "colab": {
     "base_uri": "https://localhost:8080/",
     "height": 238
    },
    "id": "bU1pH59BxxKC",
    "outputId": "b09cab05-d323-4844-97cf-5ccb30f7ecad"
   },
   "outputs": [
    {
     "name": "stdout",
     "output_type": "stream",
     "text": [
      "Взаимодействия пользователя в train\n"
     ]
    },
    {
     "data": {
      "text/html": [
       "<div>\n",
       "<style scoped>\n",
       "    .dataframe tbody tr th:only-of-type {\n",
       "        vertical-align: middle;\n",
       "    }\n",
       "\n",
       "    .dataframe tbody tr th {\n",
       "        vertical-align: top;\n",
       "    }\n",
       "\n",
       "    .dataframe thead th {\n",
       "        text-align: right;\n",
       "    }\n",
       "</style>\n",
       "<table border=\"1\" class=\"dataframe\">\n",
       "  <thead>\n",
       "    <tr style=\"text-align: right;\">\n",
       "      <th></th>\n",
       "      <th>user_id</th>\n",
       "      <th>item_id</th>\n",
       "      <th>rating</th>\n",
       "      <th>timestamp</th>\n",
       "    </tr>\n",
       "  </thead>\n",
       "  <tbody>\n",
       "    <tr>\n",
       "      <th>726677</th>\n",
       "      <td>4349</td>\n",
       "      <td>998</td>\n",
       "      <td>5</td>\n",
       "      <td>2000-08-02 11:32:44</td>\n",
       "    </tr>\n",
       "    <tr>\n",
       "      <th>726678</th>\n",
       "      <td>4349</td>\n",
       "      <td>241</td>\n",
       "      <td>4</td>\n",
       "      <td>2000-08-02 11:33:09</td>\n",
       "    </tr>\n",
       "    <tr>\n",
       "      <th>726679</th>\n",
       "      <td>4349</td>\n",
       "      <td>547</td>\n",
       "      <td>3</td>\n",
       "      <td>2000-08-02 11:33:27</td>\n",
       "    </tr>\n",
       "    <tr>\n",
       "      <th>726680</th>\n",
       "      <td>4349</td>\n",
       "      <td>1010</td>\n",
       "      <td>5</td>\n",
       "      <td>2000-08-02 11:33:49</td>\n",
       "    </tr>\n",
       "    <tr>\n",
       "      <th>726681</th>\n",
       "      <td>4349</td>\n",
       "      <td>105</td>\n",
       "      <td>5</td>\n",
       "      <td>2000-08-02 11:34:06</td>\n",
       "    </tr>\n",
       "    <tr>\n",
       "      <th>...</th>\n",
       "      <td>...</td>\n",
       "      <td>...</td>\n",
       "      <td>...</td>\n",
       "      <td>...</td>\n",
       "    </tr>\n",
       "    <tr>\n",
       "      <th>726741</th>\n",
       "      <td>4349</td>\n",
       "      <td>1188</td>\n",
       "      <td>3</td>\n",
       "      <td>2000-11-25 11:28:02</td>\n",
       "    </tr>\n",
       "    <tr>\n",
       "      <th>726742</th>\n",
       "      <td>4349</td>\n",
       "      <td>1000</td>\n",
       "      <td>5</td>\n",
       "      <td>2000-11-25 11:29:26</td>\n",
       "    </tr>\n",
       "    <tr>\n",
       "      <th>726743</th>\n",
       "      <td>4349</td>\n",
       "      <td>2512</td>\n",
       "      <td>5</td>\n",
       "      <td>2000-11-25 11:30:10</td>\n",
       "    </tr>\n",
       "    <tr>\n",
       "      <th>726744</th>\n",
       "      <td>4349</td>\n",
       "      <td>423</td>\n",
       "      <td>3</td>\n",
       "      <td>2000-11-25 11:30:10</td>\n",
       "    </tr>\n",
       "    <tr>\n",
       "      <th>726745</th>\n",
       "      <td>4349</td>\n",
       "      <td>2178</td>\n",
       "      <td>3</td>\n",
       "      <td>2000-11-25 11:30:59</td>\n",
       "    </tr>\n",
       "  </tbody>\n",
       "</table>\n",
       "<p>64 rows × 4 columns</p>\n",
       "</div>"
      ],
      "text/plain": [
       "        user_id  item_id  rating           timestamp\n",
       "726677     4349      998       5 2000-08-02 11:32:44\n",
       "726678     4349      241       4 2000-08-02 11:33:09\n",
       "726679     4349      547       3 2000-08-02 11:33:27\n",
       "726680     4349     1010       5 2000-08-02 11:33:49\n",
       "726681     4349      105       5 2000-08-02 11:34:06\n",
       "...         ...      ...     ...                 ...\n",
       "726741     4349     1188       3 2000-11-25 11:28:02\n",
       "726742     4349     1000       5 2000-11-25 11:29:26\n",
       "726743     4349     2512       5 2000-11-25 11:30:10\n",
       "726744     4349      423       3 2000-11-25 11:30:10\n",
       "726745     4349     2178       3 2000-11-25 11:30:59\n",
       "\n",
       "[64 rows x 4 columns]"
      ]
     },
     "execution_count": 52,
     "metadata": {},
     "output_type": "execute_result"
    }
   ],
   "source": [
    "print('Взаимодействия пользователя в train')\n",
    "train[train.user_id == 4349]"
   ]
  },
  {
   "cell_type": "code",
   "execution_count": 53,
   "metadata": {
    "colab": {
     "base_uri": "https://localhost:8080/",
     "height": 163
    },
    "id": "v2xmZaUQE8_x",
    "outputId": "5f0ad42a-b7de-4ef3-ef28-54ac0ae9dd55"
   },
   "outputs": [
    {
     "name": "stdout",
     "output_type": "stream",
     "text": [
      "\n",
      " Взаимодействия пользователя в test\n"
     ]
    },
    {
     "data": {
      "text/html": [
       "<div>\n",
       "<style scoped>\n",
       "    .dataframe tbody tr th:only-of-type {\n",
       "        vertical-align: middle;\n",
       "    }\n",
       "\n",
       "    .dataframe tbody tr th {\n",
       "        vertical-align: top;\n",
       "    }\n",
       "\n",
       "    .dataframe thead th {\n",
       "        text-align: right;\n",
       "    }\n",
       "</style>\n",
       "<table border=\"1\" class=\"dataframe\">\n",
       "  <thead>\n",
       "    <tr style=\"text-align: right;\">\n",
       "      <th></th>\n",
       "      <th>user_id</th>\n",
       "      <th>item_id</th>\n",
       "      <th>rating</th>\n",
       "      <th>timestamp</th>\n",
       "    </tr>\n",
       "  </thead>\n",
       "  <tbody>\n",
       "    <tr>\n",
       "      <th>726746</th>\n",
       "      <td>4349</td>\n",
       "      <td>353</td>\n",
       "      <td>4</td>\n",
       "      <td>2000-11-25 11:31:27</td>\n",
       "    </tr>\n",
       "    <tr>\n",
       "      <th>726747</th>\n",
       "      <td>4349</td>\n",
       "      <td>3189</td>\n",
       "      <td>5</td>\n",
       "      <td>2000-11-25 11:31:54</td>\n",
       "    </tr>\n",
       "  </tbody>\n",
       "</table>\n",
       "</div>"
      ],
      "text/plain": [
       "        user_id  item_id  rating           timestamp\n",
       "726746     4349      353       4 2000-11-25 11:31:27\n",
       "726747     4349     3189       5 2000-11-25 11:31:54"
      ]
     },
     "execution_count": 53,
     "metadata": {},
     "output_type": "execute_result"
    }
   ],
   "source": [
    "print('\\n Взаимодействия пользователя в test')\n",
    "test[test.user_id == 4349]"
   ]
  },
  {
   "cell_type": "markdown",
   "metadata": {
    "id": "L6YjxQERwCK8"
   },
   "source": [
    "### Класс Dataset"
   ]
  },
  {
   "cell_type": "code",
   "execution_count": 54,
   "metadata": {
    "id": "5exdk1ocx4eU"
   },
   "outputs": [],
   "source": [
    "from replay.data.dataset import Dataset, FeatureSchema, FeatureInfo, FeatureHint, FeatureType\n",
    "from replay.data.dataset_utils import DatasetLabelEncoder"
   ]
  },
  {
   "cell_type": "code",
   "execution_count": 55,
   "metadata": {
    "id": "-vTz6khUBxgK"
   },
   "outputs": [],
   "source": [
    "feature_schema = FeatureSchema(\n",
    "     [\n",
    "         FeatureInfo(\n",
    "             column=\"user_id\",\n",
    "             feature_type=FeatureType.CATEGORICAL,\n",
    "             feature_hint=FeatureHint.QUERY_ID,\n",
    "         ),\n",
    "         FeatureInfo(\n",
    "             column=\"item_id\",\n",
    "             feature_type=FeatureType.CATEGORICAL,\n",
    "             feature_hint=FeatureHint.ITEM_ID,\n",
    "         ),\n",
    "        FeatureInfo(\n",
    "            column=\"rating\",\n",
    "            feature_type=FeatureType.NUMERICAL,\n",
    "            feature_hint=FeatureHint.RATING,\n",
    "         ),\n",
    "     ]\n",
    ")\n",
    "train_dataset = Dataset(feature_schema, train)\n",
    "test_dataset = Dataset(feature_schema, test)"
   ]
  },
  {
   "cell_type": "code",
   "execution_count": 56,
   "metadata": {
    "colab": {
     "base_uri": "https://localhost:8080/",
     "height": 433
    },
    "id": "uUUV5eEe4np-",
    "outputId": "788a0b9b-2a24-4393-be82-d316ec8976aa"
   },
   "outputs": [
    {
     "data": {
      "text/html": [
       "<div>\n",
       "<style scoped>\n",
       "    .dataframe tbody tr th:only-of-type {\n",
       "        vertical-align: middle;\n",
       "    }\n",
       "\n",
       "    .dataframe tbody tr th {\n",
       "        vertical-align: top;\n",
       "    }\n",
       "\n",
       "    .dataframe thead th {\n",
       "        text-align: right;\n",
       "    }\n",
       "</style>\n",
       "<table border=\"1\" class=\"dataframe\">\n",
       "  <thead>\n",
       "    <tr style=\"text-align: right;\">\n",
       "      <th></th>\n",
       "      <th>user_id</th>\n",
       "      <th>item_id</th>\n",
       "      <th>rating</th>\n",
       "      <th>timestamp</th>\n",
       "    </tr>\n",
       "  </thead>\n",
       "  <tbody>\n",
       "    <tr>\n",
       "      <th>51</th>\n",
       "      <td>0</td>\n",
       "      <td>1578</td>\n",
       "      <td>4</td>\n",
       "      <td>2001-01-07 02:38:50</td>\n",
       "    </tr>\n",
       "    <tr>\n",
       "      <th>52</th>\n",
       "      <td>0</td>\n",
       "      <td>46</td>\n",
       "      <td>5</td>\n",
       "      <td>2001-01-07 02:39:11</td>\n",
       "    </tr>\n",
       "    <tr>\n",
       "      <th>180</th>\n",
       "      <td>1</td>\n",
       "      <td>1300</td>\n",
       "      <td>4</td>\n",
       "      <td>2001-01-01 01:02:54</td>\n",
       "    </tr>\n",
       "    <tr>\n",
       "      <th>181</th>\n",
       "      <td>1</td>\n",
       "      <td>1586</td>\n",
       "      <td>3</td>\n",
       "      <td>2001-01-01 01:02:54</td>\n",
       "    </tr>\n",
       "    <tr>\n",
       "      <th>231</th>\n",
       "      <td>2</td>\n",
       "      <td>3339</td>\n",
       "      <td>3</td>\n",
       "      <td>2001-01-01 00:34:46</td>\n",
       "    </tr>\n",
       "    <tr>\n",
       "      <th>...</th>\n",
       "      <td>...</td>\n",
       "      <td>...</td>\n",
       "      <td>...</td>\n",
       "      <td>...</td>\n",
       "    </tr>\n",
       "    <tr>\n",
       "      <th>999146</th>\n",
       "      <td>6037</td>\n",
       "      <td>984</td>\n",
       "      <td>5</td>\n",
       "      <td>2000-04-26 06:46:44</td>\n",
       "    </tr>\n",
       "    <tr>\n",
       "      <th>999268</th>\n",
       "      <td>6038</td>\n",
       "      <td>1004</td>\n",
       "      <td>5</td>\n",
       "      <td>2000-04-26 18:07:09</td>\n",
       "    </tr>\n",
       "    <tr>\n",
       "      <th>999269</th>\n",
       "      <td>6038</td>\n",
       "      <td>1052</td>\n",
       "      <td>4</td>\n",
       "      <td>2000-04-26 18:07:09</td>\n",
       "    </tr>\n",
       "    <tr>\n",
       "      <th>999395</th>\n",
       "      <td>6039</td>\n",
       "      <td>1634</td>\n",
       "      <td>4</td>\n",
       "      <td>2000-04-26 06:24:25</td>\n",
       "    </tr>\n",
       "    <tr>\n",
       "      <th>999398</th>\n",
       "      <td>6039</td>\n",
       "      <td>1112</td>\n",
       "      <td>3</td>\n",
       "      <td>2000-04-26 06:24:48</td>\n",
       "    </tr>\n",
       "  </tbody>\n",
       "</table>\n",
       "<p>12076 rows × 4 columns</p>\n",
       "</div>"
      ],
      "text/plain": [
       "        user_id  item_id  rating           timestamp\n",
       "51            0     1578       4 2001-01-07 02:38:50\n",
       "52            0       46       5 2001-01-07 02:39:11\n",
       "180           1     1300       4 2001-01-01 01:02:54\n",
       "181           1     1586       3 2001-01-01 01:02:54\n",
       "231           2     3339       3 2001-01-01 00:34:46\n",
       "...         ...      ...     ...                 ...\n",
       "999146     6037      984       5 2000-04-26 06:46:44\n",
       "999268     6038     1004       5 2000-04-26 18:07:09\n",
       "999269     6038     1052       4 2000-04-26 18:07:09\n",
       "999395     6039     1634       4 2000-04-26 06:24:25\n",
       "999398     6039     1112       3 2000-04-26 06:24:48\n",
       "\n",
       "[12076 rows x 4 columns]"
      ]
     },
     "execution_count": 56,
     "metadata": {},
     "output_type": "execute_result"
    }
   ],
   "source": [
    "test_dataset.interactions"
   ]
  },
  {
   "cell_type": "markdown",
   "metadata": {
    "id": "1TSWHi6jxtJC"
   },
   "source": [
    "Применяем LabelEncoder"
   ]
  },
  {
   "cell_type": "code",
   "execution_count": 57,
   "metadata": {
    "colab": {
     "base_uri": "https://localhost:8080/"
    },
    "id": "2-2XZ-2dxquC",
    "outputId": "f3a9e925-08a9-4dcc-a9c3-a83d63032880"
   },
   "outputs": [
    {
     "data": {
      "text/plain": [
       "<replay.data.dataset_utils.dataset_label_encoder.DatasetLabelEncoder at 0x7feb9cd534f0>"
      ]
     },
     "execution_count": 57,
     "metadata": {},
     "output_type": "execute_result"
    }
   ],
   "source": [
    "encoder = DatasetLabelEncoder()\n",
    "encoder.fit(train_dataset)"
   ]
  },
  {
   "cell_type": "code",
   "execution_count": 58,
   "metadata": {
    "id": "YJt8syW6xvWP"
   },
   "outputs": [],
   "source": [
    "train_dataset = encoder.transform(train_dataset)\n",
    "test_dataset = encoder.transform(test_dataset)"
   ]
  },
  {
   "cell_type": "code",
   "execution_count": 59,
   "metadata": {
    "colab": {
     "base_uri": "https://localhost:8080/",
     "height": 433
    },
    "id": "YZKKaC243frP",
    "outputId": "79056629-6aa8-4775-b033-1e518b99573f"
   },
   "outputs": [
    {
     "data": {
      "text/html": [
       "<div>\n",
       "<style scoped>\n",
       "    .dataframe tbody tr th:only-of-type {\n",
       "        vertical-align: middle;\n",
       "    }\n",
       "\n",
       "    .dataframe tbody tr th {\n",
       "        vertical-align: top;\n",
       "    }\n",
       "\n",
       "    .dataframe thead th {\n",
       "        text-align: right;\n",
       "    }\n",
       "</style>\n",
       "<table border=\"1\" class=\"dataframe\">\n",
       "  <thead>\n",
       "    <tr style=\"text-align: right;\">\n",
       "      <th></th>\n",
       "      <th>rating</th>\n",
       "      <th>timestamp</th>\n",
       "      <th>user_id</th>\n",
       "      <th>item_id</th>\n",
       "    </tr>\n",
       "  </thead>\n",
       "  <tbody>\n",
       "    <tr>\n",
       "      <th>51</th>\n",
       "      <td>4</td>\n",
       "      <td>2001-01-07 02:38:50</td>\n",
       "      <td>0</td>\n",
       "      <td>1081</td>\n",
       "    </tr>\n",
       "    <tr>\n",
       "      <th>52</th>\n",
       "      <td>5</td>\n",
       "      <td>2001-01-07 02:39:11</td>\n",
       "      <td>0</td>\n",
       "      <td>308</td>\n",
       "    </tr>\n",
       "    <tr>\n",
       "      <th>180</th>\n",
       "      <td>4</td>\n",
       "      <td>2001-01-01 01:02:54</td>\n",
       "      <td>1</td>\n",
       "      <td>451</td>\n",
       "    </tr>\n",
       "    <tr>\n",
       "      <th>181</th>\n",
       "      <td>3</td>\n",
       "      <td>2001-01-01 01:02:54</td>\n",
       "      <td>1</td>\n",
       "      <td>846</td>\n",
       "    </tr>\n",
       "    <tr>\n",
       "      <th>231</th>\n",
       "      <td>3</td>\n",
       "      <td>2001-01-01 00:34:46</td>\n",
       "      <td>2</td>\n",
       "      <td>470</td>\n",
       "    </tr>\n",
       "    <tr>\n",
       "      <th>...</th>\n",
       "      <td>...</td>\n",
       "      <td>...</td>\n",
       "      <td>...</td>\n",
       "      <td>...</td>\n",
       "    </tr>\n",
       "    <tr>\n",
       "      <th>999146</th>\n",
       "      <td>5</td>\n",
       "      <td>2000-04-26 06:46:44</td>\n",
       "      <td>6035</td>\n",
       "      <td>1108</td>\n",
       "    </tr>\n",
       "    <tr>\n",
       "      <th>999268</th>\n",
       "      <td>5</td>\n",
       "      <td>2000-04-26 18:07:09</td>\n",
       "      <td>6036</td>\n",
       "      <td>458</td>\n",
       "    </tr>\n",
       "    <tr>\n",
       "      <th>999269</th>\n",
       "      <td>4</td>\n",
       "      <td>2000-04-26 18:07:09</td>\n",
       "      <td>6036</td>\n",
       "      <td>476</td>\n",
       "    </tr>\n",
       "    <tr>\n",
       "      <th>999395</th>\n",
       "      <td>4</td>\n",
       "      <td>2000-04-26 06:24:25</td>\n",
       "      <td>6037</td>\n",
       "      <td>816</td>\n",
       "    </tr>\n",
       "    <tr>\n",
       "      <th>999398</th>\n",
       "      <td>3</td>\n",
       "      <td>2000-04-26 06:24:48</td>\n",
       "      <td>6037</td>\n",
       "      <td>743</td>\n",
       "    </tr>\n",
       "  </tbody>\n",
       "</table>\n",
       "<p>12076 rows × 4 columns</p>\n",
       "</div>"
      ],
      "text/plain": [
       "        rating           timestamp  user_id  item_id\n",
       "51           4 2001-01-07 02:38:50        0     1081\n",
       "52           5 2001-01-07 02:39:11        0      308\n",
       "180          4 2001-01-01 01:02:54        1      451\n",
       "181          3 2001-01-01 01:02:54        1      846\n",
       "231          3 2001-01-01 00:34:46        2      470\n",
       "...        ...                 ...      ...      ...\n",
       "999146       5 2000-04-26 06:46:44     6035     1108\n",
       "999268       5 2000-04-26 18:07:09     6036      458\n",
       "999269       4 2000-04-26 18:07:09     6036      476\n",
       "999395       4 2000-04-26 06:24:25     6037      816\n",
       "999398       3 2000-04-26 06:24:48     6037      743\n",
       "\n",
       "[12076 rows x 4 columns]"
      ]
     },
     "execution_count": 59,
     "metadata": {},
     "output_type": "execute_result"
    }
   ],
   "source": [
    "test_dataset.interactions"
   ]
  }
 ],
 "metadata": {
  "colab": {
   "provenance": []
  },
  "kernelspec": {
   "display_name": "Pem_39",
   "language": "python",
   "name": "seq_39"
  },
  "language_info": {
   "codemirror_mode": {
    "name": "ipython",
    "version": 3
   },
   "file_extension": ".py",
   "mimetype": "text/x-python",
   "name": "python",
   "nbconvert_exporter": "python",
   "pygments_lexer": "ipython3",
   "version": "3.9.19"
  }
 },
 "nbformat": 4,
 "nbformat_minor": 4
}
